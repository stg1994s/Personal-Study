{
 "cells": [
  {
   "cell_type": "markdown",
   "id": "0f54244f",
   "metadata": {},
   "source": [
    "# Python 기본 - dict 생성"
   ]
  },
  {
   "cell_type": "code",
   "execution_count": 2,
   "id": "d92da43e",
   "metadata": {},
   "outputs": [
    {
     "name": "stdout",
     "output_type": "stream",
     "text": [
      "{'key1': 100, 'key2': 200, 'key3': 300}\n",
      "{'name': '홍길동', 'age': 35, 'address': '서울시'}\n",
      "홍길동\n",
      "<class 'dict'> <class 'dict'>\n",
      "{'name': '홍길동', 'age': 45, 'address': '서울시'}\n"
     ]
    }
   ],
   "source": [
    "# (1) dict 생성 방법1\n",
    "dic = dict(key1 = 100, key2 = 200, key3 = 300)\n",
    "print(dic)\n",
    "\n",
    "# (2) dict 생성 방법2\n",
    "person = {'name' : '홍길동', 'age': 35, 'address' : '서울시'}\n",
    "print(person)\n",
    "print(person['name'])\n",
    "print(type(dic), type(person) )\n",
    "\n",
    "# (3) 원소를 수정하고 삭제, 추가\n",
    "# dict 원소 수정\n",
    "person['age'] = 45\n",
    "print(person)\n",
    "\n",
    "# dict 원소 삭제\n",
    "# 사전 형식으로 비순서 형태를 갖는 열거형 객체를 생성할 수 있다.\n",
    "del person['address']"
   ]
  },
  {
   "cell_type": "code",
   "execution_count": null,
   "id": "b1ac8570",
   "metadata": {},
   "outputs": [],
   "source": []
  }
 ],
 "metadata": {
  "kernelspec": {
   "display_name": "Python 3",
   "language": "python",
   "name": "python3"
  },
  "language_info": {
   "codemirror_mode": {
    "name": "ipython",
    "version": 3
   },
   "file_extension": ".py",
   "mimetype": "text/x-python",
   "name": "python",
   "nbconvert_exporter": "python",
   "pygments_lexer": "ipython3",
   "version": "3.8.8"
  }
 },
 "nbformat": 4,
 "nbformat_minor": 5
}
