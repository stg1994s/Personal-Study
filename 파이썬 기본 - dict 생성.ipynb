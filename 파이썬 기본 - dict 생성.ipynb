# (1) dict 생성 방법1
dic = dict(key1 = 100, key2 = 200, key3 = 300)
print(dic)

# (2) dict 생성 방법2
person = {'name' : '홍길동', 'age': 35, 'address' : '서울시'}
print(person)
print(person['name'])
print(type(dic), type(person) )

# (3) 원소를 수정하고 삭제, 추가
# dict 원소 수정
person['age'] = 45
print(person)

# dict 원소 삭제
# 사전 형식으로 비순서 형태를 갖는 열거형 객체를 생성할 수 있다.
del person['address']
