{
 "cells": [
  {
   "cell_type": "markdown",
   "id": "e2c92308",
   "metadata": {},
   "source": [
    "## XOR에 대해서 학습할 시간. 우선, XOR은 무엇인가. 정의부터 알아봐야 한다."
   ]
  },
  {
   "cell_type": "markdown",
   "id": "ea66b7d7",
   "metadata": {},
   "source": [
    "<img src=XOR.PNG>"
   ]
  },
  {
   "cell_type": "markdown",
   "id": "0b847f4b",
   "metadata": {},
   "source": [
    "### DEEP LEARNING은 기본적으로 NEURAL NETWORK(NN)를 기반으로 하며, 머신러닝을 더욱 완전하게 만드는 방법으로 볼 수 있다고 한다.\n",
    "### 따라서, 위의 그림은 x1과 x2 값에 따른 y의 값을 유동적으로 나타내고 있다.\n",
    "### 그림과 같이 OR, AND 그래프에서는 데이터를 분류할 수 있는 Linear 라인을 정의할 수 있다..\n",
    "#### 그러나 핵심은 XOR 그래프에서는 불가능하다는 거다.\n",
    "#### 이러한 XOR 문제를 해결하기 위한 방법이 바로 딥러닝이며, BackPropagation 알고리즘을 사용합니다.\n",
    "\n",
    "### XOR 문제를 해결하기 위해선 두 개의 퍼셉트론을 한번에 계산할 수 있어야 한다. 이것이 바로 은닉층 (Hidden layer)를 만들어야 한다."
   ]
  },
  {
   "cell_type": "code",
   "execution_count": 4,
   "id": "7f7a5769",
   "metadata": {},
   "outputs": [],
   "source": [
    "import numpy as np\n",
    "\n",
    "# 가중치와 바이어스 설정.\n",
    "w11 = np.array([-2, -2])\n",
    "w12 = np.array([2, 2])\n",
    "w2 = np.array([1, 1])\n",
    "b1 = 3\n",
    "b2 = -1\n",
    "b3 = -1"
   ]
  },
  {
   "cell_type": "markdown",
   "id": "c2826382",
   "metadata": {},
   "source": [
    "### 주어진 가중치와 바이어스를 이용해 XOR문제를 해결하는 코딩을 짜보자."
   ]
  },
  {
   "cell_type": "code",
   "execution_count": 2,
   "id": "c4f40986",
   "metadata": {},
   "outputs": [],
   "source": [
    "# 퍼셉트론\n",
    "def MLP(x, w, b):\n",
    "    y = np.sum(w * x) + b\n",
    "    if y <= 0:\n",
    "        return 0\n",
    "    else:\n",
    "        return 1"
   ]
  },
  {
   "cell_type": "markdown",
   "id": "0b6b30b6",
   "metadata": {},
   "source": [
    "#### 0과 1중에서 값을 출력하게 하는 퍼셉트론 함수를 만들어 주자."
   ]
  },
  {
   "cell_type": "code",
   "execution_count": 3,
   "id": "a123c28d",
   "metadata": {},
   "outputs": [
    {
     "name": "stdout",
     "output_type": "stream",
     "text": [
      "입력 값: (0, 0) 출력 값: 0\n",
      "입력 값: (1, 0) 출력 값: 1\n",
      "입력 값: (0, 1) 출력 값: 1\n",
      "입력 값: (1, 1) 출력 값: 0\n"
     ]
    }
   ],
   "source": [
    "# NAND 게이트\n",
    "def NAND(x1,x2):\n",
    "    return MLP(np.array([x1, x2]), w11, b1)\n",
    "\n",
    "# OR 게이트\n",
    "def OR(x1,x2):\n",
    "    return MLP(np.array([x1, x2]), w12, b2)\n",
    "\n",
    "# AND 게이트\n",
    "def AND(x1,x2):\n",
    "    return MLP(np.array([x1, x2]), w2, b3)\n",
    "\n",
    "# XOR 게이트\n",
    "def XOR(x1,x2):\n",
    "    return AND(NAND(x1, x2),OR(x1,x2))\n",
    "\n",
    "\n",
    "# x1, x2 값을 번갈아 대입해 가며 최종값 출력\n",
    "if __name__ == '__main__':\n",
    "    for x in [(0, 0), (1, 0), (0, 1), (1, 1)]:\n",
    "        y = XOR(x[0], x[1])\n",
    "        print(\"입력 값: \" + str(x) + \" 출력 값: \" + str(y))"
   ]
  },
  {
   "cell_type": "markdown",
   "id": "5715d70c",
   "metadata": {},
   "source": [
    "### 공부 결과에 대한 정리.\n",
    " + XOR 문제의 정답이 도출되었다."
   ]
  },
  {
   "cell_type": "markdown",
   "id": "5e2848b6",
   "metadata": {},
   "source": [
    "## 이렇게 퍼셉트론 하나로 해결되지 않던 문제를 은닉층을 만들어 해결했다.\n",
    "## 은닉층을 여러개 쌓아올려 이렇게 복잡한 문제를 해결하는 과정을 신경망이라 통칭한다."
   ]
  },
  {
   "cell_type": "code",
   "execution_count": null,
   "id": "8ef9ddd6",
   "metadata": {},
   "outputs": [],
   "source": []
  }
 ],
 "metadata": {
  "kernelspec": {
   "display_name": "Python 3 (ipykernel)",
   "language": "python",
   "name": "python3"
  },
  "language_info": {
   "codemirror_mode": {
    "name": "ipython",
    "version": 3
   },
   "file_extension": ".py",
   "mimetype": "text/x-python",
   "name": "python",
   "nbconvert_exporter": "python",
   "pygments_lexer": "ipython3",
   "version": "3.8.11"
  }
 },
 "nbformat": 4,
 "nbformat_minor": 5
}
