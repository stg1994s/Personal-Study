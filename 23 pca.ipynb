{
 "cells": [
  {
   "cell_type": "markdown",
   "id": "7d78885e",
   "metadata": {},
   "source": [
    "## 노트북 : 23pca\n",
    "\n",
    "## 주성분분석 Principal component Analysis"
   ]
  },
  {
   "cell_type": "markdown",
   "id": "59938f13",
   "metadata": {},
   "source": [
    "#### 둘 이상의 양적변수등 사이에서 분산/ 공분산 관계를 이용하여\n",
    "\n",
    "  * 예를 들어 8x8 크기의 손글씨 데이터 경우 총 64개의 특성으로 구성되어 있는데\n",
    "  * 글씨가 쓰여진 영역만 따로 골라서 분석에 활용한다면\n",
    "  * 64개의 특성이 모두 다 필요한 것은 아님\n",
    "  * 차원축소 방법 - 투영/사영projection\n",
    "     + 먼저, 데이터에 임의의 초평면을 정의한 다음\n",
    "#### PCA를 이용해 고차원의 데이터를 정보손실없이 변환함으로써 시각화가 편리해지고\n",
    "     * 데이터의 크기가 감소함으로써 빠른 학습이 가능해짐.\n",
    "\n",
    "* PCA 분석을 위해 공분산/고유벡터/고유값에 대한 개념 필요 - 선형대수\n",
    "\n",
    "## 주성분 분석 순서\n",
    "* 먼저 데이터를 표준화/정규화한 후\n",
    "* 각 변수간 공분산을 구함 \n",
    "* 공분산을 이용해서 고유값/고유벡터를 구함\n",
    "* 분산이 큰 고유벡터를 찾아 데이터를 이것에 투영해서\n",
    "* 그 결과값들을 분석이나 시각화에 사용\n",
    "\n",
    "### iris 데이터셋을 이용해서 주성분 분석 실시."
   ]
  },
  {
   "cell_type": "code",
   "execution_count": 2,
   "id": "d7b04fd0",
   "metadata": {},
   "outputs": [],
   "source": [
    "import numpy as np\n",
    "import pandas as pd\n",
    "import matplotlib.pyplot as plt"
   ]
  },
  {
   "cell_type": "code",
   "execution_count": 3,
   "id": "8271faf3",
   "metadata": {},
   "outputs": [],
   "source": [
    "from sklearn.datasets import load_iris\n",
    "from sklearn.preprocessing import StandardScaler\n",
    "from sklearn.decomposition import PCA"
   ]
  },
  {
   "cell_type": "code",
   "execution_count": 4,
   "id": "5d12b787",
   "metadata": {},
   "outputs": [],
   "source": [
    "# 데이터 적재! \n",
    "iris = load_iris()\n",
    "data = iris.data\n",
    "target = iris.target"
   ]
  },
  {
   "cell_type": "code",
   "execution_count": 5,
   "id": "27f3c055",
   "metadata": {},
   "outputs": [],
   "source": [
    "# 전처리\n",
    "data = StandardScaler().fit_transform(data)"
   ]
  },
  {
   "cell_type": "markdown",
   "id": "2956d19b",
   "metadata": {},
   "source": [
    "## 공분산 계산\n",
    " * 각 독립변수(특성)별 상관관계 파악\n",
    " * 그러기 위해서는 특성들을 전치행렬로 변환해야 함\n",
    " * 전치행렬은 객체명.T로 간단히 만들 수 있음.\n",
    " * 전치행렬은, 선형대수학에서, 전치 행렬은 행과 열을 교환하여 얻는 행렬이다. \n",
    "    즉, 주대각선을 축으로 하는 반사 대칭을 가하여 얻는 행렬이다.\n",
    "     + cov_matrix = np.cov(data.T)"
   ]
  },
  {
   "cell_type": "code",
   "execution_count": 6,
   "id": "9bf92fd6",
   "metadata": {},
   "outputs": [
    {
     "data": {
      "text/plain": [
       "array([[ 1.00671141, -0.11835884,  0.87760447,  0.82343066],\n",
       "       [-0.11835884,  1.00671141, -0.43131554, -0.36858315],\n",
       "       [ 0.87760447, -0.43131554,  1.00671141,  0.96932762],\n",
       "       [ 0.82343066, -0.36858315,  0.96932762,  1.00671141]])"
      ]
     },
     "execution_count": 6,
     "metadata": {},
     "output_type": "execute_result"
    }
   ],
   "source": [
    "cov_matrix = np.cov(data.T)\n",
    "cov_matrix"
   ]
  },
  {
   "cell_type": "code",
   "execution_count": 7,
   "id": "f2990a3c",
   "metadata": {},
   "outputs": [
    {
     "data": {
      "text/plain": [
       "(array([2.93808505, 0.9201649 , 0.14774182, 0.02085386]),\n",
       " array([[ 0.52106591, -0.37741762, -0.71956635,  0.26128628],\n",
       "        [-0.26934744, -0.92329566,  0.24438178, -0.12350962],\n",
       "        [ 0.5804131 , -0.02449161,  0.14212637, -0.80144925],\n",
       "        [ 0.56485654, -0.06694199,  0.63427274,  0.52359713]]))"
      ]
     },
     "execution_count": 7,
     "metadata": {},
     "output_type": "execute_result"
    }
   ],
   "source": [
    "## 공분산의 고유값/고유벡터 계산\n",
    "# * numpy에서 linalg.eig 함수 제공\n",
    "eigval, eigvec = np.linalg.eig(cov_matrix)\n",
    "eigval, eigvec"
   ]
  },
  {
   "cell_type": "markdown",
   "id": "e7a5d662",
   "metadata": {},
   "source": [
    "### 값이 얼마나 나오는지 확인해보자."
   ]
  },
  {
   "cell_type": "code",
   "execution_count": 8,
   "id": "a88f82b8",
   "metadata": {},
   "outputs": [
    {
     "data": {
      "text/plain": [
       "array([0.72962445, 0.22850762, 0.03668922, 0.00517871])"
      ]
     },
     "execution_count": 8,
     "metadata": {},
     "output_type": "execute_result"
    }
   ],
   "source": [
    "# 데이터의 차원을 1차원으로 변환했을때 73%\n",
    "# 2차원으로 변환하는 경우 73+23% 정도로 \n",
    "# 고유데이터의 분산을 유지할 수 있음.\n",
    "\n",
    "eigval/sum(eigval) # sum으로 나눠서 벡터를 찍어봅니다."
   ]
  },
  {
   "cell_type": "markdown",
   "id": "7751b85f",
   "metadata": {},
   "source": [
    "### 각 차원별로, 고유값하고 고유값 벡터가 나왔는데 어떻게 파악하는건지 다음에 보고.\n",
    "\n",
    "### [0,729624] 전체 데이터의 72퍼, 0.228508, 22퍼. 더하면 95퍼센트 정도로 \n",
    "\n",
    "### 고유데이터의 분산값을 확인할 수 있다는 겁니다."
   ]
  },
  {
   "cell_type": "code",
   "execution_count": 9,
   "id": "f2977adb",
   "metadata": {},
   "outputs": [
    {
     "data": {
      "text/plain": [
       "[<matplotlib.lines.Line2D at 0x22a91c1d2b0>]"
      ]
     },
     "execution_count": 9,
     "metadata": {},
     "output_type": "execute_result"
    },
    {
     "data": {
      "image/png": "[encoded data removed]",
      "text/plain": [
       "<Figure size 432x288 with 1 Axes>"
      ]
     },
     "metadata": {
      "needs_background": "light"
     },
     "output_type": "display_data"
    }
   ],
   "source": [
    "## 고유값을 이용해서 적절한 주성분 갯수 선택\n",
    "# * 스크리scree 그래프를 이용\n",
    "\n",
    "plt.plot(eigval, 'ro-')"
   ]
  },
  {
   "cell_type": "markdown",
   "id": "fc90b5a0",
   "metadata": {},
   "source": [
    "## 투영한 결과를 데이터프레임에 생성\n",
    "## 즉, 4차원 데이터를 고유벡터로 투영함\n",
    "## A벡터를 B벡터에 투영했을 때 투영된 벡터의 길이를 구하는 공식\n",
    "## => x.y / || y ||\n",
    "## x.y => np.dot(x,y) , -> x.dot(y) 이렇게 쓰는 것이 낫다.\n",
    "## || y | => np.linalg.norm(y)"
   ]
  },
  {
   "cell_type": "code",
   "execution_count": 10,
   "id": "9d7fbcd0",
   "metadata": {},
   "outputs": [],
   "source": [
    "projX1 = data.dot(eigvec.T[0]) / np.linalg.norm(eigvec.T[0])\n",
    "result = pd.DataFrame(projX1, columns=['PC1'])\n",
    "\n",
    "projX2 = data.dot(eigvec.T[1]) / np.linalg.norm(eigvec.T[1])\n",
    "result['PC2'] = projX2\n",
    "\n",
    "# Target 변수도 넣어야겠지? iris에 Target 변수도 넣어봅니다.\n",
    "\n",
    "result['target'] = target"
   ]
  },
  {
   "cell_type": "code",
   "execution_count": 11,
   "id": "d9233bac",
   "metadata": {},
   "outputs": [
    {
     "data": {
      "text/plain": [
       "<matplotlib.collections.PathCollection at 0x22a91d22b50>"
      ]
     },
     "execution_count": 11,
     "metadata": {},
     "output_type": "execute_result"
    },
    {
     "data": {
      "image/png": "[encoded data removed]",
      "text/plain": [
       "<Figure size 432x288 with 1 Axes>"
      ]
     },
     "metadata": {
      "needs_background": "light"
     },
     "output_type": "display_data"
    }
   ],
   "source": [
    "# 다 됬으면 시각화 한번 해봅시다, 기존 변수로 시각화\n",
    "plt.scatter(data[:, 0], data[:, 1], c=target) # sepal"
   ]
  },
  {
   "cell_type": "code",
   "execution_count": 12,
   "id": "0b9c299a",
   "metadata": {},
   "outputs": [
    {
     "data": {
      "text/plain": [
       "<matplotlib.collections.PathCollection at 0x22a91d9d610>"
      ]
     },
     "execution_count": 12,
     "metadata": {},
     "output_type": "execute_result"
    },
    {
     "data": {
      "image/png": "[encoded data removed]",
      "text/plain": [
       "<Figure size 432x288 with 1 Axes>"
      ]
     },
     "metadata": {
      "needs_background": "light"
     },
     "output_type": "display_data"
    }
   ],
   "source": [
    "# 주성분 분석 후 시각화\n",
    "plt.scatter(result.PC1, result.PC2,c=target) "
   ]
  },
  {
   "cell_type": "markdown",
   "id": "85e54cff",
   "metadata": {},
   "source": [
    "### 이 두개를 비교하면 모양은 분리가 되는데, 다시 그리더라도 요 내용들이 그대로 나갈겁니다.\n",
    "### 전체적인 그림을 볼 때는 시각화하기 딱 좋은게 2차원이다. 일단 2차원으로 최소화시켜서 나타낼 수 있다는 거다.\n",
    "### 대부분 이렇게 가능하단 얘기입니다. 싸이킷런에서 제공하는 함수를 사용하면 간단하게 구현이 됩니다."
   ]
  },
  {
   "cell_type": "code",
   "execution_count": 13,
   "id": "5194219c",
   "metadata": {},
   "outputs": [
    {
     "data": {
      "text/plain": [
       "<matplotlib.collections.PathCollection at 0x22a91dffc70>"
      ]
     },
     "execution_count": 13,
     "metadata": {},
     "output_type": "execute_result"
    },
    {
     "data": {
      "image/png": "[encoded data removed]",
      "text/plain": [
       "<Figure size 432x288 with 1 Axes>"
      ]
     },
     "metadata": {
      "needs_background": "light"
     },
     "output_type": "display_data"
    }
   ],
   "source": [
    "# 기존 변수로 시각화\n",
    "plt.scatter(data[:, 2], data[:, 3], c=target) # petal"
   ]
  },
  {
   "cell_type": "markdown",
   "id": "d9fe02f0",
   "metadata": {},
   "source": [
    "### sepal이든 petal length이든 보라색은 잘 분리가 되지만, 노란색하고 청록색은 분류가 잘 안됩니다.\n",
    "### 4차원 데이터를 2차원으로 줄이더라도, 기존 특성은 잘 보존되지만 분리되지 않는 것은 잘 안된다.\n",
    "\n",
    "## 이제 sklearn으로 PCA 분석."
   ]
  },
  {
   "cell_type": "code",
   "execution_count": 14,
   "id": "2d8ff78e",
   "metadata": {},
   "outputs": [
    {
     "data": {
      "text/plain": [
       "<matplotlib.collections.PathCollection at 0x22a93e71520>"
      ]
     },
     "execution_count": 14,
     "metadata": {},
     "output_type": "execute_result"
    },
    {
     "data": {
      "image/png": "[encoded data removed]",
      "text/plain": [
       "<Figure size 432x288 with 1 Axes>"
      ]
     },
     "metadata": {
      "needs_background": "light"
     },
     "output_type": "display_data"
    }
   ],
   "source": [
    "# PCA(n_component) 주성분 갯수 지정 : 차원 축소할 차원 수 지정\n",
    "pca = PCA(n_components=2)\n",
    "pcaXY = pca.fit_transform(data)\n",
    "result = pd.DataFrame(pcaXY, columns=['PC1', 'PC2'])\n",
    "result['target'] = target\n",
    "\n",
    "plt.scatter(result.PC1, result.PC2, c = result.target)"
   ]
  },
  {
   "cell_type": "markdown",
   "id": "f7057f8f",
   "metadata": {},
   "source": [
    "## 89구역 54개의 공원 잔디 식물종 분석\n",
    "* 1~54컬럼만 추출해서 주성분분석 실시\n",
    "* plot : 실험조건\n",
    "* species : 식물종\n",
    "* hay : 건초량\n",
    "* pH : 토양산성도"
   ]
  },
  {
   "cell_type": "code",
   "execution_count": 15,
   "id": "c7e763b3",
   "metadata": {},
   "outputs": [
    {
     "data": {
      "text/html": [
       "<div>\n",
       "<style scoped>\n",
       "    .dataframe tbody tr th:only-of-type {\n",
       "        vertical-align: middle;\n",
       "    }\n",
       "\n",
       "    .dataframe tbody tr th {\n",
       "        vertical-align: top;\n",
       "    }\n",
       "\n",
       "    .dataframe thead th {\n",
       "        text-align: right;\n",
       "    }\n",
       "</style>\n",
       "<table border=\"1\" class=\"dataframe\">\n",
       "  <thead>\n",
       "    <tr style=\"text-align: right;\">\n",
       "      <th></th>\n",
       "      <th>AC\\tAE\\tAM\\tAO\\tAP\\tAR\\tAS\\tAU\\tBH\\tBM\\tCC\\tCF\\tCM\\tCN\\tCX\\tCY\\tDC\\tDG\\tER\\tFM\\tFP\\tFR\\tGV\\tHI\\tHL\\tHP\\tHS\\tHR\\tKA\\tLA\\tLC\\tLH\\tLM\\tLO\\tLP\\tOR\\tPL\\tPP\\tPS\\tPT\\tQR\\tRA\\tRB\\tRC\\tSG\\tSM\\tSO\\tTF\\tTG\\tTO\\tTP\\tTR\\tVC\\tVK\\tplot\\tlime\\tspecies\\thay\\tpH</th>\n",
       "    </tr>\n",
       "  </thead>\n",
       "  <tbody>\n",
       "    <tr>\n",
       "      <th>0</th>\n",
       "      <td>2.51\\t1.18\\t0.45\\t0.91\\t0.47\\t0\\t0\\t0\\t0\\t0.06...</td>\n",
       "    </tr>\n",
       "    <tr>\n",
       "      <th>1</th>\n",
       "      <td>6.85\\t0.1\\t0.58\\t1.02\\t0.35\\t0\\t0\\t0\\t0\\t0.36\\...</td>\n",
       "    </tr>\n",
       "    <tr>\n",
       "      <th>2</th>\n",
       "      <td>10.58\\t0.11\\t0.21\\t1.85\\t0\\t0\\t0\\t0\\t0\\t0\\t0\\t...</td>\n",
       "    </tr>\n",
       "    <tr>\n",
       "      <th>3</th>\n",
       "      <td>13.65\\t0\\t0\\t6.46\\t0\\t0\\t0\\t0\\t0\\t0\\t0\\t0\\t0\\t...</td>\n",
       "    </tr>\n",
       "    <tr>\n",
       "      <th>4</th>\n",
       "      <td>4.84\\t0\\t1.49\\t0.36\\t0.1\\t0.06\\t0\\t0.02\\t0\\t0....</td>\n",
       "    </tr>\n",
       "  </tbody>\n",
       "</table>\n",
       "</div>"
      ],
      "text/plain": [
       "  AC\\tAE\\tAM\\tAO\\tAP\\tAR\\tAS\\tAU\\tBH\\tBM\\tCC\\tCF\\tCM\\tCN\\tCX\\tCY\\tDC\\tDG\\tER\\tFM\\tFP\\tFR\\tGV\\tHI\\tHL\\tHP\\tHS\\tHR\\tKA\\tLA\\tLC\\tLH\\tLM\\tLO\\tLP\\tOR\\tPL\\tPP\\tPS\\tPT\\tQR\\tRA\\tRB\\tRC\\tSG\\tSM\\tSO\\tTF\\tTG\\tTO\\tTP\\tTR\\tVC\\tVK\\tplot\\tlime\\tspecies\\thay\\tpH\n",
       "0  2.51\\t1.18\\t0.45\\t0.91\\t0.47\\t0\\t0\\t0\\t0\\t0.06...                                                                                                                                                                                                  \n",
       "1  6.85\\t0.1\\t0.58\\t1.02\\t0.35\\t0\\t0\\t0\\t0\\t0.36\\...                                                                                                                                                                                                  \n",
       "2  10.58\\t0.11\\t0.21\\t1.85\\t0\\t0\\t0\\t0\\t0\\t0\\t0\\t...                                                                                                                                                                                                  \n",
       "3  13.65\\t0\\t0\\t6.46\\t0\\t0\\t0\\t0\\t0\\t0\\t0\\t0\\t0\\t...                                                                                                                                                                                                  \n",
       "4  4.84\\t0\\t1.49\\t0.36\\t0.1\\t0.06\\t0\\t0.02\\t0\\t0....                                                                                                                                                                                                  "
      ]
     },
     "execution_count": 15,
     "metadata": {},
     "output_type": "execute_result"
    }
   ],
   "source": [
    "pg = pd.read_csv('pgfull.txt')\n",
    "pg.head()"
   ]
  },
  {
   "cell_type": "code",
   "execution_count": 16,
   "id": "48f2ef34",
   "metadata": {},
   "outputs": [
    {
     "name": "stdout",
     "output_type": "stream",
     "text": [
      "<class 'pandas.core.frame.DataFrame'>\n",
      "RangeIndex: 89 entries, 0 to 88\n",
      "Data columns (total 1 columns):\n",
      " #   Column                                                                                                                                                                                      Non-Null Count  Dtype \n",
      "---  ------                                                                                                                                                                                      --------------  ----- \n",
      " 0   AC\tAE\tAM\tAO\tAP\tAR\tAS\tAU\tBH\tBM\tCC\tCF\tCM\tCN\tCX\tCY\tDC\tDG\tER\tFM\tFP\tFR\tGV\tHI\tHL\tHP\tHS\tHR\tKA\tLA\tLC\tLH\tLM\tLO\tLP\tOR\tPL\tPP\tPS\tPT\tQR\tRA\tRB\tRC\tSG\tSM\tSO\tTF\tTG\tTO\tTP\tTR\tVC\tVK\tplot\tlime\tspecies\thay\tpH  89 non-null     object\n",
      "dtypes: object(1)\n",
      "memory usage: 840.0+ bytes\n"
     ]
    }
   ],
   "source": [
    "pg.info()"
   ]
  },
  {
   "cell_type": "markdown",
   "id": "e2ae3b8a",
   "metadata": {},
   "source": [
    "<img src='pca.gif'>"
   ]
  },
  {
   "cell_type": "markdown",
   "id": "1b0d2037",
   "metadata": {},
   "source": [
    "### 고유벡터를 구할 수 있는 방법에 대해서 알아본다.\n",
    "* 연한 파란색에 투영을 시키면 원래 있던 데이터의 분산이 그대로 유지된다.\n",
    "* 만약에 연두색으로 투영시키면 분산이 커진다.\n",
    "* 새로운 축을 만들어서 차원을 축소할 때 적절한 축을 찾는 것이 중요하다.\n",
    "* 차원을 축소시켜서 만들건지, 분산이 그대로 유지되게 하면서 새로운 축을 만들어서 거기다가 반영할 껀지, \n",
    "* 기존의 데이터가 갖고 있는 데이터를 유지하면서도 차원을 축소시킬 수도 있고, 특성을 다 없애버리면서 차원을 축소시켜서 데이터를 만들 수도     있음"
   ]
  },
  {
   "cell_type": "markdown",
   "id": "f52e2892",
   "metadata": {},
   "source": [
    "### 선형대수의 고유값, 고유벡터, 이 두가지 개념이 들어간다.\n"
   ]
  },
  {
   "cell_type": "markdown",
   "id": "e2dcf899",
   "metadata": {},
   "source": [
    "# 선형변환 A = [[3,1], [1,3]]을 만족하는 고유벡터x와 고유값 λ은?"
   ]
  },
  {
   "cell_type": "code",
   "execution_count": 17,
   "id": "cc446fc4",
   "metadata": {},
   "outputs": [],
   "source": [
    "A = [[3,1], [1,3]] # 선형변환\n",
    "x1 = [-1, 1]\n",
    "x2 = [1, 1]\n",
    "\n",
    "x3 = np.dot(A, x1) # 행렬 곱연산, 선형변환 적용\n",
    "x4 = np.dot(A, x2)\n",
    "\n",
    "origin = [0], [0] # 벡터공간 원점 정의\n",
    "\n",
    "# 변환전 벡터\n",
    "# quiver 함수 : 그래프에 화살표 벡터를 표시"
   ]
  },
  {
   "cell_type": "code",
   "execution_count": 18,
   "id": "e22527b8",
   "metadata": {
    "scrolled": true
   },
   "outputs": [
    {
     "data": {
      "text/plain": [
       "<matplotlib.quiver.Quiver at 0x22a93f36d30>"
      ]
     },
     "execution_count": 18,
     "metadata": {},
     "output_type": "execute_result"
    },
    {
     "data": {
      "image/png": "[encoded data removed]",
      "text/plain": [
       "<Figure size 432x288 with 1 Axes>"
      ]
     },
     "metadata": {
      "needs_background": "light"
     },
     "output_type": "display_data"
    }
   ],
   "source": [
    "# 변환전 벡터\n",
    "# quiver 함수 : 그래프에 화살표에 벡터를 표시\n",
    "# quiver(원점, x좌표, y좌표, 색상, 각도, 단뒤)\n",
    "plt.quiver(*origin, x1[0], x1[1])\n",
    "\n",
    "plt.xlim(-5,5)\n",
    "plt.ylim(-5,5)\n",
    "plt.grid(True)\n",
    "\n",
    "plt.quiver(*origin, x2[0], x2[1], color='b', angles='xy', scale_units='xy', scale=1)"
   ]
  },
  {
   "cell_type": "code",
   "execution_count": 19,
   "id": "0a39e770",
   "metadata": {},
   "outputs": [
    {
     "data": {
      "image/png": "[encoded data removed]",
      "text/plain": [
       "<Figure size 432x288 with 1 Axes>"
      ]
     },
     "metadata": {
      "needs_background": "light"
     },
     "output_type": "display_data"
    }
   ],
   "source": [
    "# 변환후 벡터\n",
    "\n",
    "plt.quiver(*origin, x3[0], x3[1], color='k', angles='xy', scale_units='xy', alpha=0.5, scale=1)\n",
    "plt.quiver(*origin, x4[0], x4[1], color='k', angles='xy', scale_units='xy',  alpha=0.5, scale=1)\n",
    "\n",
    "plt.xlim(-5,5)\n",
    "plt.ylim(-5,5)\n",
    "plt.grid(True)\n"
   ]
  },
  {
   "cell_type": "code",
   "execution_count": 20,
   "id": "043b4d45",
   "metadata": {},
   "outputs": [
    {
     "data": {
      "text/plain": [
       "(array([4., 2.]),\n",
       " array([[ 0.70710678, -0.70710678],\n",
       "        [ 0.70710678,  0.70710678]]))"
      ]
     },
     "execution_count": 20,
     "metadata": {},
     "output_type": "execute_result"
    }
   ],
   "source": [
    "## numpy 함수로 고유값, 고유벡터 알아내기\n",
    "A = np.array([[3,1], [1,3]])\n",
    "np.linalg.eig(A)"
   ]
  },
  {
   "cell_type": "markdown",
   "id": "3837b229",
   "metadata": {},
   "source": [
    "### 분산이 가장 큰 값이니까 고유값이 가장 큰 녀석이, 밑에 첫번째 나오는 요 녀석이라고 보시면 될 거 같아요. 0.7"
   ]
  },
  {
   "cell_type": "code",
   "execution_count": 21,
   "id": "efad7bc1",
   "metadata": {},
   "outputs": [
    {
     "data": {
      "text/plain": [
       "(array([4., 2.]),\n",
       " array([[ 0.70710678, -0.70710678],\n",
       "        [ 0.70710678,  0.70710678]]))"
      ]
     },
     "execution_count": 21,
     "metadata": {},
     "output_type": "execute_result"
    }
   ],
   "source": [
    "## numpy 함수로 고유값, 고유벡터 알아내기2\n",
    "np.set_printoptions( formatter={'flot_kind':'{:0.0f}'.format}, suppress=True) \n",
    "\n",
    "A = np.array([[3,1], [1,3]])\n",
    "np.linalg.eig(A)"
   ]
  },
  {
   "cell_type": "code",
   "execution_count": 22,
   "id": "7bff1fcf",
   "metadata": {},
   "outputs": [
    {
     "name": "stdout",
     "output_type": "stream",
     "text": [
      "<class 'pandas.core.frame.DataFrame'>\n",
      "RangeIndex: 89 entries, 0 to 88\n",
      "Data columns (total 1 columns):\n",
      " #   Column                                                                                                                                                                                      Non-Null Count  Dtype \n",
      "---  ------                                                                                                                                                                                      --------------  ----- \n",
      " 0   AC\tAE\tAM\tAO\tAP\tAR\tAS\tAU\tBH\tBM\tCC\tCF\tCM\tCN\tCX\tCY\tDC\tDG\tER\tFM\tFP\tFR\tGV\tHI\tHL\tHP\tHS\tHR\tKA\tLA\tLC\tLH\tLM\tLO\tLP\tOR\tPL\tPP\tPS\tPT\tQR\tRA\tRB\tRC\tSG\tSM\tSO\tTF\tTG\tTO\tTP\tTR\tVC\tVK\tplot\tlime\tspecies\thay\tpH  89 non-null     object\n",
      "dtypes: object(1)\n",
      "memory usage: 840.0+ bytes\n"
     ]
    }
   ],
   "source": [
    "pg.info()"
   ]
  },
  {
   "cell_type": "markdown",
   "id": "3b365fb1",
   "metadata": {},
   "source": [
    "### 다시 pgfull로, 잔디 분석."
   ]
  },
  {
   "cell_type": "code",
   "execution_count": 23,
   "id": "37394257",
   "metadata": {},
   "outputs": [
    {
     "data": {
      "text/html": [
       "<div>\n",
       "<style scoped>\n",
       "    .dataframe tbody tr th:only-of-type {\n",
       "        vertical-align: middle;\n",
       "    }\n",
       "\n",
       "    .dataframe tbody tr th {\n",
       "        vertical-align: top;\n",
       "    }\n",
       "\n",
       "    .dataframe thead th {\n",
       "        text-align: right;\n",
       "    }\n",
       "</style>\n",
       "<table border=\"1\" class=\"dataframe\">\n",
       "  <thead>\n",
       "    <tr style=\"text-align: right;\">\n",
       "      <th></th>\n",
       "      <th>AC</th>\n",
       "      <th>AE</th>\n",
       "      <th>AM</th>\n",
       "      <th>AO</th>\n",
       "      <th>AP</th>\n",
       "      <th>AR</th>\n",
       "      <th>AS</th>\n",
       "      <th>AU</th>\n",
       "      <th>BH</th>\n",
       "      <th>BM</th>\n",
       "      <th>...</th>\n",
       "      <th>TO</th>\n",
       "      <th>TP</th>\n",
       "      <th>TR</th>\n",
       "      <th>VC</th>\n",
       "      <th>VK</th>\n",
       "      <th>plot</th>\n",
       "      <th>lime</th>\n",
       "      <th>species</th>\n",
       "      <th>hay</th>\n",
       "      <th>pH</th>\n",
       "    </tr>\n",
       "  </thead>\n",
       "  <tbody>\n",
       "    <tr>\n",
       "      <th>0</th>\n",
       "      <td>2.51</td>\n",
       "      <td>1.18</td>\n",
       "      <td>0.45</td>\n",
       "      <td>0.91</td>\n",
       "      <td>0.47</td>\n",
       "      <td>0.00</td>\n",
       "      <td>0.0</td>\n",
       "      <td>0.00</td>\n",
       "      <td>0.0</td>\n",
       "      <td>0.06</td>\n",
       "      <td>...</td>\n",
       "      <td>0.10</td>\n",
       "      <td>0.04</td>\n",
       "      <td>0.00</td>\n",
       "      <td>0.00</td>\n",
       "      <td>0.0</td>\n",
       "      <td>1.0</td>\n",
       "      <td>1</td>\n",
       "      <td>33</td>\n",
       "      <td>5.105</td>\n",
       "      <td>7.0</td>\n",
       "    </tr>\n",
       "    <tr>\n",
       "      <th>1</th>\n",
       "      <td>6.85</td>\n",
       "      <td>0.10</td>\n",
       "      <td>0.58</td>\n",
       "      <td>1.02</td>\n",
       "      <td>0.35</td>\n",
       "      <td>0.00</td>\n",
       "      <td>0.0</td>\n",
       "      <td>0.00</td>\n",
       "      <td>0.0</td>\n",
       "      <td>0.36</td>\n",
       "      <td>...</td>\n",
       "      <td>0.14</td>\n",
       "      <td>0.00</td>\n",
       "      <td>0.00</td>\n",
       "      <td>0.00</td>\n",
       "      <td>0.0</td>\n",
       "      <td>1.0</td>\n",
       "      <td>2</td>\n",
       "      <td>31</td>\n",
       "      <td>6.455</td>\n",
       "      <td>6.2</td>\n",
       "    </tr>\n",
       "    <tr>\n",
       "      <th>2</th>\n",
       "      <td>10.58</td>\n",
       "      <td>0.11</td>\n",
       "      <td>0.21</td>\n",
       "      <td>1.85</td>\n",
       "      <td>0.00</td>\n",
       "      <td>0.00</td>\n",
       "      <td>0.0</td>\n",
       "      <td>0.00</td>\n",
       "      <td>0.0</td>\n",
       "      <td>0.00</td>\n",
       "      <td>...</td>\n",
       "      <td>0.02</td>\n",
       "      <td>0.06</td>\n",
       "      <td>0.00</td>\n",
       "      <td>0.00</td>\n",
       "      <td>0.0</td>\n",
       "      <td>1.0</td>\n",
       "      <td>3</td>\n",
       "      <td>33</td>\n",
       "      <td>4.870</td>\n",
       "      <td>5.3</td>\n",
       "    </tr>\n",
       "    <tr>\n",
       "      <th>3</th>\n",
       "      <td>13.65</td>\n",
       "      <td>0.00</td>\n",
       "      <td>0.00</td>\n",
       "      <td>6.46</td>\n",
       "      <td>0.00</td>\n",
       "      <td>0.00</td>\n",
       "      <td>0.0</td>\n",
       "      <td>0.00</td>\n",
       "      <td>0.0</td>\n",
       "      <td>0.00</td>\n",
       "      <td>...</td>\n",
       "      <td>0.00</td>\n",
       "      <td>0.00</td>\n",
       "      <td>0.00</td>\n",
       "      <td>0.00</td>\n",
       "      <td>0.0</td>\n",
       "      <td>1.0</td>\n",
       "      <td>4</td>\n",
       "      <td>10</td>\n",
       "      <td>2.160</td>\n",
       "      <td>4.0</td>\n",
       "    </tr>\n",
       "    <tr>\n",
       "      <th>4</th>\n",
       "      <td>4.84</td>\n",
       "      <td>0.00</td>\n",
       "      <td>1.49</td>\n",
       "      <td>0.36</td>\n",
       "      <td>0.10</td>\n",
       "      <td>0.06</td>\n",
       "      <td>0.0</td>\n",
       "      <td>0.02</td>\n",
       "      <td>0.0</td>\n",
       "      <td>0.90</td>\n",
       "      <td>...</td>\n",
       "      <td>0.08</td>\n",
       "      <td>0.68</td>\n",
       "      <td>0.48</td>\n",
       "      <td>0.01</td>\n",
       "      <td>0.0</td>\n",
       "      <td>2.1</td>\n",
       "      <td>1</td>\n",
       "      <td>42</td>\n",
       "      <td>4.620</td>\n",
       "      <td>7.0</td>\n",
       "    </tr>\n",
       "  </tbody>\n",
       "</table>\n",
       "<p>5 rows × 59 columns</p>\n",
       "</div>"
      ],
      "text/plain": [
       "      AC    AE    AM    AO    AP    AR   AS    AU   BH    BM  ...    TO    TP  \\\n",
       "0   2.51  1.18  0.45  0.91  0.47  0.00  0.0  0.00  0.0  0.06  ...  0.10  0.04   \n",
       "1   6.85  0.10  0.58  1.02  0.35  0.00  0.0  0.00  0.0  0.36  ...  0.14  0.00   \n",
       "2  10.58  0.11  0.21  1.85  0.00  0.00  0.0  0.00  0.0  0.00  ...  0.02  0.06   \n",
       "3  13.65  0.00  0.00  6.46  0.00  0.00  0.0  0.00  0.0  0.00  ...  0.00  0.00   \n",
       "4   4.84  0.00  1.49  0.36  0.10  0.06  0.0  0.02  0.0  0.90  ...  0.08  0.68   \n",
       "\n",
       "     TR    VC   VK  plot  lime  species    hay   pH  \n",
       "0  0.00  0.00  0.0   1.0     1       33  5.105  7.0  \n",
       "1  0.00  0.00  0.0   1.0     2       31  6.455  6.2  \n",
       "2  0.00  0.00  0.0   1.0     3       33  4.870  5.3  \n",
       "3  0.00  0.00  0.0   1.0     4       10  2.160  4.0  \n",
       "4  0.48  0.01  0.0   2.1     1       42  4.620  7.0  \n",
       "\n",
       "[5 rows x 59 columns]"
      ]
     },
     "execution_count": 23,
     "metadata": {},
     "output_type": "execute_result"
    }
   ],
   "source": [
    "pg = pd.read_csv('pgfull.txt', sep='\\t')\n",
    "pg.head()"
   ]
  },
  {
   "cell_type": "code",
   "execution_count": 24,
   "id": "e2d69b97",
   "metadata": {},
   "outputs": [
    {
     "name": "stdout",
     "output_type": "stream",
     "text": [
      "<class 'pandas.core.frame.DataFrame'>\n",
      "RangeIndex: 89 entries, 0 to 88\n",
      "Data columns (total 59 columns):\n",
      " #   Column   Non-Null Count  Dtype  \n",
      "---  ------   --------------  -----  \n",
      " 0   AC       89 non-null     float64\n",
      " 1   AE       89 non-null     float64\n",
      " 2   AM       89 non-null     float64\n",
      " 3   AO       89 non-null     float64\n",
      " 4   AP       89 non-null     float64\n",
      " 5   AR       89 non-null     float64\n",
      " 6   AS       89 non-null     float64\n",
      " 7   AU       89 non-null     float64\n",
      " 8   BH       89 non-null     float64\n",
      " 9   BM       89 non-null     float64\n",
      " 10  CC       89 non-null     float64\n",
      " 11  CF       89 non-null     float64\n",
      " 12  CM       89 non-null     float64\n",
      " 13  CN       89 non-null     float64\n",
      " 14  CX       89 non-null     float64\n",
      " 15  CY       89 non-null     float64\n",
      " 16  DC       89 non-null     float64\n",
      " 17  DG       89 non-null     float64\n",
      " 18  ER       89 non-null     float64\n",
      " 19  FM       89 non-null     float64\n",
      " 20  FP       89 non-null     float64\n",
      " 21  FR       89 non-null     float64\n",
      " 22  GV       89 non-null     float64\n",
      " 23  HI       89 non-null     float64\n",
      " 24  HL       89 non-null     float64\n",
      " 25  HP       89 non-null     float64\n",
      " 26  HS       89 non-null     float64\n",
      " 27  HR       89 non-null     float64\n",
      " 28  KA       89 non-null     float64\n",
      " 29  LA       89 non-null     float64\n",
      " 30  LC       89 non-null     float64\n",
      " 31  LH       89 non-null     float64\n",
      " 32  LM       89 non-null     float64\n",
      " 33  LO       89 non-null     float64\n",
      " 34  LP       89 non-null     float64\n",
      " 35  OR       89 non-null     float64\n",
      " 36  PL       89 non-null     float64\n",
      " 37  PP       89 non-null     float64\n",
      " 38  PS       89 non-null     float64\n",
      " 39  PT       89 non-null     float64\n",
      " 40  QR       89 non-null     float64\n",
      " 41  RA       89 non-null     float64\n",
      " 42  RB       89 non-null     float64\n",
      " 43  RC       89 non-null     float64\n",
      " 44  SG       89 non-null     float64\n",
      " 45  SM       89 non-null     float64\n",
      " 46  SO       89 non-null     float64\n",
      " 47  TF       89 non-null     float64\n",
      " 48  TG       89 non-null     float64\n",
      " 49  TO       89 non-null     float64\n",
      " 50  TP       89 non-null     float64\n",
      " 51  TR       89 non-null     float64\n",
      " 52  VC       89 non-null     float64\n",
      " 53  VK       89 non-null     float64\n",
      " 54  plot     89 non-null     float64\n",
      " 55  lime     89 non-null     int64  \n",
      " 56  species  89 non-null     int64  \n",
      " 57  hay      89 non-null     float64\n",
      " 58  pH       89 non-null     float64\n",
      "dtypes: float64(57), int64(2)\n",
      "memory usage: 41.1 KB\n"
     ]
    }
   ],
   "source": [
    "pg.info()"
   ]
  },
  {
   "cell_type": "code",
   "execution_count": 25,
   "id": "ae9f5aed",
   "metadata": {},
   "outputs": [
    {
     "data": {
      "text/plain": [
       "27    7\n",
       "34    7\n",
       "28    6\n",
       "29    5\n",
       "30    4\n",
       "22    4\n",
       "32    4\n",
       "33    4\n",
       "37    4\n",
       "36    3\n",
       "26    3\n",
       "23    3\n",
       "4     3\n",
       "10    3\n",
       "42    3\n",
       "14    3\n",
       "31    2\n",
       "19    2\n",
       "25    2\n",
       "21    2\n",
       "18    2\n",
       "15    2\n",
       "24    2\n",
       "13    2\n",
       "44    1\n",
       "17    1\n",
       "3     1\n",
       "16    1\n",
       "39    1\n",
       "5     1\n",
       "6     1\n",
       "Name: species, dtype: int64"
      ]
     },
     "execution_count": 25,
     "metadata": {},
     "output_type": "execute_result"
    }
   ],
   "source": [
    "# 식물종 갯수 확인\n",
    "pg.species.value_counts()"
   ]
  },
  {
   "cell_type": "code",
   "execution_count": 26,
   "id": "8d43fd2a",
   "metadata": {},
   "outputs": [],
   "source": [
    "# 주성분분석 데이터 추출\n",
    "data = pg.iloc[:, :54]\n",
    "# data = StandardScaler().fit_transform(data)\n",
    "# 표준화시킨후 주성분분석시 설명력이 떨어져서\n",
    "# 여기서는 표준화 과정 생략함"
   ]
  },
  {
   "cell_type": "code",
   "execution_count": 27,
   "id": "107b131d",
   "metadata": {},
   "outputs": [
    {
     "data": {
      "text/plain": [
       "0.7448981110837314"
      ]
     },
     "execution_count": 27,
     "metadata": {},
     "output_type": "execute_result"
    }
   ],
   "source": [
    "# 주성분분석\n",
    "\n",
    "pca = PCA()\n",
    "pcaXY = pca.fit_transform(data)\n",
    "\n",
    "np.set_printoptions(suppress=True, formatter={'float_kind':'{:.0f}'.format})\n",
    "pca.explained_variance_ratio_\n",
    "np.sum(pca.explained_variance_ratio_[:3]) # 74% 설명력 가짐"
   ]
  },
  {
   "cell_type": "code",
   "execution_count": 28,
   "id": "01182f45",
   "metadata": {},
   "outputs": [],
   "source": [
    "trump = pd.read_csv('trump_en.txt', sep='\\t')"
   ]
  },
  {
   "cell_type": "code",
   "execution_count": 32,
   "id": "dc9420d0",
   "metadata": {},
   "outputs": [
    {
     "data": {
      "text/plain": [
       "['Assembly Speaker Chung, distinguished members of this Assembly, ladies and gentlemen: Thank you for the extraordinary privilege to speak in this great chamber and to address your people on behalf of the people of the United States of America.\\n',\n",
       " '\\n',\n",
       " 'In our short time in your country, Melania and I have been awed by its ancient and modern wonders, and we are deeply moved by the warmth of your welcome.\\n',\n",
       " '\\n',\n",
       " 'Last night, President and Mrs. Moon showed us incredible hospitality in a beautiful reception at the Blue House. We had productive discussions on increasing military cooperation and improving the trade relationship between our nations on the principle of fairness and reciprocity.\\n',\n",
       " '\\n',\n",
       " 'Through this entire visit, it has been both our pleasure and our honor to create and celebrate a long friendship between the United States and the Republic of Korea.\\n',\n",
       " '\\n',\n",
       " 'This alliance between our nations was forged in the crucible of war, and strengthened by the trials of history. From the Inchon landings to Pork Chop Hill, American and South Korean soldiers have fought together, sacrificed together, and triumphed together.\\n',\n",
       " '\\n',\n",
       " 'Almost 67 years ago, in the spring of 1951, they recaptured what remained of this city where we are gathered so proudly today. It was the second time in a year that our combined forces took on steep casualties to retake this capital from the communists.\\n',\n",
       " '\\n',\n",
       " 'Over the next weeks and months, the men soldiered through steep mountains and bloody, bloody battles. Driven back at times, they willed their way north to form the line that today divides the oppressed and the free. And there, American and South Korean troops have remained together holding that line for nearly seven decades. \\n',\n",
       " '\\n',\n",
       " 'By the time the armistice was signed in 1953, more than 36,000 Americans had died in the Korean War, with more than 100,000 others very badly wounded. They are heroes, and we honor them. We also honor and remember the terrible price the people of your country paid for their freedom. You lost hundreds of thousands of brave soldiers and countless innocent civilians in that gruesome war.\\n',\n",
       " '\\n',\n",
       " 'Much of this great city of Seoul was reduced to rubble. Large portions of the country were scarred ? severely, severely hurt ? by this horrible war. The economy of this nation was demolished.\\n',\n",
       " '\\n',\n",
       " 'But as the entire world knows, over the next two generations something miraculous happened on the southern half of this peninsula. Family by family, city by city, the people of South Korea built this country into what is today one of the great nations of the world. And I congratulate you.  In less than one lifetime, South Korea climbed from total devastation to among the wealthiest nations on Earth.\\n',\n",
       " '\\n',\n",
       " 'Today, your economy is more than 350 times larger than what it was in 1960. Trade has increased 1,900 times. Life expectancy has risen from just 53 years to more than 82 years today.\\n',\n",
       " '\\n',\n",
       " 'Like Korea, and since my election exactly one year ago today, I celebrate with you.  The United States is going through something of a miracle itself. Our stock market is at an all-time high. Unemployment is at a 17-year low. We are defeating ISIS. We are strengthening our judiciary, including a brilliant Supreme Court justice, and on, and on, and on.\\n',\n",
       " '\\n',\n",
       " 'Currently stationed in the vicinity of this peninsula are the three largest aircraft carriers in the world loaded to the maximum with magnificent F-35 and F-18 fighter jets. In addition, we have nuclear submarines appropriately positioned. The United States, under my administration, is completely rebuilding its military and is spending hundreds of billions of dollars to the newest and finest military equipment anywhere in the world being built, right now. I want peace through strength. \\n',\n",
       " '\\n',\n",
       " 'We are helping the Republic of Korea far beyond what any other country has ever done. And, in the end, we will work things out far better than anybody understands or can even appreciate. I know that the Republic of Korea, which has become a tremendously successful nation, will be a faithful ally of the United States very long into the future. \\n',\n",
       " '\\n',\n",
       " 'What you have built is truly an inspiration. Your economic transformation was linked to a political one. The proud, sovereign, and independent people of your nation demanded the right to govern themselves. You secured free parliamentary elections in 1988, the same year you hosted your first Olympics.\\n',\n",
       " '\\n',\n",
       " 'Soon after, you elected your first civilian president in more than three decades. And when the Republic you won faced financial crisis, you lined up by the millions to give your most prized possessions ? your wedding rings, heirlooms, and gold 占쏙옙luck keys占쏙옙 ? to restore the promise of a better future for your children. \\n',\n",
       " '\\n',\n",
       " 'Your wealth is measured in more than money ? it is measured in achievements of the mind and achievements of spirit. Over the last several decades, your scientists of engineers ? have engineered so many magnificent things. You占쏙옙ve pushed the boundaries of technology, pioneered miraculous medical treatments, and emerged as leaders in unlocking the mysteries of our universe.\\n',\n",
       " '\\n',\n",
       " 'Korean authors penned roughly 40,000 books this year. Korean musicians fill concert halls all around the world. Young Korean students graduate from college at the highest rates of any country. And Korean golfers are some of the best on Earth. \\n',\n",
       " '\\n',\n",
       " 'In fact ? and you know what I占쏙옙m going to say ? the Women占쏙옙s U.S. Open was held this year at Trump National Golf Club in Bedminster, New Jersey, and it just happened to be won by a great Korean golfer, Sung-hyun Park. An eighth of the top 10 players were from Korea. And the top four golfers ? one, two, three, four ? the top four were from Korea. Congratulations.  Congratulations. And that占쏙옙s something. That is really something.\\n',\n",
       " '\\n',\n",
       " 'Here in Seoul, architectural wonders like the Sixty-Three Building and the Lotte World Tower ? very beautiful ? grace the sky and house the workers of many growing industries.\\n',\n",
       " '\\n',\n",
       " 'Your citizens now help to feed the hungry, fight terrorism, and solve problems all over the world. And in a few months, you will host the world and you will do a magnificent job at the 23rd Olympic Winter Games. Good luck. \\n',\n",
       " '\\n',\n",
       " 'The Korean miracle extends exactly as far as the armies of free nations advanced in 1953 ? 24 miles to the north. There, it stops; it all comes to an end. Dead stop. The flourishing ends, and the prison state of North Korea sadly begins.\\n',\n",
       " '\\n',\n",
       " 'Workers in North Korea labor grueling hours in unbearable conditions for almost no pay. Recently, the entire working population was ordered to work for 70 days straight, or else pay for a day of rest.\\n',\n",
       " '\\n',\n",
       " 'Families live in homes without plumbing, and fewer than half have electricity. Parents bribe teachers in hopes of saving their sons and daughters from forced labor. More than a million North Koreans died of famine in the 1990s, and more continue to die of hunger today.\\n',\n",
       " '\\n',\n",
       " 'Among children under the age of five, nearly 30 percent of afflicted ? and are afflicted by stunted growth due to malnutrition. And yet, in 2012 and 2013, the regime spent an estimated $200 million ? or almost half the money that it allocated to improve living standards for its people ? to instead build even more monuments, towers, and statues to glorify its dictators.\\n',\n",
       " '\\n',\n",
       " 'What remains of the meager harvest of the North Korean economy is distributed according to perceived loyalty to a twisted regime. Far from valuing its people as equal citizens, this cruel dictatorship measures them, scores them, and ranks them based on the most arbitrary indications of their allegiance to the state. Those who score the highest in loyalty may live in the capital city. Those who score the lowest starve. A small infraction by one citizen, such as accidently staining a picture of the tyrant printed in a discarded newspaper, can wreck the social credit rank of his entire family for many decades.\\n',\n",
       " '\\n',\n",
       " 'An estimated 100,000 North Koreans suffer in gulags, toiling in forced labor, and enduring torture, starvation, rape, and murder on a constant basis.\\n',\n",
       " '\\n',\n",
       " 'In one known instance, a 9-year-old boy was imprisoned for 10 years because his grandfather was accused of treason. In another, a student was beaten in school for forgetting a single detail about the life of Kim Jong-un.\\n',\n",
       " '\\n',\n",
       " 'Soldiers have kidnapped foreigners and forced them to work as language tutors for North Korean spies.\\n',\n",
       " '\\n',\n",
       " 'In the part of Korea that was a stronghold for Christianity before the war, Christians and other people of faith who are found praying or holding a religious book of any kind are now detained, tortured, and in many cases, even executed.\\n',\n",
       " '\\n',\n",
       " 'North Korean women are forced to abort babies that are considered ethnically inferior. And if these babies are born, the newborns are murdered.\\n',\n",
       " '\\n',\n",
       " 'One woman占쏙옙s baby born to a Chinese father was taken away in a bucket. The guards said it did not 占쏙옙deserve to live because it was impure.占쏙옙\\n',\n",
       " '\\n',\n",
       " 'So why would China feel an obligation to help North Korea?\\n',\n",
       " '\\n',\n",
       " 'The horror of life in North Korea is so complete that citizens pay bribes to government officials to have themselves exported aboard as slaves. They would rather be slaves than live in North Korea.\\n',\n",
       " '\\n',\n",
       " 'To attempt to flee is a crime punishable by death. One person who escaped remarked, 占쏙옙When I think about it now, I was not a human being. I was more like an animal. Only after leaving North Korea did I realize what life was supposed to be.占쏙옙\\n',\n",
       " '\\n',\n",
       " 'And so, on this peninsula, we have watched the results of a tragic experiment in a laboratory of history. It is a tale of one people, but two Koreas. One Korea in which the people took control of their lives and their country, and chose a future of freedom and justice, of civilization, and incredible achievement. And another Korea in which leaders imprison their people under the banner of tyranny, fascism, and oppression. The result of this experiment are in, and they are totally conclusive.\\n',\n",
       " '\\n',\n",
       " 'When the Korean War began in 1950, the two Koreas were approximately equal in GDP per capita. But by the 1990s, South Korea占쏙옙s wealth had surpassed North Korea占쏙옙s by more than 10 times. And today, the South占쏙옙s economy is over 40 times larger. You started the same a short while ago, and now you占쏙옙re 40 times larger. You占쏙옙re doing something right.\\n',\n",
       " '\\n',\n",
       " 'Considering the misery wrought by the North Korean dictatorship, it is no surprise that it has been forced to take increasingly desperate measures to prevent its people from understanding this brutal contrast.\\n',\n",
       " '\\n',\n",
       " 'Because the regime fears the truth above all else, it forbids virtually all contact with the outside world. Not just my speech today, but even the most commonplace facts of South Korean life are forbidden knowledge to the North Korean people. Western and South Korean music is banned. Possession of foreign media is a crime punishable by death. Citizens spy on fellow citizens, their homes are subject to search at any time, and their every action is subject to surveillance. In place of a vibrant society, the people of North Korea are bombarded by state propaganda practically every waking hour of the day.\\n',\n",
       " '\\n',\n",
       " 'North Korea is a country ruled as a cult. At the center of this military cult is a deranged belief in the leader占쏙옙s destiny to rule as parent protector over a conquered Korean Peninsula and an enslaved Korean people.\\n',\n",
       " '\\n',\n",
       " 'The more successful South Korea becomes, the more decisively you discredit the dark fantasy at the heart of the Kim regime.\\n',\n",
       " '\\n',\n",
       " 'In this way, the very existence of a thriving South Korean republic threatens the very survival of the North Korean dictatorship.\\n',\n",
       " '\\n',\n",
       " 'This city and this assembly are living proof that a free and independent Korea not only can, but does stand strong, sovereign, and proud among the nations of the world. \\n',\n",
       " '\\n',\n",
       " 'Here, the strength of the nation does not come from the false glory of a tyrant. It comes from the true and powerful glory of a strong and great people ? the people of the Republic of Korea ? a Korean people who are free to live, to flourish, to worship, to love, to build, and to grow their own destiny.\\n',\n",
       " '\\n',\n",
       " 'In this Republic, the people have done what no dictator ever could ? you took, with the help of the United States, responsibility for yourselves and ownership of your future. You had a dream ? a Korean dream ? and you built that dream into a great reality.\\n',\n",
       " '\\n',\n",
       " 'In so doing, you performed the miracle on the Hahn that we see all around us, from the stunning skyline of Seoul to the plains and peaks of this beautiful landscape. You have done it freely, you have done it happily, and you have done it in your own very beautiful way.\\n',\n",
       " '\\n',\n",
       " 'This reality ? this wonderful place ? your success is the greatest cause of anxiety, alarm, and even panic to the North Korean regime. That is why the Kim regime seeks conflict abroad ? to distract from total failure that they suffer at home.\\n',\n",
       " '\\n',\n",
       " 'Since the so-called armistice, there have been hundreds of North Korean attacks on Americans and South Koreans. These attacks have included the capture and torture of the brave American soldiers of the USS Pueblo, repeated assaults on American helicopters, and the 1969 drowning [downing] of a U.S. surveillance plane that killed 31 American servicemen. The regime has made numerous lethal incursions in South Korea, attempted to assassinate senior leaders, attacked South Korean ships, and tortured Otto Warmbier, ultimately leading to that fine young man占쏙옙s death.\\n',\n",
       " '\\n',\n",
       " 'All the while, the regime has pursued nuclear weapons with the deluded hope that it could blackmail its way to the ultimate objective. And that objective we are not going to let it have. We are not going to let it have. All of Korea is under that spell, divided in half. South Korea will never allow what占쏙옙s going on in North Korea to continue to happen.\\n',\n",
       " '\\n',\n",
       " 'The North Korean regime has pursued its nuclear and ballistic missile programs in defiance of every assurance, agreement, and commitment it has made to the United States and its allies. It占쏙옙s broken all of those commitments. After promising to freeze its plutonium program in 1994, it repeated [reaped] the benefits of the deal and then ? and then immediately continued its illicit nuclear activities.\\n',\n",
       " '\\n']"
      ]
     },
     "execution_count": 32,
     "metadata": {},
     "output_type": "execute_result"
    }
   ],
   "source": [
    "# 파이썬을 통한 파일 읽기, \n",
    "docs = []\n",
    "with open('trump_en.txt') as f:    \n",
    "          docs = f.readlines() # 텍스트 파일을 라인단위로 읽어오는 명령어.\n",
    "          \n",
    "docs[:100]  # 100자 단위로 나눔."
   ]
  },
  {
   "cell_type": "markdown",
   "id": "824bf4eb",
   "metadata": {},
   "source": [
    "#### 여기서 단어를 하나 하나 씩 뽑아서 써야할 것 같다.\n",
    "#### 문장/단어 토큰화"
   ]
  },
  {
   "cell_type": "code",
   "execution_count": 33,
   "id": "1ccf2759",
   "metadata": {},
   "outputs": [
    {
     "name": "stdout",
     "output_type": "stream",
     "text": [
      "Collecting image\n",
      "  Downloading image-1.5.33.tar.gz (15 kB)\n",
      "Requirement already satisfied: pillow in c:\\users\\tj\\anaconda3\\envs\\hjk\\lib\\site-packages (from image) (8.3.2)\n",
      "Collecting django\n",
      "  Downloading Django-3.2.9-py3-none-any.whl (7.9 MB)\n",
      "Requirement already satisfied: six in c:\\users\\tj\\anaconda3\\envs\\hjk\\lib\\site-packages (from image) (1.15.0)\n",
      "Collecting sqlparse>=0.2.2\n",
      "  Downloading sqlparse-0.4.2-py3-none-any.whl (42 kB)\n",
      "Collecting asgiref<4,>=3.3.2\n",
      "  Downloading asgiref-3.4.1-py3-none-any.whl (25 kB)\n",
      "Requirement already satisfied: pytz in c:\\users\\tj\\anaconda3\\envs\\hjk\\lib\\site-packages (from django->image) (2021.1)\n",
      "Building wheels for collected packages: image\n",
      "  Building wheel for image (setup.py): started\n",
      "  Building wheel for image (setup.py): finished with status 'done'\n",
      "  Created wheel for image: filename=image-1.5.33-py2.py3-none-any.whl size=19494 sha256=b8e5603cb509e0b503ccafecf22a4e92ee4a6e5f781033a6840656adb664c173\n",
      "  Stored in directory: c:\\users\\tj\\appdata\\local\\pip\\cache\\wheels\\ac\\30\\5c\\a8b33888bea3507eda7c924a143d34b2390d2ca5b145b327b5\n",
      "Successfully built image\n",
      "Installing collected packages: sqlparse, asgiref, django, image\n",
      "Successfully installed asgiref-3.4.1 django-3.2.9 image-1.5.33 sqlparse-0.4.2\n",
      "Requirement already satisfied: pillow in c:\\users\\tj\\anaconda3\\envs\\hjk\\lib\\site-packages (8.3.2)\n"
     ]
    }
   ],
   "source": [
    "# 마스크를 이용한 워드클라우드\n",
    "!pip install image\n",
    "!pip install pillow"
   ]
  },
  {
   "cell_type": "code",
   "execution_count": null,
   "id": "aaff8740",
   "metadata": {},
   "outputs": [],
   "source": []
  }
 ],
 "metadata": {
  "kernelspec": {
   "display_name": "Python 3 (ipykernel)",
   "language": "python",
   "name": "python3"
  },
  "language_info": {
   "codemirror_mode": {
    "name": "ipython",
    "version": 3
   },
   "file_extension": ".py",
   "mimetype": "text/x-python",
   "name": "python",
   "nbconvert_exporter": "python",
   "pygments_lexer": "ipython3",
   "version": "3.8.11"
  }
 },
 "nbformat": 4,
 "nbformat_minor": 5
}
