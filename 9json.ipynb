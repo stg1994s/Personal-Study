{
 "cells": [
  {
   "cell_type": "markdown",
   "id": "dadfec8b-09e7-47c6-b606-005dec477a1d",
   "metadata": {},
   "source": [
    "# 9 json"
   ]
  },
  {
   "cell_type": "code",
   "execution_count": 1,
   "id": "40b2a19b-2e2c-4bec-9210-08098f9e14ab",
   "metadata": {},
   "outputs": [],
   "source": [
    "# yes24.com에서 베스트셀러 메뉴에서 도서명, 저자, 출판사, 가격을 추출해서 books.json으로 저장"
   ]
  },
  {
   "cell_type": "code",
   "execution_count": 2,
   "id": "64fd6ed3-f6b7-4616-9993-f3f810171972",
   "metadata": {},
   "outputs": [],
   "source": [
    "import re\n",
    "import json \n",
    "from collections import OrderedDict"
   ]
  },
  {
   "cell_type": "code",
   "execution_count": 3,
   "id": "5a1db37a-679d-418d-b46f-10fb80247ad3",
   "metadata": {},
   "outputs": [],
   "source": [
    "import requests\n",
    "from bs4 import BeautifulSoup"
   ]
  },
  {
   "cell_type": "code",
   "execution_count": 4,
   "id": "97852f26-55dd-4477-9cee-f0a494c99578",
   "metadata": {},
   "outputs": [],
   "source": [
    "url = 'http://www.yes24.com/24/Category/BestSeller'\n",
    "headers = { }"
   ]
  },
  {
   "cell_type": "code",
   "execution_count": 5,
   "id": "0b31d236-1b5c-4a34-a87a-85b1ff7f11e5",
   "metadata": {},
   "outputs": [],
   "source": [
    "res = requests.get(url, headers=headers)\n",
    "html = BeautifulSoup(res.text, 'lxml')"
   ]
  },
  {
   "cell_type": "code",
   "execution_count": 6,
   "id": "deedd76d-af2a-4e10-82c1-3fb80d0646fc",
   "metadata": {},
   "outputs": [
    {
     "data": {
      "text/plain": [
       "'\\r\\n\\t<!DOCTYPE HTML PUBLIC \"-//W3C//DTD HTML 4.01 Transitional//EN\">\\r\\n\\t<html>\\r\\n\\r\\n<head><base href=\"http://www.yes24.com/24/\" />\\r\\n\\t<meta http-equiv=\"X-UA-Compatible\" content=\"IE=Edge\" />\\r\\n\\t<meta http-equiv=\"Content-Type\" content=\"text/html;charset=euc-kr\" />\\r\\n\\t<meta http-equiv=\"Accept-CH\" content=\"dpr,'"
      ]
     },
     "execution_count": 6,
     "metadata": {},
     "output_type": "execute_result"
    }
   ],
   "source": [
    "res.text[:300]"
   ]
  },
  {
   "cell_type": "code",
   "execution_count": 7,
   "id": "3cd083ad-e77d-4892-921d-7205fd033024",
   "metadata": {},
   "outputs": [],
   "source": [
    "titles = []\n",
    "writers = []\n",
    "pubs = []\n",
    "prices = []"
   ]
  },
  {
   "cell_type": "code",
   "execution_count": 8,
   "id": "d0bc6a52-cdd6-40e3-9247-6148a31a2e08",
   "metadata": {},
   "outputs": [],
   "source": [
    "# 도서 제목 추출\n",
    "for title in html.select('ol li p:nth-child(3)'):\n",
    "    title = re.sub('\\[도서\\] ', '', title.text)\n",
    "    #print(title)\n",
    "    titles.append(title)"
   ]
  },
  {
   "cell_type": "code",
   "execution_count": 9,
   "id": "ebdc97d6-99b0-4d41-8d19-8ef32b671ec3",
   "metadata": {},
   "outputs": [],
   "source": [
    "# 저자 추출\n",
    "for writer in html.select('p.aupu'):\n",
    "    #print(writer.text.split('|')[0].strip())\n",
    "    writer = writer.text.split('|')[0].strip()\n",
    "    writers.append(writer)"
   ]
  },
  {
   "cell_type": "code",
   "execution_count": 10,
   "id": "581e5473-d05f-4031-a6fa-be50a917dbf9",
   "metadata": {},
   "outputs": [],
   "source": [
    "# 출판사 추출\n",
    "for pub in html.select('p.aupu'):\n",
    "    #print(pub.text.split('|')[1].strip())\n",
    "    pub = pub.text.split('|')[1].strip()\n",
    "    pubs.append(pub)"
   ]
  },
  {
   "cell_type": "code",
   "execution_count": 11,
   "id": "a6ea7de8-d9d3-4608-a3bf-0956a44c2213",
   "metadata": {},
   "outputs": [],
   "source": [
    "# 가격 추출\n",
    "for price in html.select('p.price'):\n",
    "    #price = re.sub(',', '', price.text)\n",
    "    #price = re.sub('\\(.*?\\)', '', price)\n",
    "    #price = re.sub('원', '', price)\n",
    "    #print(price.strip())\n",
    "    price = price.text.split('원')[0].strip()\n",
    "    price = re.sub(',', '', price)\n",
    "    #print(price)\n",
    "    prices.append(price)"
   ]
  },
  {
   "cell_type": "code",
   "execution_count": 12,
   "id": "94cfd1cc-00df-45af-ade6-1248b0ac52b6",
   "metadata": {},
   "outputs": [
    {
     "name": "stdout",
     "output_type": "stream",
     "text": [
      "{\n",
      "  \"books\": [\n",
      "    {\n",
      "      \"해커스 토익 기출 보카\": \"트렌드 코리아 2022\",\n",
      "      \"데이비드 조 저\": \"이혜원,서울대학교 생활과학연구소 소비트렌드분석센터,한다혜,권정윤,서유현 저 외 6명\",\n",
      "      \"해커스어학연구소\": \"미래의창\",\n",
      "      \"11610\": \"16200\"\n",
      "    },\n",
      "    {\n",
      "      \"해커스 \n"
     ]
    }
   ],
   "source": [
    "# 스크래핑한 도서목록을 json형식으로 재구성\n",
    "allbooks = OrderedDict()\n",
    "books = []\n",
    "\n",
    "for i in range(len(titles)):\n",
    "    book = OrderedDict()\n",
    "    book[title] = titles[i]\n",
    "    book[writer] = writers[i]\n",
    "    book[pub] = pubs[i]\n",
    "    book[price] = prices[i]\n",
    "    books.append(book)\n",
    "    \n",
    "allbooks['books'] = books\n",
    "print(json.dumps(allbooks, ensure_ascii=False, indent=2)[:200])"
   ]
  },
  {
   "cell_type": "code",
   "execution_count": 13,
   "id": "4603923b-148b-4452-b9f5-0e0f8ead8ecb",
   "metadata": {},
   "outputs": [],
   "source": [
    "# 생성한 json 객체를 파일로 저장\n",
    "with open('allbooks.json', 'w', encoding='utf-8') as f:\n",
    "    json.dump(allbooks, f, ensure_ascii=False)"
   ]
  },
  {
   "cell_type": "code",
   "execution_count": 14,
   "id": "8e873469-55c5-4ea3-91da-dee35faad3a7",
   "metadata": {},
   "outputs": [
    {
     "name": "stdout",
     "output_type": "stream",
     "text": [
      "{'books': [{'해커스 토익 기출 보카': '트렌드 코리아 2022', '데이비드 조 저': '이혜원,서울대학교 생활과학연구소 소비트렌드분석센터,한다혜,권정윤,서유현 저 외 6명', '해커스어학연구소': '미래의창', '11610': '16200'}, {'해커스 토익 기출 보카': '설민석의 한국사 대모험 18', '데이비드 조 저': '스토리박스,설민석 글/정현희 그림/강석화 감수', '해커스어학연구소': '아이휴먼', '11610': '10800'}, {'해커스 토익 기출 보카': '달러구트 꿈 백화점 2', '데이비드 조 저': '이미예 저', '해커스어학연구소': '팩토리나인', '11610': '12420'}, {'해커스 토익 기출 보카': '방금 떠나온 세계', '데이비드 조 저': '김초엽 저', '해커스어학연구소': '한겨레출판', '11610': '13500'}, {'해커스 토익 기출 보카': '달러구트 꿈 백화점', '데이비드 조 저': '이미예 저', '해커스어학연구소': '팩토리나인', '11610': '12420'}, {'해커스 토익 기출 보카': '인생은 실전이다', '데이비드 조 저': '신영준,주언규(신사임당) 저', '해커스어학연구소': '상상스퀘어', '11610': '16650'}, {'해커스 토익 기출 보카': '4~7세 보다 중요한 시기는 없습니다', '데이비드 조 저': '이임숙 저', '해커스어학연구소': '카시오페아', '11610': '14400'}, {'해커스 토익 기출 보카': '그냥 하지 말라', '데이비드 조 저': '송길영 저', '해커스어학연구소': '북스톤', '11610': '15300'}, {'해커스 토익 기출 보카': '갯마을 차차차 2', '데이비드 조 저': '신하은 저', '해커스어학연구소': '북로그컴퍼니', '11610': '16200'}, {'해커스 토익 기출 보카': '갯마을 차차차 1', '데이비드 조 저': '신하은 저', '해커스어학연구소': '북로그컴퍼니', '11610': '16200'}, {'해커스 토익 기출 보카': '햇빛은 찬란하고 인생은 귀하니까요', '데이비드 조 저': '장명숙 저', '해커스어학연구소': '김영사', '11610': '13320'}, {'해커스 토익 기출 보카': '돈, 뜨겁게 사랑하고 차갑게 다루어라', '데이비드 조 저': '앙드레 코스톨라니 저', '해커스어학연구소': '미래의창', '11610': '10800'}, {'해커스 토익 기출 보카': '듄 신장판 전집 세트', '데이비드 조 저': '프랭크 허버트 저/김승욱 역', '해커스어학연구소': '황금가지', '11610': '108000'}, {'해커스 토익 기출 보카': '불편한 편의점', '데이비드 조 저': '김호연 저', '해커스어학연구소': '나무옆의자', '11610': '12600'}, {'해커스 토익 기출 보카': '오늘 밤, 세계에서 이 사랑이 사라진다 해도', '데이비드 조 저': '이치조 미사키 저/권영주 역', '해커스어학연구소': '모모', '11610': '12600'}, {'해커스 토익 기출 보카': '거꾸로 읽는 세계사', '데이비드 조 저': '유시민 저', '해커스어학연구소': '돌베개', '11610': '15750'}, {'해커스 토익 기출 보카': '미드나잇 라이브러리', '데이비드 조 저': '매트 헤이그 저/노진선 역', '해커스어학연구소': '인플루엔셜', '11610': '14220'}, {'해커스 토익 기출 보카': '세금 내는 아이들', '데이비드 조 저': '옥효진 글/김미연 그림', '해커스어학연구소': '한국경제신문사(한경비피)', '11610': '12600'}, {'해커스 토익 기출 보카': '돈의 심리학', '데이비드 조 저': '모건 하우절 저/이지연 역', '해커스어학연구소': '인플루엔셜', '11610': '17820'}, {'해커스 토익 기출 보카': '어떻게 말해줘야 할까', '데이비드 조 저': '오은영 저/차상미 그림', '해커스어학연구소': '김영사', '11610': '15750'}, {'해커스 토익 기출 보카': '채사장의 지대넓얕 1 : 권력의 탄생', '데이비드 조 저': '채사장,마케마케 글/정용환 그림', '해커스어학연구소': '돌핀북', '11610': '12600'}, {'해커스 토익 기출 보카': '초등 사자소학', '데이비드 조 저': '송재환 글/인호빵 그림', '해커스어학연구소': '위즈덤하우스', '11610': '12420'}, {'해커스 토익 기출 보카': '오은영의 화해', '데이비드 조 저': '오은영 저', '해커스어학연구소': '코리아닷컴(Korea.com)', '11610': '14400'}, {'해커스 토익 기출 보카': '소크라테스 익스프레스', '데이비드 조 저': '에릭 와이너 저/김하현 역', '해커스어학연구소': '어크로스', '11610': '16200'}, {'해커스 토익 기출 보카': '그리스 로마 신화 25', '데이비드 조 저': '박시연 글/최우빈 그림/김헌 감수', '해커스어학연구소': '아울북', '11610': '12600'}, {'해커스 토익 기출 보카': '크리스마스 피그', '데이비드 조 저': 'J.K. 롤링 저/짐 필드 일러스트/공보경 역', '해커스어학연구소': '문학수첩', '11610': '18000'}, {'해커스 토익 기출 보카': '해리 포터와 비밀의 방 : 미나리마 에디션', '데이비드 조 저': 'J.K. 롤링 저/미나리마 그림/강동혁 역', '해커스어학연구소': '문학수첩', '11610': '29700'}, {'해커스 토익 기출 보카': '아들의 뇌', '데이비드 조 저': '곽윤정 저', '해커스어학연구소': '포레스트북스', '11610': '13500'}, {'해커스 토익 기출 보카': '모든 것은 기본에서 시작한다', '데이비드 조 저': '손웅정 저', '해커스어학연구소': '수오서재', '11610': '14400'}, {'해커스 토익 기출 보카': '듄 신장판 1', '데이비드 조 저': '프랭크 허버트 저/김승욱 역', '해커스어학연구소': '황금가지', '11610': '22500'}, {'해커스 토익 기출 보카': '공부의 본질 ', '데이비드 조 저': '이윤규 저', '해커스어학연구소': '빅피시', '11610': '14850'}, {'해커스 토익 기출 보카': '양순이네 떡집', '데이비드 조 저': '김리리 글/김이랑 그림', '해커스어학연구소': '비룡소', '11610': '9900'}, {'해커스 토익 기출 보카': '설민석의 세계사 대모험 10', '데이비드 조 저': '설민석,김정욱 글/박성일 그림/원태준 감수', '해커스어학연구소': '단꿈아이', '11610': '10800'}, {'해커스 토익 기출 보카': '작별하지 않는다', '데이비드 조 저': '한강 저', '해커스어학연구소': '문학동네', '11610': '12600'}, {'해커스 토익 기출 보카': '지금은 나만의 시간입니다', '데이비드 조 저': '김유진 저', '해커스어학연구소': '토네이도', '11610': '13500'}, {'해커스 토익 기출 보카': '잘했고 잘하고 있고 잘 될 것이다', '데이비드 조 저': '정영욱 저', '해커스어학연구소': '부크럼', '11610': '13500'}, {'해커스 토익 기출 보카': '부자 아빠 가난한 아빠 20주년 특별 기념판', '데이비드 조 저': '로버트 기요사키 저/안진환 역', '해커스어학연구소': '민음인', '11610': '14220'}, {'해커스 토익 기출 보카': '베서니와 괴물의 복수', '데이비드 조 저': '잭 메기트-필립스 글/이사벨 폴라트 그림/김선희 역', '해커스어학연구소': '요요', '11610': '12600'}, {'해커스 토익 기출 보카': '[만화] 열혈강호 84 ', '데이비드 조 저': '전극진 글/양재현 그림', '해커스어학연구소': '대원', '11610': '4050'}, {'해커스 토익 기출 보카': '해커스 토익 기출 보카', '데이비드 조 저': '데이비드 조 저', '해커스어학연구소': '해커스어학연구소', '11610': '11610'}]}\n"
     ]
    }
   ],
   "source": [
    "with open('allbooks.json', encoding='utf-8') as f:\n",
    "    allbooks = json.load(f)\n",
    "\n",
    "print(allbooks)"
   ]
  },
  {
   "cell_type": "code",
   "execution_count": null,
   "id": "fe0aeda1-fec0-4db1-b6ef-42e6985b22a4",
   "metadata": {},
   "outputs": [],
   "source": []
  },
  {
   "cell_type": "code",
   "execution_count": null,
   "id": "fa8566f4-57e4-4d94-9b37-86bffff899a3",
   "metadata": {},
   "outputs": [],
   "source": []
  },
  {
   "cell_type": "code",
   "execution_count": null,
   "id": "204bb984-ac11-4885-9acf-8300c7b127e7",
   "metadata": {},
   "outputs": [],
   "source": []
  },
  {
   "cell_type": "code",
   "execution_count": null,
   "id": "427582bb-2f26-493f-b074-3a5d060f063c",
   "metadata": {},
   "outputs": [],
   "source": []
  },
  {
   "cell_type": "code",
   "execution_count": null,
   "id": "3bf24920-ab2f-42e2-b712-34383be631f3",
   "metadata": {},
   "outputs": [],
   "source": []
  },
  {
   "cell_type": "code",
   "execution_count": null,
   "id": "09541384-229f-4850-b8b4-1eb0acb1e89b",
   "metadata": {},
   "outputs": [],
   "source": []
  },
  {
   "cell_type": "code",
   "execution_count": null,
   "id": "4d837ee2-d1a2-47a4-883e-848cc6d86288",
   "metadata": {},
   "outputs": [],
   "source": []
  }
 ],
 "metadata": {
  "kernelspec": {
   "display_name": "Python 3",
   "language": "python",
   "name": "python3"
  },
  "language_info": {
   "codemirror_mode": {
    "name": "ipython",
    "version": 3
   },
   "file_extension": ".py",
   "mimetype": "text/x-python",
   "name": "python",
   "nbconvert_exporter": "python",
   "pygments_lexer": "ipython3",
   "version": "3.8.8"
  }
 },
 "nbformat": 4,
 "nbformat_minor": 5
}
