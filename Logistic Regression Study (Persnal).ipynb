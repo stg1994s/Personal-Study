{
 "cells": [
  {
   "cell_type": "code",
   "execution_count": 17,
   "id": "a1efe35d",
   "metadata": {},
   "outputs": [],
   "source": [
    "import numpy as np"
   ]
  },
  {
   "cell_type": "markdown",
   "id": "5283f69c",
   "metadata": {},
   "source": [
    "### 이 학습의 목적은 파이썬과 numpy 모듈의 기능을 통한 간단한 수식을 포함한 예제로 스스로 선형 회귀 학습을 실시하는 것이다."
   ]
  },
  {
   "cell_type": "code",
   "execution_count": 18,
   "id": "531d96f4",
   "metadata": {},
   "outputs": [],
   "source": [
    "# x값과 y값\n",
    "x =[ 2, 4, 6, 8]\n",
    "y = [81, 93, 91, 97]"
   ]
  },
  {
   "cell_type": "code",
   "execution_count": 19,
   "id": "42e0b8c9",
   "metadata": {},
   "outputs": [
    {
     "name": "stdout",
     "output_type": "stream",
     "text": [
      "x의 평균값 5.0\n",
      "y의 평균값 90.5\n"
     ]
    }
   ],
   "source": [
    "# x와 y의 평균값 \n",
    "\n",
    "mx = np.mean(x)\n",
    "my = np.mean(y)\n",
    "print(\"x의 평균값\",mx)\n",
    "print(\"y의 평균값\",my)"
   ]
  },
  {
   "cell_type": "code",
   "execution_count": 20,
   "id": "a8858094",
   "metadata": {},
   "outputs": [],
   "source": [
    "# 기울기 공식의 분모\n",
    "divisor = sum([(mx - i)**2 for i in x])"
   ]
  },
  {
   "cell_type": "code",
   "execution_count": 21,
   "id": "51e842a3",
   "metadata": {},
   "outputs": [],
   "source": [
    "# 기울기 공식의 분자 \n",
    "\n",
    "def top(x, mx, y, my):\n",
    "    d = 0\n",
    "    for i in range(len(x)):\n",
    "        d += (x[i]-mx) * (y[i] -my)\n",
    "    return d\n",
    "dividend = top(x, mx, y, my)"
   ]
  },
  {
   "cell_type": "code",
   "execution_count": 22,
   "id": "bf359b69",
   "metadata": {},
   "outputs": [
    {
     "name": "stdout",
     "output_type": "stream",
     "text": [
      "분모 20.0\n",
      "분자: 46.0\n"
     ]
    }
   ],
   "source": [
    "print(\"분모\", divisor)\n",
    "print(\"분자:\", dividend)"
   ]
  },
  {
   "cell_type": "code",
   "execution_count": 23,
   "id": "9525bf44",
   "metadata": {},
   "outputs": [
    {
     "name": "stdout",
     "output_type": "stream",
     "text": [
      "기울기 a= 2.3\n",
      "y 절편 b=\" 79.0\n"
     ]
    }
   ],
   "source": [
    "# 기울기와 x 절편 구하기\n",
    "a = dividend / divisor\n",
    "b = my - (mx*a)\n",
    "\n",
    "# 출력으로 확인\n",
    "print(\"기울기 a=\", a)\n",
    "print('y 절편 b=\"', b)"
   ]
  },
  {
   "cell_type": "markdown",
   "id": "af7f51f5",
   "metadata": {},
   "source": [
    "## 파이썬으로 최소 제곱법을 구현해 기울기 a의 값과 y 절편 b의 값이 각각 2.3과 79임을 구할 수 있었다."
   ]
  },
  {
   "cell_type": "code",
   "execution_count": null,
   "id": "a2c87945",
   "metadata": {},
   "outputs": [],
   "source": []
  }
 ],
 "metadata": {
  "kernelspec": {
   "display_name": "Python 3 (ipykernel)",
   "language": "python",
   "name": "python3"
  },
  "language_info": {
   "codemirror_mode": {
    "name": "ipython",
    "version": 3
   },
   "file_extension": ".py",
   "mimetype": "text/x-python",
   "name": "python",
   "nbconvert_exporter": "python",
   "pygments_lexer": "ipython3",
   "version": "3.8.11"
  }
 },
 "nbformat": 4,
 "nbformat_minor": 5
}
