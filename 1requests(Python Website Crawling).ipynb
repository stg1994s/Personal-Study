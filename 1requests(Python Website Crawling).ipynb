{
 "cells": [
  {
   "cell_type": "markdown",
   "id": "2cd9d7a0-f039-402b-8bf6-2c82621c84e8",
   "metadata": {},
   "source": [
    "## 파이썬으로 크롤링 하기\n",
    " * 웹 상에 존재하는 다양한 컨텐츠를 수집하는 행위\n",
    " * html 문서를 통채로 읽어서 내용을 분석한 뒤\n",
    "   필요한 데이터만 골라서 추출하는 것이 주된 작업\n",
    "    \n",
    "## 파이썬으로 크롤링 하기\n",
    "* urllib/urllib2 : 사용하기 무난, 코드 단순, 내장 패키지\n",
    "* requests : 따로 설치, urllib보다 고급기능 제공\n",
    "* lxml : 웹을 통해 읽어 들인 문서 내용 분석 문서내에서 필요한 데이터를 추출하는데 사용 \n",
    "\n"
   ]
  },
  {
   "cell_type": "code",
   "execution_count": 4,
   "id": "c2e925cc-0bf8-4774-bed2-42757b047fbb",
   "metadata": {},
   "outputs": [
    {
     "name": "stdout",
     "output_type": "stream",
     "text": [
      "Requirement already satisfied: requests in c:\\users\\tj\\anaconda3\\lib\\site-packages (2.25.1)\n",
      "Requirement already satisfied: chardet<5,>=3.0.2 in c:\\users\\tj\\anaconda3\\lib\\site-packages (from requests) (4.0.0)\n",
      "Requirement already satisfied: urllib3<1.27,>=1.21.1 in c:\\users\\tj\\anaconda3\\lib\\site-packages (from requests) (1.26.4)\n",
      "Requirement already satisfied: idna<3,>=2.5 in c:\\users\\tj\\anaconda3\\lib\\site-packages (from requests) (2.10)\n",
      "Requirement already satisfied: certifi>=2017.4.17 in c:\\users\\tj\\anaconda3\\lib\\site-packages (from requests) (2020.12.5)\n",
      "Collecting cssselect\n",
      "  Downloading cssselect-1.1.0-py2.py3-none-any.whl (16 kB)\n",
      "Installing collected packages: cssselect\n",
      "Successfully installed cssselect-1.1.0\n"
     ]
    }
   ],
   "source": [
    "!pip install requests\n",
    "!pip install cssselect"
   ]
  },
  {
   "cell_type": "code",
   "execution_count": 5,
   "id": "aac08058-d1bb-416a-ad2c-c602d697933a",
   "metadata": {},
   "outputs": [
    {
     "name": "stdout",
     "output_type": "stream",
     "text": [
      "Requirement already satisfied: lxml in c:\\users\\tj\\anaconda3\\lib\\site-packages (4.6.3)\n",
      "Note: you may need to restart the kernel to use updated packages.\n"
     ]
    }
   ],
   "source": [
    "pip install lxml"
   ]
  },
  {
   "cell_type": "code",
   "execution_count": 6,
   "id": "b8b335b1-578b-45f2-8100-a913e984f79c",
   "metadata": {},
   "outputs": [],
   "source": [
    "import requests\n",
    "import lxml.html\n",
    "from lxml.cssselect import CSSSelector\n",
    "\n",
    "# 한빛미디어 홈페이지(hanb.co.kr)의 베스트셀러 페이지의\n",
    "# 도서정보 (이미지, 도서명, 저자, 가격)를 수집하세요\n",
    "\n",
    "\n",
    "\n"
   ]
  },
  {
   "cell_type": "code",
   "execution_count": 7,
   "id": "0d58da7f-e7f4-4820-9609-c33f84f17b8c",
   "metadata": {},
   "outputs": [],
   "source": [
    "url = 'https://www.hanbit.co.kr/store/books/bestseller_list.html'"
   ]
  },
  {
   "cell_type": "code",
   "execution_count": 8,
   "id": "e9e4d7cb-e6da-48fd-a929-97cf3af328ac",
   "metadata": {},
   "outputs": [
    {
     "data": {
      "text/plain": [
       "<Response [200]>"
      ]
     },
     "execution_count": 8,
     "metadata": {},
     "output_type": "execute_result"
    }
   ],
   "source": [
    "# 지정한 url의 문서를 읽어옴 : get(주소, 옵션)\n",
    "\n",
    "requests.get(url)"
   ]
  },
  {
   "cell_type": "code",
   "execution_count": 9,
   "id": "15c9ba2a-2674-4ca3-97ce-ed4cbb43416b",
   "metadata": {},
   "outputs": [],
   "source": [
    "res = requests.get(url) "
   ]
  },
  {
   "cell_type": "code",
   "execution_count": 10,
   "id": "dd3b0e19-5485-48a3-87ec-2390823f15ed",
   "metadata": {},
   "outputs": [
    {
     "name": "stdout",
     "output_type": "stream",
     "text": [
      "200 UTF-8 text/html; charset=UTF-8\n"
     ]
    }
   ],
   "source": [
    "# requests 패키지 실행후 유용한 변수로 결과 확인\n",
    "# http 응답코드, 응답으로 받은 컨텐츠의 인코딩 및 \n",
    "# 컨텐츠 유형 확인 \n",
    "print(res.status_code, res.encoding,res.headers['content-type'])"
   ]
  },
  {
   "cell_type": "code",
   "execution_count": 11,
   "id": "d17f7a25-abdc-40de-b518-16cfe093a6b2",
   "metadata": {},
   "outputs": [
    {
     "data": {
      "text/plain": [
       "b'<!DOCTYPE html>\\r\\n<html lang=\"ko\">\\r\\n<head>\\r\\n<!--[if lte IE 8]>\\r\\n<script>\\r\\n  location.replace(\\'/support/explorer_upgrade.html\\');\\r\\n</script>\\r\\n<![endif]-->\\r\\n<meta charset=\"utf-8\"/>\\r\\n<title>\\xed\\x95\\x9c\\xeb\\xb9\\x9b\\xec\\xb6\\x9c\\xed\\x8c\\x90\\xeb\\x84\\xa4\\xed\\x8a\\xb8\\xec\\x9b\\x8c\\xed\\x81\\xac</title>\\r\\n<link rel=\"shortcut icon\" href=\"https://www.hanbit.co.kr/images/common/hanbit.ico\"> \\r\\n<meta http-equiv=\"X-UA-Compatible\" content=\"IE=Edge\" />\\r\\n<meta property=\"og:type\" content=\"website\"/>\\r\\n<meta property=\"og:title\" content=\"\\xed\\x95\\x9c\\xeb\\xb9\\x9b\\xec\\xb6\\x9c\\xed\\x8c\\x90\\xeb\\x84\\xa4\\xed\\x8a\\xb8\\xec\\x9b\\x8c\\xed\\x81\\xac\"/>\\r\\n<meta property=\"og:descripti'"
      ]
     },
     "execution_count": 11,
     "metadata": {},
     "output_type": "execute_result"
    }
   ],
   "source": [
    "# 응답으로 받은 컨텐츠 확인 : text, conent\n",
    "res.text[:500]\n",
    "res.content[:500]\n"
   ]
  },
  {
   "cell_type": "code",
   "execution_count": 12,
   "id": "39b8e386-d5e0-4e9e-88c7-56981a9375ec",
   "metadata": {},
   "outputs": [],
   "source": [
    "# 스크래핑한 결과를 분석해서 필요한 데이터를\n",
    "# 추출하기 위해 따로 변수로 저장\n",
    "html = res.text\n",
    " "
   ]
  },
  {
   "cell_type": "code",
   "execution_count": 13,
   "id": "d6049f8f-711e-4bee-813f-b3b4b9d69d7e",
   "metadata": {},
   "outputs": [],
   "source": [
    "# html 문서에 저장된 문서 내 요소들을\n",
    "# 탐색하기 편하도록 계층구조 DOM로 생성\n",
    "root = lxml.html.fromstring(html)\n",
    "#web develop"
   ]
  },
  {
   "cell_type": "code",
   "execution_count": 14,
   "id": "35a0a1a4-c888-47b4-936e-edc028efe546",
   "metadata": {},
   "outputs": [],
   "source": [
    "titles = []\n",
    "authors = []\n",
    "prices = []\n",
    "thumbs = []\n",
    "\n",
    "# 모든 p 태그들 중에서 클래스명이 book_tit인 p태그들(를)\n",
    "# 찾은 후 하위 태그가 a인 요소들을 추출 선택select한 후 \n",
    "# 텍스트 요소를 추출함 \n",
    "for title in root.cssselect('p.book_tit a'):\n",
    "    # print(title.text_content())\n",
    "    titles.append( title.text_content() ) # 선택자를 지정하는게 중요, 내가 추출할려고 하는게 어느 태그에 둘러쌓여 있는지!"
   ]
  },
  {
   "cell_type": "markdown",
   "id": "0efcbe96-835b-4c48-98eb-6b7c4da64c72",
   "metadata": {},
   "source": [
    "# 개념을 파악하기 위해서 어렵게 합니다. 지금은 바로 찾아보죠."
   ]
  },
  {
   "cell_type": "markdown",
   "id": "d137ea5a-d198-4ef6-a5a5-e4cb8d80a086",
   "metadata": {},
   "source": [
    "# 가격이랑 저자도 한번 뽑아봅시다."
   ]
  },
  {
   "cell_type": "code",
   "execution_count": 15,
   "id": "a1f7db4e-53b6-48d7-81ca-880b3e1ee8c7",
   "metadata": {},
   "outputs": [],
   "source": [
    "for author in root.cssselect('span.price'):\n",
    "    # print(author.text_content()) # css로 선택한다는 뜻\n",
    "    authors.append(author.text_content())"
   ]
  },
  {
   "cell_type": "code",
   "execution_count": 16,
   "id": "50abf80c-8030-4d0d-8018-97fa616c4390",
   "metadata": {},
   "outputs": [
    {
     "name": "stdout",
     "output_type": "stream",
     "text": [
      "\"혼자 공부하는 머신러닝+딥러닝\", \"23,400원\", []\n",
      "\n",
      "\"회사에서 바로 통하는 실무 엑셀+파워포인트+워드&한글\", \"19,800원\", []\n",
      "\n",
      "\"IT CookBook, 데이터베이스 개론(2판)\", \"27,000원\", []\n",
      "\n",
      "\"IT CookBook, 시스템 프로그래밍: 리눅스&유닉스\", \"28,000원\", []\n",
      "\n",
      "\"눈 떠보니 선진국\", \"14,850원\", []\n",
      "\n",
      "\"미라클 모닝\", \"10,800원\", []\n",
      "\n",
      "\"심리 읽어드립니다\", \"15,750원\", []\n",
      "\n",
      "\"나도 손글씨 바르게 쓰면 소원이 없겠네\", \"10,800원\", []\n",
      "\n",
      "\"리얼 국내여행 [2021~2022년 최신판]\", \"16,200원\", []\n",
      "\n",
      "\"재미있고 빠른 첫 한글 쓰기 1권 : 모음∙자음∙쉬운 낱말\", \"5,850원\", []\n",
      "\n",
      "\"재미있고 빠른 첫 한글 쓰기 2권 : 가나다 글자\", \"5,850원\", []\n",
      "\n",
      "\"C#과 데이터베이스로 누구나 쉽게 주식 자동매매 시스템 만들기\", \"14,400원\", []\n",
      "\n",
      "\"유니티 개발자를 위한 C#으로 온라인 게임 서버 만들기\", \"9,900원\", []\n",
      "\n",
      "\"혼자 공부하는 파이썬\", \"16,200원\", []\n",
      "\n",
      "\"이것이 취업을 위한 코딩 테스트다 with 파이썬\", \"30,600원\", []\n",
      "\n"
     ]
    }
   ],
   "source": [
    "# 추출한 데이터들을 csv 형식으로 재작성\n",
    "# 혼자 공부하는 파이썬, 윤인성, 16200\n",
    "\n",
    "for i in range(len(titles)):\n",
    "    print(f'\"{titles[i]}\", \"{authors[i]}\", {prices}\\n')"
   ]
  },
  {
   "cell_type": "code",
   "execution_count": 17,
   "id": "0ed19e34-b68f-4a4d-bd5c-c17b3210ebd3",
   "metadata": {},
   "outputs": [],
   "source": [
    "# 이미지 뽑기\n",
    "for thumb in root.cssselect('img.thumb'):\n",
    "    # print(thumb.get('src'))\n",
    "    thumbs.append(thumb.get('src'))"
   ]
  },
  {
   "cell_type": "code",
   "execution_count": 18,
   "id": "0d63e8e6-48ff-42a7-8c19-1623e4fb2edf",
   "metadata": {},
   "outputs": [
    {
     "name": "stdout",
     "output_type": "stream",
     "text": [
      "\"혼자 공부하는 머신러닝+딥러닝\", \"23,400원\", []\n",
      "\n",
      "\"회사에서 바로 통하는 실무 엑셀+파워포인트+워드&한글\", \"19,800원\", []\n",
      "\n",
      "\"IT CookBook, 데이터베이스 개론(2판)\", \"27,000원\", []\n",
      "\n",
      "\"IT CookBook, 시스템 프로그래밍: 리눅스&유닉스\", \"28,000원\", []\n",
      "\n",
      "\"눈 떠보니 선진국\", \"14,850원\", []\n",
      "\n",
      "\"미라클 모닝\", \"10,800원\", []\n",
      "\n",
      "\"심리 읽어드립니다\", \"15,750원\", []\n",
      "\n",
      "\"나도 손글씨 바르게 쓰면 소원이 없겠네\", \"10,800원\", []\n",
      "\n",
      "\"리얼 국내여행 [2021~2022년 최신판]\", \"16,200원\", []\n",
      "\n",
      "\"재미있고 빠른 첫 한글 쓰기 1권 : 모음∙자음∙쉬운 낱말\", \"5,850원\", []\n",
      "\n",
      "\"재미있고 빠른 첫 한글 쓰기 2권 : 가나다 글자\", \"5,850원\", []\n",
      "\n",
      "\"C#과 데이터베이스로 누구나 쉽게 주식 자동매매 시스템 만들기\", \"14,400원\", []\n",
      "\n",
      "\"유니티 개발자를 위한 C#으로 온라인 게임 서버 만들기\", \"9,900원\", []\n",
      "\n",
      "\"혼자 공부하는 파이썬\", \"16,200원\", []\n",
      "\n",
      "\"이것이 취업을 위한 코딩 테스트다 with 파이썬\", \"30,600원\", []\n",
      "\n"
     ]
    }
   ],
   "source": [
    "for i in range(len(thumbs)):\n",
    "    print(f'\"{titles[i]}\", \"{authors[i]}\", {prices}\\n')"
   ]
  },
  {
   "cell_type": "code",
   "execution_count": 19,
   "id": "7dead98c-d77d-4e7c-9a55-357ab1a949f6",
   "metadata": {},
   "outputs": [],
   "source": [
    "for i in range(len(prices)):\n",
    "    print(f'\"{titles[i]}\", \"{authors[i]}\", {prices}\\n')"
   ]
  },
  {
   "cell_type": "code",
   "execution_count": 20,
   "id": "a0bafc5b-c400-4422-a045-fa2f591917b7",
   "metadata": {},
   "outputs": [],
   "source": [
    "# 이미지 뽑기\n",
    "\n",
    "for thumb in root.cssselect('img.thumb'):\n",
    "    # print(thumb.get('src'))\n",
    "    thumbs.append(thumb.get('src'))"
   ]
  },
  {
   "cell_type": "code",
   "execution_count": 21,
   "id": "ad58c5fb-97ca-488e-bd12-4adb8a5bbb9d",
   "metadata": {},
   "outputs": [],
   "source": [
    "# 추출한 데이터들을 csv 형식으로 재작성\n",
    "# 혼자 공부하는 파이썬, 윤인성, 16200"
   ]
  },
  {
   "cell_type": "code",
   "execution_count": 31,
   "id": "1d09fded-217e-42f8-8c9e-5490b3245b14",
   "metadata": {},
   "outputs": [],
   "source": [
    "# 추출한 데이터들을 csv 파일로 저장\n",
    "hdr = 'title,author,price,thumb\\n'\n",
    "with open('books.csv', 'w') as f:\n",
    "    f.write(hdr)\n",
    "    f.write(data)"
   ]
  },
  {
   "cell_type": "code",
   "execution_count": 32,
   "id": "f3b72f4a-63f5-400d-9e5f-adebb0b67dc4",
   "metadata": {},
   "outputs": [],
   "source": [
    "# 한빛미디어 홈페이지의 '새로나온책' 페이지의\n",
    "# 도서정보(이미지,도서명,저자,가격)를 수집하세요\n",
    "# 단, 1~3페이지까지의 도서들을 대상으로 수집합니다."
   ]
  },
  {
   "cell_type": "code",
   "execution_count": 33,
   "id": "b93a5ac9-90f9-42e7-8aad-841205c3ce75",
   "metadata": {},
   "outputs": [],
   "source": [
    "url = 'https://www.hanbit.co.kr/store/books/full_book_list.html'\n",
    "\n",
    "# 지정한 url의 문서를 읽어옴 : get(주소, 옵션)\n",
    "\n",
    "res = requests.get(url)\n",
    "html = res.text\n",
    "root = lxml.html.fromstring(html)\n",
    "\n",
    "# 리스트 선언하시고.\n",
    "\n",
    "brands = []\n",
    "titles = []\n",
    "writers = []\n",
    "pubdates = []\n",
    "prices = []"
   ]
  },
  {
   "cell_type": "code",
   "execution_count": 34,
   "id": "15501639-3545-4e64-9501-33b920286ed1",
   "metadata": {},
   "outputs": [
    {
     "name": "stdout",
     "output_type": "stream",
     "text": [
      "한빛비즈\n",
      "한빛미디어\n",
      "한빛미디어\n",
      "한빛미디어\n",
      "한빛미디어\n",
      "한빛아카데미\n",
      "한빛에듀\n",
      "한빛미디어\n",
      "한빛아카데미\n",
      "한빛미디어\n",
      "한빛미디어\n",
      "한빛미디어\n",
      "한빛비즈\n",
      "한빛아카데미\n",
      "한빛에듀\n",
      "한빛에듀\n",
      "한빛라이프\n",
      "한빛비즈\n",
      "한빛미디어\n",
      "한빛미디어\n",
      "한빛미디어\n",
      "한빛미디어\n",
      "한빛미디어\n",
      "한빛라이프\n",
      "한빛비즈\n",
      "한빛아카데미\n",
      "한빛미디어\n",
      "한빛비즈\n",
      "한빛미디어\n",
      "한빛아카데미\n",
      "한빛미디어\n",
      "한빛미디어\n",
      "한빛비즈\n",
      "한빛아카데미\n",
      "한빛비즈\n",
      "한빛아카데미\n",
      "한빛에듀\n",
      "한빛에듀\n",
      "한빛에듀\n",
      "한빛미디어\n",
      "한빛미디어\n",
      "한빛라이프\n",
      "한빛비즈\n",
      "한빛아카데미\n",
      "한빛아카데미\n",
      "한빛아카데미\n",
      "한빛미디어\n",
      "한빛미디어\n",
      "한빛아카데미\n",
      "한빛라이프\n"
     ]
    }
   ],
   "source": [
    "# css 선택자가 요소마다 다름. 기억할 것! brd_m만 입력하면 안됨.\n",
    "# 이런 경우 이름을 요소를 선택하는 것보다는\n",
    "# 요소의 위치를 선택자로 사용해서 요소를 선택하는 것이 좋음.\n",
    "\n",
    "# for brand in root.cssselect('td.brd_m'):\n",
    "  #  print(brand.text_content())\n",
    "\n",
    "# 모든 td태그들 중에서 첫번쨰 td태그(들)를 선택함\n",
    "# 텍스트를 정확히 지정하지 못한다면 if 문을 써서 빈칸이 아닌 면 집어넣어도 되겠죠. 여러분의 센스로 처리하시면 됩니다.\n",
    "\n",
    "for brand in root.cssselect('table.tbl_type_list td:first_child'):\n",
    "    print(brand.text_content())"
   ]
  },
  {
   "cell_type": "code",
   "execution_count": 35,
   "id": "9f2b477f-a60a-4550-8211-72c82c37057e",
   "metadata": {},
   "outputs": [
    {
     "name": "stdout",
     "output_type": "stream",
     "text": [
      "2021-11-08\n",
      "2021-11-03\n",
      "2021-11-01\n",
      "2021-11-01\n",
      "2021-11-01\n",
      "2021-10-29\n",
      "2021-10-28\n",
      "2021-10-21\n",
      "2021-10-15\n",
      "2021-10-11\n",
      "2021-10-10\n",
      "2021-10-10\n",
      "2021-10-08\n",
      "2021-10-08\n",
      "2021-10-08\n",
      "2021-10-08\n",
      "2021-10-06\n",
      "2021-10-01\n",
      "2021-09-30\n",
      "2021-09-30\n",
      "2021-09-28\n",
      "2021-09-27\n",
      "2021-09-27\n",
      "2021-09-17\n",
      "2021-09-10\n",
      "2021-09-10\n",
      "2021-09-06\n",
      "2021-09-03\n",
      "2021-09-01\n",
      "2021-08-31\n",
      "2021-08-30\n",
      "2021-08-30\n",
      "2021-08-30\n",
      "2021-08-27\n",
      "2021-08-25\n",
      "2021-08-23\n",
      "2021-08-23\n",
      "2021-08-23\n",
      "2021-08-23\n",
      "2021-08-20\n",
      "2021-08-20\n",
      "2021-08-20\n",
      "2021-08-16\n",
      "2021-08-13\n",
      "2021-08-13\n",
      "2021-08-13\n",
      "2021-08-10\n",
      "2021-08-09\n",
      "2021-08-09\n",
      "2021-08-07\n"
     ]
    }
   ],
   "source": [
    "for pubdate in root.cssselect('td:nth-child(4)'):\n",
    "    print(pubdate.text_content())"
   ]
  },
  {
   "cell_type": "code",
   "execution_count": 36,
   "id": "953869ae-d0e8-4d25-a3d3-282750571970",
   "metadata": {},
   "outputs": [],
   "source": [
    "for brand in root.cssselect('td.left_a'):\n",
    "    print(title.text_content())"
   ]
  },
  {
   "cell_type": "code",
   "execution_count": 37,
   "id": "8242655b-2550-4db9-87b8-b6e36e949be0",
   "metadata": {},
   "outputs": [
    {
     "name": "stdout",
     "output_type": "stream",
     "text": [
      "비겁한 돈\n",
      "황현희 외 1명  \n",
      "구글 BERT의 정석\n",
      "수다르산 라비찬디란   \n",
      "머신러닝 디자인 패턴\n",
      "발리아파 락슈마난 외 2명  \n",
      "소프트웨어 아키텍처 101\n",
      "마크 리처즈 외 1명  \n",
      "혼자 공부하는 SQL\n",
      "우재남   \n",
      "IT CookBook, 그림으로 배우고 실생활 예제로 실습하는 자바를 부탁해\n",
      "박세홍(홍팍)   \n",
      "똑똑한 두뇌 연습 : 놀이공원 미로찾기\n",
      "권나영   \n",
      "한 권으로 다지는 머신러닝&딥러닝 with 파이썬\n",
      "알베르토 아르타산체스 외 1명  \n",
      "IT CookBook, 시스템 프로그래밍: 리눅스&유닉스\n",
      "이종원   \n",
      "살아 움직이는 머신러닝 파이프라인 설계\n",
      "하네스 하프케 외 1명  \n",
      "시험장에 몰래 가져갈  이경오의 SQL+SQLD 비밀노트\n",
      "이경오   \n",
      "그로킹 심층 강화학습\n",
      "미겔 모랄레스   \n",
      "심리 읽어드립니다\n",
      "김경일 외 1명  \n",
      "한번에 적용하는 분석\n",
      "히든그레이스 데이터분석팀   \n",
      "1000개 숨은그림찾기 바다 동물\n",
      "이한이   \n",
      "1000개 숨은그림찾기 아이스크림\n",
      "김확실   \n",
      "탐험! 숲체험 생물 도감\n",
      "이치니치 잇슈   \n",
      "깍두기 가계부 2022\n",
      "쓰담여사   \n",
      "제대로 배우는 수학적 최적화\n",
      "우메타니 슌지   \n",
      "미국 주식으로 시작하는 슬기로운 퀀트투자\n",
      "김용환 외 1명  \n",
      "1년에 5,000만 원 버는 수익 확장 노하우 네이버 블로그로 돈 벌기\n",
      "김동석   \n",
      "디자인 1등 유튜버 존코바의 클릭을 유도하는 유튜브 디자인 with 포토샵\n",
      "존코바(이요한)   \n",
      "핸즈온 해킹\n",
      "매슈 히키 외 1명  \n",
      "정리 잘하는 사람은 이렇게 합니다\n",
      "고메다 마리나   \n",
      "두 발로 선 경제\n",
      "이용우   \n",
      "인공지능 논리 입문\n",
      "이은정   \n",
      "머신러닝 파워드 애플리케이션\n",
      "에마뉘엘 아메장   \n",
      "유튜브 마케팅 인사이트\n",
      "서양수   \n",
      "웹 브라우저 속 머신러닝 TensorFlow.js\n",
      "카이 사사키   \n",
      "IT CookBook, 처음 만나는 전기기기(2판)\n",
      "최은혁 외 1명  \n",
      "모바일 UX/UI 디자인 강의 with Adobe XD\n",
      "김영삼   \n",
      "처음 배우는 플라스크 웹 프로그래밍\n",
      "윤정현   \n",
      "인문학 거저보기 : 서양철학 편\n",
      "지하늘   \n",
      "IT CookBook, 현대 센서공학(5판)\n",
      "Jacob Fraden   \n",
      "방구석 심리학 실험실\n",
      "마이클 A. 브릿   \n",
      "IT CookBook, 모바일 웹 서비스 구현을 위한 JSP 웹 프로그래밍\n",
      "김현규 외 1명  \n",
      "혼자서도 척척 접는 종이접기\n",
      "신구 후미아키   \n",
      "혼자서도 척척 접는 종이접기 플러스\n",
      "신구 후미아키   \n",
      "혼자서도 척척 접는 종이접기 2권 세트\n",
      "신구 후미아키   \n",
      "스파크를 이용한 자연어 처리\n",
      "앨릭스 토머스   \n",
      "클라우드 네이티브를 위한 데이터 센터 네트워크 구축\n",
      "디네시 G. 더트   \n",
      "어른을 위한 두뇌 놀이 책\n",
      "개러스 무어 박사   \n",
      "감으로만 일하던 김 팀장은 어떻게 데이터 좀 아는 팀장이 되었나\n",
      "황보현우 외 1명  \n",
      "쉽게 배우고 익히는 회계원리[객관식/학습문제 해답](4판)\n",
      "정용기 외 4명  \n",
      "미래조직을 위한 조직설계의 이해(4판)\n",
      "현선해 외 2명  \n",
      "쉽게 배우고 익히는 회계원리(4판)\n",
      "정용기 외 4명  \n",
      "fastai와 파이토치가 만나 꽃피운 딥러닝\n",
      "제러미 하워드 외 1명  \n",
      "스케치업 & V-Ray 트레이닝 북(개정판)\n",
      "강석창   \n",
      "IT CookBook, 짧고 굵게 배우는 JSP 웹 프로그래밍과 스프링 프레임워크\n",
      "황희정   \n",
      "생각과 말로 글을 늘리는 초등 10분 글쓰기\n",
      "강근영   \n"
     ]
    }
   ],
   "source": [
    "# 동일한 css 선택자가 여러 요소에 사용됨\n",
    "for writer in root.cssselect('td.left'):\n",
    "    print(writer.text_content())"
   ]
  },
  {
   "cell_type": "code",
   "execution_count": 38,
   "id": "4afb9266-0e2f-499b-9e36-43f4b98b5ee6",
   "metadata": {},
   "outputs": [],
   "source": [
    "# 요소에 css 선택자가 없음\n",
    "\n",
    "for pubdate in root.cssselect('td.last-child'):\n",
    "    print(price.text_content())"
   ]
  },
  {
   "cell_type": "code",
   "execution_count": 39,
   "id": "22edfae7-0375-4eee-a35e-194b360b5357",
   "metadata": {},
   "outputs": [
    {
     "name": "stdout",
     "output_type": "stream",
     "text": [
      "16,000원\n",
      "34,000원\n",
      "38,000원\n",
      "32,000원\n",
      "24,000원\n",
      "26,000원\n",
      "7,500원\n",
      "40,000원\n",
      "28,000원\n",
      "32,000원\n",
      "32,000원\n",
      "35,000원\n",
      "17,500원\n",
      "24,000원\n",
      "8,000원\n",
      "8,000원\n",
      "13,000원\n",
      "14,800원\n",
      "38,000원\n",
      "32,000원\n",
      "16,000원\n",
      "19,800원\n",
      "45,000원\n",
      "15,000원\n",
      "23,000원\n",
      "22,000원\n",
      "27,000원\n",
      "16,500원\n",
      "25,000원\n",
      "24,000원\n",
      "26,000원\n",
      "19,800원\n",
      "18,500원\n",
      "35,000원\n",
      "18,000원\n",
      "30,000원\n",
      "9,800원\n",
      "9,800원\n",
      "15,000원\n",
      "34,000원\n",
      "36,000원\n",
      "9,900원\n",
      "17,800원\n",
      "7,000원\n",
      "22,000원\n",
      "30,000원\n",
      "44,000원\n",
      "28,000원\n",
      "27,000원\n",
      "15,800원\n"
     ]
    }
   ],
   "source": [
    "for price in root.cssselect('td.right'):\n",
    "    print(price.text_content())"
   ]
  },
  {
   "cell_type": "code",
   "execution_count": 40,
   "id": "3b1fbc55-be21-44d3-b315-00a989bee261",
   "metadata": {},
   "outputs": [
    {
     "data": {
      "text/plain": [
       "b'<!DOCTYPE html>\\r\\n<html lang=\"ko\">\\r\\n<head>\\r\\n<!--[if lte IE 8]>\\r\\n<script>\\r\\n  location.replace(\\'/support/explorer_upgrade.html\\');\\r\\n</script>\\r\\n<![endif]-->\\r\\n<meta charset=\"utf-8\"/>\\r\\n<title>\\xed\\x95\\x9c\\xeb\\xb9\\x9b\\xec\\xb6\\x9c\\xed\\x8c\\x90\\xeb\\x84\\xa4\\xed\\x8a\\xb8\\xec\\x9b\\x8c\\xed\\x81\\xac</title>\\r\\n<link rel=\"shortcut icon\" href=\"https://www.hanbit.co.kr/images/common/hanbit.ico\"> \\r\\n<meta http-equiv=\"X-UA-Compatible\" content=\"IE=Edge\" />\\r\\n<meta property=\"og:type\" content=\"website\"/>\\r\\n<meta property=\"og:title\" content=\"\\xed\\x95\\x9c\\xeb\\xb9\\x9b\\xec\\xb6\\x9c\\xed\\x8c\\x90\\xeb\\x84\\xa4\\xed\\x8a\\xb8\\xec\\x9b\\x8c\\xed\\x81\\xac\"/>\\r\\n<meta property=\"og:descripti'"
      ]
     },
     "execution_count": 40,
     "metadata": {},
     "output_type": "execute_result"
    }
   ],
   "source": [
    "# 응답으로 받은 컨텐츠 확인 : text, conent\n",
    "res.text[:500]\n",
    "res.content[:500]"
   ]
  },
  {
   "cell_type": "code",
   "execution_count": 41,
   "id": "b6a98240-15cb-482b-bc07-61298082f6cf",
   "metadata": {},
   "outputs": [],
   "source": [
    "htmllist = res.text"
   ]
  },
  {
   "cell_type": "code",
   "execution_count": 42,
   "id": "01d2861f-e38b-4797-8478-1bf65e3a9c14",
   "metadata": {},
   "outputs": [],
   "source": [
    "# html 문서에 저장된 문서 내 요소들을\n",
    "# 탐색하기 편하도록 계층구조 DOM로 생성\n",
    "root2 = lxml.html.fromstring(htmllist)"
   ]
  },
  {
   "cell_type": "code",
   "execution_count": 43,
   "id": "59fad0e0-3da2-4b0c-81a3-66769c59b016",
   "metadata": {},
   "outputs": [],
   "source": [
    "for title in root2.cssselect('p.book_tit a'):\n",
    "    # print(title.text_content())\n",
    "    titles.append( title.text_content() )"
   ]
  },
  {
   "cell_type": "code",
   "execution_count": 44,
   "id": "e6f7036e-3cd7-41ec-840c-faa6e9162beb",
   "metadata": {},
   "outputs": [
    {
     "name": "stdout",
     "output_type": "stream",
     "text": [
      "이것이 취업을 위한 코딩 테스트다 with 파이썬\n"
     ]
    }
   ],
   "source": [
    "print(title.text_content())"
   ]
  },
  {
   "cell_type": "code",
   "execution_count": 51,
   "id": "d90d8daa-5690-4bc0-bafa-58a6f907f4e2",
   "metadata": {},
   "outputs": [
    {
     "ename": "IndentationError",
     "evalue": "expected an indented block (<ipython-input-51-27f9b86fddbd>, line 3)",
     "output_type": "error",
     "traceback": [
      "\u001b[1;36m  File \u001b[1;32m\"<ipython-input-51-27f9b86fddbd>\"\u001b[1;36m, line \u001b[1;32m3\u001b[0m\n\u001b[1;33m    for writer in root.cssselect('td:nth-child(3)'):\u001b[0m\n\u001b[1;37m    ^\u001b[0m\n\u001b[1;31mIndentationError\u001b[0m\u001b[1;31m:\u001b[0m expected an indented block\n"
     ]
    }
   ],
   "source": [
    "# 비교 코드\n",
    "for writer in root.cssselect('td.left+td.left'):\n",
    "for writer in root.cssselect('td:nth-child(3)'):\n",
    "     writers.append(writer.text_content())\n",
    "print(writers)"
   ]
  },
  {
   "cell_type": "markdown",
   "id": "3aebf033-4c80-49cf-bfbf-26f54b1b0cb2",
   "metadata": {},
   "source": [
    "### 네이버 검색예제\n",
    "### search.naver.com/search.naver?query=검색어\n",
    "### 네이버에 검색어를 입력하고 검색결과에서 데이터 추출\n",
    "### 질의문자열 querystring을 이용해서 검색하고\n",
    "### 그 결과에서 필요한 데이터를 추출함\n",
    "\n",
    "### 특정 사이트는 스크래핑이나 크롤링을 막기 위한 방편으로\n",
    "### 사이트에 접속하는 사용자의 useragent를 확인함\n",
    "### UA없이 사이트 접속을 시도하면 접속권한 거부의 의미로\n",
    "### 403 응답코드와 함께 접속을 금지하기도 함\n"
   ]
  },
  {
   "cell_type": "code",
   "execution_count": 46,
   "id": "f69cfdd7-86c4-4082-84ca-23c36c2c167d",
   "metadata": {},
   "outputs": [],
   "source": [
    "query = 'html5' \n",
    "url = 'https://search.naver.com/search.naver'\n",
    "headers = {'User-Agent': 'Mozilla/5.0 (Windows NT 10.0; Win64; x64) AppleWebKit/537.36 (KHTML, like Gecko) Chrome/95.0.4638.54 Safari/537.36'}\n",
    "params = {'query' : query}\n",
    "\n",
    "res = requests.get(url, headers=headers, params=params)\n",
    "html = res.text\n",
    "\n",
    "html[:500]\n",
    "root = lxml.html.fromstring(html)\n",
    "\n",
    "# 브라우저 없이도 주소 지정하고, 검색이 된다는 것입니다."
   ]
  },
  {
   "cell_type": "code",
   "execution_count": 47,
   "id": "ba6799c9-f86f-4dce-b455-67e809976525",
   "metadata": {},
   "outputs": [
    {
     "name": "stdout",
     "output_type": "stream",
     "text": [
      "HTML5 개요\n",
      "https://blog.naver.com/jjkwak/222552862141\n",
      "Html5 구조 | 기초부터 디자인까지 셀프코딩#2\n",
      "https://blog.naver.com/call_1994/222253172378\n",
      "HTML5 + CSS + JS 스터디 시작\n",
      "https://blog.naver.com/sorang226/222278039447\n",
      "html5 로딩 속도\n",
      "https://cafe.naver.com/hacosa/295274\n",
      "[HTML] 211011 HTML5\n",
      "https://blog.naver.com/blogubo/222540152084\n",
      "[KH정보교육원] - 49일차 정리(HTML5)\n",
      "https://blog.naver.com/kimbh666/222477633926\n",
      "기능성 게임 개발 고민(Unity/Html5)\n",
      "https://cafe.naver.com/indiedev/61570\n"
     ]
    }
   ],
   "source": [
    "# 블로그, 웹사이트, 네이버책, 포스트 등의\n",
    "# 제목과 링크 추출 \n",
    "\n",
    "titles = []\n",
    "links = []\n",
    "\n",
    "for web in root.cssselect('panel-list a.api_txt_lines'):\n",
    "    print(web.text_content())\n",
    "    print(web.get('href'))"
   ]
  },
  {
   "cell_type": "code",
   "execution_count": 48,
   "id": "4e6df2ba-c038-46d4-8e0e-431aef9271f6",
   "metadata": {},
   "outputs": [],
   "source": [
    "for brain in root.cssselect('a.question_txt_text'):\n",
    "    print(web.text_content())\n",
    "    print(web.get('href'))"
   ]
  },
  {
   "cell_type": "code",
   "execution_count": 49,
   "id": "863a6929-25f4-4f71-bd5f-53040d27cda6",
   "metadata": {},
   "outputs": [
    {
     "name": "stdout",
     "output_type": "stream",
     "text": [
      "기능성 게임 개발 고민(Unity/Html5)\n",
      "https://cafe.naver.com/indiedev/61570\n",
      "기능성 게임 개발 고민(Unity/Html5)\n",
      "https://cafe.naver.com/indiedev/61570\n",
      "기능성 게임 개발 고민(Unity/Html5)\n",
      "https://cafe.naver.com/indiedev/61570\n",
      "기능성 게임 개발 고민(Unity/Html5)\n",
      "https://cafe.naver.com/indiedev/61570\n"
     ]
    }
   ],
   "source": [
    "for wiki in root.cssselect('a.link_tit'):\n",
    "    print(web.text_content())\n",
    "    print(web.get('href'))"
   ]
  },
  {
   "cell_type": "code",
   "execution_count": 50,
   "id": "10953e50-f523-4d2a-883f-786141ddb662",
   "metadata": {},
   "outputs": [],
   "source": [
    "for book in root.cssselect('a.title_area'):\n",
    "    print(book.text_content())\n",
    "    print(book.get('href'))"
   ]
  },
  {
   "cell_type": "markdown",
   "id": "e8266971-cae6-402b-b6e3-8373af9da5ba",
   "metadata": {},
   "source": [
    "##### 실제 검색어를 넣어서 나온 결과들을 크롤링을 하고 싶다. 그렇다면 이런 방법을 (주피터-파이썬, 패키지들을 통헤) 할 수 있다는 것이다."
   ]
  },
  {
   "cell_type": "code",
   "execution_count": null,
   "id": "512b8423-489a-4cdd-947c-c85fbddad309",
   "metadata": {},
   "outputs": [],
   "source": []
  }
 ],
 "metadata": {
  "kernelspec": {
   "display_name": "Python 3",
   "language": "python",
   "name": "python3"
  },
  "language_info": {
   "codemirror_mode": {
    "name": "ipython",
    "version": 3
   },
   "file_extension": ".py",
   "mimetype": "text/x-python",
   "name": "python",
   "nbconvert_exporter": "python",
   "pygments_lexer": "ipython3",
   "version": "3.8.8"
  }
 },
 "nbformat": 4,
 "nbformat_minor": 5
}
