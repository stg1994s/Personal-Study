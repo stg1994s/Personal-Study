{
 "cells": [
  {
   "cell_type": "markdown",
   "id": "a2163046-8de9-4777-9e5a-e08d5a628a2d",
   "metadata": {},
   "source": [
    "# 7 Seoul Food"
   ]
  },
  {
   "cell_type": "code",
   "execution_count": 35,
   "id": "1658a3b0-26e2-486c-b4a5-5061beb06556",
   "metadata": {},
   "outputs": [],
   "source": [
    "import numpy as np\n",
    "import pandas as pd\n",
    "import matplotlib.pyplot as plt\n",
    "import matplotlib as mpl"
   ]
  },
  {
   "cell_type": "code",
   "execution_count": 36,
   "id": "2c2e0b42-2e38-40cf-ac33-4e6ecc4dd800",
   "metadata": {},
   "outputs": [],
   "source": [
    "fontpath = '/usr/share/fonts/NanumGothic.ttf'\n",
    "fname = mpl.font_manager.FontProperties(fname=fontpath).get_name()"
   ]
  },
  {
   "cell_type": "code",
   "execution_count": 37,
   "id": "181c22b1-ca14-48b0-968d-f40e65a70861",
   "metadata": {},
   "outputs": [],
   "source": [
    "mpl.rcParams['font.family'] = 'NanumGothic'\n",
    "mpl.rcParams['font.size'] = 12\n",
    "mpl.rcParams['axes.unicode_minus'] = False"
   ]
  },
  {
   "cell_type": "code",
   "execution_count": 38,
   "id": "4f4e0f74-11cb-41a0-9d7d-2d774df1a980",
   "metadata": {},
   "outputs": [],
   "source": [
    "# deprecate 관련 경고는 무시하도록 설정\n",
    "import warnings\n",
    "warnings.filterwarnings('ignore')"
   ]
  },
  {
   "cell_type": "code",
   "execution_count": 39,
   "id": "ad494c22-d945-4ea8-b2f6-f2d4871681ac",
   "metadata": {},
   "outputs": [
    {
     "data": {
      "text/html": [
       "<div>\n",
       "<style scoped>\n",
       "    .dataframe tbody tr th:only-of-type {\n",
       "        vertical-align: middle;\n",
       "    }\n",
       "\n",
       "    .dataframe tbody tr th {\n",
       "        vertical-align: top;\n",
       "    }\n",
       "\n",
       "    .dataframe thead th {\n",
       "        text-align: right;\n",
       "    }\n",
       "</style>\n",
       "<table border=\"1\" class=\"dataframe\">\n",
       "  <thead>\n",
       "    <tr style=\"text-align: right;\">\n",
       "      <th></th>\n",
       "      <th>Unnamed: 0</th>\n",
       "      <th>개방자치단체코드</th>\n",
       "      <th>관리번호</th>\n",
       "      <th>인허가일자</th>\n",
       "      <th>인허가취소일자</th>\n",
       "      <th>영업상태코드</th>\n",
       "      <th>영업상태명</th>\n",
       "      <th>상세영업상태코드</th>\n",
       "      <th>상세영업상태명</th>\n",
       "      <th>폐업일자</th>\n",
       "      <th>휴업시작일자</th>\n",
       "      <th>휴업종료일자</th>\n",
       "      <th>재개업일자</th>\n",
       "      <th>전화번호</th>\n",
       "      <th>소재지면적</th>\n",
       "      <th>소재지우편번호</th>\n",
       "      <th>지번주소</th>\n",
       "      <th>도로명주소</th>\n",
       "      <th>도로명우편번호</th>\n",
       "      <th>사업장명</th>\n",
       "      <th>최종수정일자</th>\n",
       "      <th>데이터갱신구분</th>\n",
       "      <th>데이터갱신일자</th>\n",
       "      <th>업태구분명</th>\n",
       "      <th>좌표정보(X)</th>\n",
       "      <th>좌표정보(Y)</th>\n",
       "      <th>위생업태명</th>\n",
       "      <th>남성종사자수</th>\n",
       "      <th>여성종사자수</th>\n",
       "      <th>영업장주변구분명</th>\n",
       "      <th>등급구분명</th>\n",
       "      <th>급수시설구분명</th>\n",
       "      <th>총인원</th>\n",
       "      <th>본사종업원수</th>\n",
       "      <th>공장사무직종업원수</th>\n",
       "      <th>공장판매직종업원수</th>\n",
       "      <th>공장생산직종업원수</th>\n",
       "      <th>건물소유구분명</th>\n",
       "      <th>보증액</th>\n",
       "      <th>월세액</th>\n",
       "      <th>다중이용업소여부</th>\n",
       "      <th>시설총규모</th>\n",
       "      <th>전통업소지정번호</th>\n",
       "      <th>전통업소주된음식</th>\n",
       "      <th>홈페이지</th>\n",
       "      <th>지역구</th>\n",
       "      <th>open</th>\n",
       "      <th>closed</th>\n",
       "      <th>경도</th>\n",
       "      <th>위도</th>\n",
       "    </tr>\n",
       "  </thead>\n",
       "  <tbody>\n",
       "    <tr>\n",
       "      <th>0</th>\n",
       "      <td>0</td>\n",
       "      <td>3010000</td>\n",
       "      <td>3010000-104-2020-00245</td>\n",
       "      <td>20201229</td>\n",
       "      <td>NaN</td>\n",
       "      <td>1</td>\n",
       "      <td>영업/정상</td>\n",
       "      <td>1</td>\n",
       "      <td>영업</td>\n",
       "      <td>NaN</td>\n",
       "      <td>NaN</td>\n",
       "      <td>NaN</td>\n",
       "      <td>NaN</td>\n",
       "      <td>NaN</td>\n",
       "      <td>10.00</td>\n",
       "      <td>100440.0</td>\n",
       "      <td>서울특별시 중구 황학동 2545 이마트 청계천점</td>\n",
       "      <td>서울특별시 중구 청계천로 400 지하2층 (황학동 롯데캐슬베네치아)</td>\n",
       "      <td>4572.0</td>\n",
       "      <td>통불 이마트청계천점</td>\n",
       "      <td>20201229130352</td>\n",
       "      <td>I</td>\n",
       "      <td>2019-11-01 21:01:00.0</td>\n",
       "      <td>일반조리판매</td>\n",
       "      <td>201823.908977</td>\n",
       "      <td>452076.818664</td>\n",
       "      <td>NaN</td>\n",
       "      <td>NaN</td>\n",
       "      <td>NaN</td>\n",
       "      <td>NaN</td>\n",
       "      <td>NaN</td>\n",
       "      <td>NaN</td>\n",
       "      <td>NaN</td>\n",
       "      <td>NaN</td>\n",
       "      <td>NaN</td>\n",
       "      <td>NaN</td>\n",
       "      <td>NaN</td>\n",
       "      <td>NaN</td>\n",
       "      <td>NaN</td>\n",
       "      <td>NaN</td>\n",
       "      <td>NaN</td>\n",
       "      <td>NaN</td>\n",
       "      <td>NaN</td>\n",
       "      <td>NaN</td>\n",
       "      <td>NaN</td>\n",
       "      <td>중구</td>\n",
       "      <td>2020</td>\n",
       "      <td>NaN</td>\n",
       "      <td>127.021434</td>\n",
       "      <td>37.570978</td>\n",
       "    </tr>\n",
       "    <tr>\n",
       "      <th>1</th>\n",
       "      <td>1</td>\n",
       "      <td>3070000</td>\n",
       "      <td>3070000-104-2020-00105</td>\n",
       "      <td>20200713</td>\n",
       "      <td>NaN</td>\n",
       "      <td>1</td>\n",
       "      <td>영업/정상</td>\n",
       "      <td>1</td>\n",
       "      <td>영업</td>\n",
       "      <td>NaN</td>\n",
       "      <td>NaN</td>\n",
       "      <td>NaN</td>\n",
       "      <td>NaN</td>\n",
       "      <td>NaN</td>\n",
       "      <td>6.60</td>\n",
       "      <td>136110.0</td>\n",
       "      <td>서울특별시 성북구 길음동 1280-6 대우상가</td>\n",
       "      <td>서울특별시 성북구 길음로 103 대우상가 상가동 1층 105106호 (길음동)</td>\n",
       "      <td>2714.0</td>\n",
       "      <td>씨유 길음푸르지오점</td>\n",
       "      <td>20200713175725</td>\n",
       "      <td>I</td>\n",
       "      <td>2019-12-06 23:05:00.0</td>\n",
       "      <td>편의점</td>\n",
       "      <td>201517.385330</td>\n",
       "      <td>456504.561867</td>\n",
       "      <td>NaN</td>\n",
       "      <td>NaN</td>\n",
       "      <td>NaN</td>\n",
       "      <td>NaN</td>\n",
       "      <td>NaN</td>\n",
       "      <td>NaN</td>\n",
       "      <td>NaN</td>\n",
       "      <td>NaN</td>\n",
       "      <td>NaN</td>\n",
       "      <td>NaN</td>\n",
       "      <td>NaN</td>\n",
       "      <td>NaN</td>\n",
       "      <td>NaN</td>\n",
       "      <td>NaN</td>\n",
       "      <td>NaN</td>\n",
       "      <td>NaN</td>\n",
       "      <td>NaN</td>\n",
       "      <td>NaN</td>\n",
       "      <td>NaN</td>\n",
       "      <td>성북구</td>\n",
       "      <td>2020</td>\n",
       "      <td>NaN</td>\n",
       "      <td>127.017973</td>\n",
       "      <td>37.610872</td>\n",
       "    </tr>\n",
       "    <tr>\n",
       "      <th>2</th>\n",
       "      <td>2</td>\n",
       "      <td>3230000</td>\n",
       "      <td>3230000-104-2020-00227</td>\n",
       "      <td>20200713</td>\n",
       "      <td>NaN</td>\n",
       "      <td>1</td>\n",
       "      <td>영업/정상</td>\n",
       "      <td>1</td>\n",
       "      <td>영업</td>\n",
       "      <td>NaN</td>\n",
       "      <td>NaN</td>\n",
       "      <td>NaN</td>\n",
       "      <td>NaN</td>\n",
       "      <td>NaN</td>\n",
       "      <td>329.89</td>\n",
       "      <td>138827.0</td>\n",
       "      <td>서울특별시 송파구 방이동 44-3 현대토픽스</td>\n",
       "      <td>서울특별시 송파구 위례성대로 6 1층 (방이동)</td>\n",
       "      <td>5544.0</td>\n",
       "      <td>스타벅스</td>\n",
       "      <td>20200713162510</td>\n",
       "      <td>I</td>\n",
       "      <td>2019-12-06 23:05:00.0</td>\n",
       "      <td>커피숍</td>\n",
       "      <td>209929.574783</td>\n",
       "      <td>446085.121305</td>\n",
       "      <td>NaN</td>\n",
       "      <td>NaN</td>\n",
       "      <td>NaN</td>\n",
       "      <td>NaN</td>\n",
       "      <td>NaN</td>\n",
       "      <td>NaN</td>\n",
       "      <td>NaN</td>\n",
       "      <td>NaN</td>\n",
       "      <td>NaN</td>\n",
       "      <td>NaN</td>\n",
       "      <td>NaN</td>\n",
       "      <td>NaN</td>\n",
       "      <td>NaN</td>\n",
       "      <td>NaN</td>\n",
       "      <td>NaN</td>\n",
       "      <td>NaN</td>\n",
       "      <td>NaN</td>\n",
       "      <td>NaN</td>\n",
       "      <td>NaN</td>\n",
       "      <td>송파구</td>\n",
       "      <td>2020</td>\n",
       "      <td>NaN</td>\n",
       "      <td>127.113106</td>\n",
       "      <td>37.516942</td>\n",
       "    </tr>\n",
       "    <tr>\n",
       "      <th>3</th>\n",
       "      <td>3</td>\n",
       "      <td>3050000</td>\n",
       "      <td>3050000-104-2020-00106</td>\n",
       "      <td>20200713</td>\n",
       "      <td>NaN</td>\n",
       "      <td>1</td>\n",
       "      <td>영업/정상</td>\n",
       "      <td>1</td>\n",
       "      <td>영업</td>\n",
       "      <td>NaN</td>\n",
       "      <td>NaN</td>\n",
       "      <td>NaN</td>\n",
       "      <td>NaN</td>\n",
       "      <td>NaN</td>\n",
       "      <td>26.00</td>\n",
       "      <td>130850.0</td>\n",
       "      <td>서울특별시 동대문구 전농동 38-104</td>\n",
       "      <td>서울특별시 동대문구 전농로16길 54 1층 (전농동)</td>\n",
       "      <td>2508.0</td>\n",
       "      <td>Min's coffee</td>\n",
       "      <td>20200713161446</td>\n",
       "      <td>I</td>\n",
       "      <td>2019-12-06 23:05:00.0</td>\n",
       "      <td>커피숍</td>\n",
       "      <td>205263.826419</td>\n",
       "      <td>452869.992526</td>\n",
       "      <td>NaN</td>\n",
       "      <td>NaN</td>\n",
       "      <td>NaN</td>\n",
       "      <td>NaN</td>\n",
       "      <td>NaN</td>\n",
       "      <td>NaN</td>\n",
       "      <td>NaN</td>\n",
       "      <td>NaN</td>\n",
       "      <td>NaN</td>\n",
       "      <td>NaN</td>\n",
       "      <td>NaN</td>\n",
       "      <td>NaN</td>\n",
       "      <td>NaN</td>\n",
       "      <td>NaN</td>\n",
       "      <td>NaN</td>\n",
       "      <td>NaN</td>\n",
       "      <td>NaN</td>\n",
       "      <td>NaN</td>\n",
       "      <td>NaN</td>\n",
       "      <td>동대문구</td>\n",
       "      <td>2020</td>\n",
       "      <td>NaN</td>\n",
       "      <td>127.060378</td>\n",
       "      <td>37.578112</td>\n",
       "    </tr>\n",
       "    <tr>\n",
       "      <th>4</th>\n",
       "      <td>4</td>\n",
       "      <td>3080000</td>\n",
       "      <td>3080000-104-2020-00065</td>\n",
       "      <td>20200713</td>\n",
       "      <td>NaN</td>\n",
       "      <td>1</td>\n",
       "      <td>영업/정상</td>\n",
       "      <td>1</td>\n",
       "      <td>영업</td>\n",
       "      <td>NaN</td>\n",
       "      <td>NaN</td>\n",
       "      <td>NaN</td>\n",
       "      <td>NaN</td>\n",
       "      <td>NaN</td>\n",
       "      <td>32.00</td>\n",
       "      <td>142870.0</td>\n",
       "      <td>서울특별시 강북구 수유동 413-25</td>\n",
       "      <td>서울특별시 강북구 삼양로87길 46 1층 (수유동)</td>\n",
       "      <td>1090.0</td>\n",
       "      <td>탑브릭스</td>\n",
       "      <td>20200713160435</td>\n",
       "      <td>I</td>\n",
       "      <td>2019-12-06 23:05:00.0</td>\n",
       "      <td>일반조리판매</td>\n",
       "      <td>201292.010942</td>\n",
       "      <td>459312.320008</td>\n",
       "      <td>NaN</td>\n",
       "      <td>NaN</td>\n",
       "      <td>NaN</td>\n",
       "      <td>NaN</td>\n",
       "      <td>NaN</td>\n",
       "      <td>NaN</td>\n",
       "      <td>NaN</td>\n",
       "      <td>NaN</td>\n",
       "      <td>NaN</td>\n",
       "      <td>NaN</td>\n",
       "      <td>NaN</td>\n",
       "      <td>NaN</td>\n",
       "      <td>NaN</td>\n",
       "      <td>NaN</td>\n",
       "      <td>NaN</td>\n",
       "      <td>NaN</td>\n",
       "      <td>NaN</td>\n",
       "      <td>NaN</td>\n",
       "      <td>NaN</td>\n",
       "      <td>강북구</td>\n",
       "      <td>2020</td>\n",
       "      <td>NaN</td>\n",
       "      <td>127.015425</td>\n",
       "      <td>37.636170</td>\n",
       "    </tr>\n",
       "  </tbody>\n",
       "</table>\n",
       "</div>"
      ],
      "text/plain": [
       "   Unnamed: 0  개방자치단체코드                    관리번호     인허가일자  인허가취소일자  영업상태코드  \\\n",
       "0           0   3010000  3010000-104-2020-00245  20201229      NaN       1   \n",
       "1           1   3070000  3070000-104-2020-00105  20200713      NaN       1   \n",
       "2           2   3230000  3230000-104-2020-00227  20200713      NaN       1   \n",
       "3           3   3050000  3050000-104-2020-00106  20200713      NaN       1   \n",
       "4           4   3080000  3080000-104-2020-00065  20200713      NaN       1   \n",
       "\n",
       "   영업상태명  상세영업상태코드 상세영업상태명  폐업일자  휴업시작일자  휴업종료일자  재개업일자 전화번호   소재지면적  \\\n",
       "0  영업/정상         1      영업   NaN     NaN     NaN    NaN  NaN   10.00   \n",
       "1  영업/정상         1      영업   NaN     NaN     NaN    NaN  NaN    6.60   \n",
       "2  영업/정상         1      영업   NaN     NaN     NaN    NaN  NaN  329.89   \n",
       "3  영업/정상         1      영업   NaN     NaN     NaN    NaN  NaN   26.00   \n",
       "4  영업/정상         1      영업   NaN     NaN     NaN    NaN  NaN   32.00   \n",
       "\n",
       "    소재지우편번호                        지번주소  \\\n",
       "0  100440.0  서울특별시 중구 황학동 2545 이마트 청계천점   \n",
       "1  136110.0   서울특별시 성북구 길음동 1280-6 대우상가   \n",
       "2  138827.0    서울특별시 송파구 방이동 44-3 현대토픽스   \n",
       "3  130850.0       서울특별시 동대문구 전농동 38-104   \n",
       "4  142870.0        서울특별시 강북구 수유동 413-25   \n",
       "\n",
       "                                         도로명주소  도로명우편번호          사업장명  \\\n",
       "0        서울특별시 중구 청계천로 400 지하2층 (황학동 롯데캐슬베네치아)   4572.0    통불 이마트청계천점   \n",
       "1  서울특별시 성북구 길음로 103 대우상가 상가동 1층 105106호 (길음동)   2714.0    씨유 길음푸르지오점   \n",
       "2                   서울특별시 송파구 위례성대로 6 1층 (방이동)   5544.0          스타벅스   \n",
       "3                서울특별시 동대문구 전농로16길 54 1층 (전농동)   2508.0  Min's coffee   \n",
       "4                 서울특별시 강북구 삼양로87길 46 1층 (수유동)   1090.0          탑브릭스   \n",
       "\n",
       "           최종수정일자 데이터갱신구분                데이터갱신일자   업태구분명        좌표정보(X)  \\\n",
       "0  20201229130352       I  2019-11-01 21:01:00.0  일반조리판매  201823.908977   \n",
       "1  20200713175725       I  2019-12-06 23:05:00.0     편의점  201517.385330   \n",
       "2  20200713162510       I  2019-12-06 23:05:00.0     커피숍  209929.574783   \n",
       "3  20200713161446       I  2019-12-06 23:05:00.0     커피숍  205263.826419   \n",
       "4  20200713160435       I  2019-12-06 23:05:00.0  일반조리판매  201292.010942   \n",
       "\n",
       "         좌표정보(Y) 위생업태명  남성종사자수  여성종사자수 영업장주변구분명 등급구분명 급수시설구분명  총인원  본사종업원수  \\\n",
       "0  452076.818664   NaN     NaN     NaN      NaN   NaN     NaN  NaN     NaN   \n",
       "1  456504.561867   NaN     NaN     NaN      NaN   NaN     NaN  NaN     NaN   \n",
       "2  446085.121305   NaN     NaN     NaN      NaN   NaN     NaN  NaN     NaN   \n",
       "3  452869.992526   NaN     NaN     NaN      NaN   NaN     NaN  NaN     NaN   \n",
       "4  459312.320008   NaN     NaN     NaN      NaN   NaN     NaN  NaN     NaN   \n",
       "\n",
       "   공장사무직종업원수  공장판매직종업원수  공장생산직종업원수 건물소유구분명  보증액  월세액 다중이용업소여부  시설총규모 전통업소지정번호  \\\n",
       "0        NaN        NaN        NaN     NaN  NaN  NaN      NaN    NaN      NaN   \n",
       "1        NaN        NaN        NaN     NaN  NaN  NaN      NaN    NaN      NaN   \n",
       "2        NaN        NaN        NaN     NaN  NaN  NaN      NaN    NaN      NaN   \n",
       "3        NaN        NaN        NaN     NaN  NaN  NaN      NaN    NaN      NaN   \n",
       "4        NaN        NaN        NaN     NaN  NaN  NaN      NaN    NaN      NaN   \n",
       "\n",
       "  전통업소주된음식  홈페이지   지역구  open  closed          경도         위도  \n",
       "0      NaN   NaN    중구  2020     NaN  127.021434  37.570978  \n",
       "1      NaN   NaN   성북구  2020     NaN  127.017973  37.610872  \n",
       "2      NaN   NaN   송파구  2020     NaN  127.113106  37.516942  \n",
       "3      NaN   NaN  동대문구  2020     NaN  127.060378  37.578112  \n",
       "4      NaN   NaN   강북구  2020     NaN  127.015425  37.636170  "
      ]
     },
     "execution_count": 39,
     "metadata": {},
     "output_type": "execute_result"
    }
   ],
   "source": [
    "# 일단 csv 파일을 불러오시고 head함수로 정보를 보자.\n",
    "\n",
    "pd.set_option('display.max_columns', 100) # 컬럼 100개를 보여주는 함수 \n",
    "\n",
    "sf = pd.read_csv('seoul_food.csv') \n",
    "sf.head()   # 50개 컬럼이 다 안보임 - set_option 설정\n",
    "            # 너무 많은 컬럼이 출력됨. 쓸데없는 컬럼은 모두 지우는 게 나을 것이다. 가시성 확보를 위해서, 중요하지 않은 정보와 중요한 정보를 구별하고,\n",
    "            # 어떤 컬럼들은 데이터가 없고, 어떤 컬럼들은 있다. 이것을 결측치라 하고, 그것을 처리하는 것. 전처리 작업을 거친다는 것이다."
   ]
  },
  {
   "cell_type": "code",
   "execution_count": 40,
   "id": "4a1a1138-eac4-4deb-9016-08ea5a0a00c1",
   "metadata": {},
   "outputs": [
    {
     "name": "stdout",
     "output_type": "stream",
     "text": [
      "<class 'pandas.core.frame.DataFrame'>\n",
      "RangeIndex: 108372 entries, 0 to 108371\n",
      "Data columns (total 50 columns):\n",
      " #   Column      Non-Null Count   Dtype  \n",
      "---  ------      --------------   -----  \n",
      " 0   Unnamed: 0  108372 non-null  int64  \n",
      " 1   개방자치단체코드    108372 non-null  int64  \n",
      " 2   관리번호        108372 non-null  object \n",
      " 3   인허가일자       108372 non-null  int64  \n",
      " 4   인허가취소일자     0 non-null       float64\n",
      " 5   영업상태코드      108372 non-null  int64  \n",
      " 6   영업상태명       108372 non-null  object \n",
      " 7   상세영업상태코드    108372 non-null  int64  \n",
      " 8   상세영업상태명     108372 non-null  object \n",
      " 9   폐업일자        74441 non-null   float64\n",
      " 10  휴업시작일자      0 non-null       float64\n",
      " 11  휴업종료일자      0 non-null       float64\n",
      " 12  재개업일자       0 non-null       float64\n",
      " 13  전화번호        56882 non-null   object \n",
      " 14  소재지면적       100325 non-null  float64\n",
      " 15  소재지우편번호     108187 non-null  float64\n",
      " 16  지번주소        108189 non-null  object \n",
      " 17  도로명주소       66753 non-null   object \n",
      " 18  도로명우편번호     66077 non-null   float64\n",
      " 19  사업장명        108372 non-null  object \n",
      " 20  최종수정일자      108372 non-null  int64  \n",
      " 21  데이터갱신구분     108372 non-null  object \n",
      " 22  데이터갱신일자     108372 non-null  object \n",
      " 23  업태구분명       108372 non-null  object \n",
      " 24  좌표정보(X)     103801 non-null  float64\n",
      " 25  좌표정보(Y)     103801 non-null  float64\n",
      " 26  위생업태명       94669 non-null   object \n",
      " 27  남성종사자수      35804 non-null   float64\n",
      " 28  여성종사자수      36078 non-null   float64\n",
      " 29  영업장주변구분명    34249 non-null   object \n",
      " 30  등급구분명       32993 non-null   object \n",
      " 31  급수시설구분명     47591 non-null   object \n",
      " 32  총인원         0 non-null       float64\n",
      " 33  본사종업원수      101 non-null     float64\n",
      " 34  공장사무직종업원수   101 non-null     float64\n",
      " 35  공장판매직종업원수   101 non-null     float64\n",
      " 36  공장생산직종업원수   101 non-null     float64\n",
      " 37  건물소유구분명     4 non-null       object \n",
      " 38  보증액         101 non-null     float64\n",
      " 39  월세액         101 non-null     float64\n",
      " 40  다중이용업소여부    94669 non-null   object \n",
      " 41  시설총규모       94669 non-null   float64\n",
      " 42  전통업소지정번호    68 non-null      object \n",
      " 43  전통업소주된음식    5 non-null       object \n",
      " 44  홈페이지        0 non-null       float64\n",
      " 45  지역구         108372 non-null  object \n",
      " 46  open        108372 non-null  int64  \n",
      " 47  closed      74441 non-null   float64\n",
      " 48  경도          108372 non-null  float64\n",
      " 49  위도          108372 non-null  float64\n",
      "dtypes: float64(24), int64(7), object(19)\n",
      "memory usage: 41.3+ MB\n"
     ]
    }
   ],
   "source": [
    "sf.info()"
   ]
  },
  {
   "cell_type": "markdown",
   "id": "2fadd9f3-e81c-4762-8f4c-a82b6f0378a5",
   "metadata": {},
   "source": [
    "### NaN은 결측치다. 위에 보면 5 rows x 50 columns, 행 50개, 컬럼 50개라는 정보를 파악하자.\n",
    "### drop 시켜서 다 지울 수 있지만, 모두 지우는게 다 능사는 아니다. 차라리 지우는 것보다, 필요한 컬럼만 추려서 따로 데이터 프레임을 만드시는게 나을 것 같다. \n",
    "### 전처리 할 필요 없이 말이다."
   ]
  },
  {
   "cell_type": "markdown",
   "id": "21f0f555-b336-4d0d-82f4-0143589daf2b",
   "metadata": {},
   "source": [
    "### * 자 한번 보자. 분석에 유용한 컬럼들만 추출해서 새로운 데이터 프레임을 생성하자. \n",
    "### * 우리가 이걸 통해서 뭘 알고 싶은지 알아야지!\n",
    "### * 예를 들어서, 내가 음식점을 창업을 하려고 한다. 그럼 무엇을 통해서 내가 필요한 데이터를 확보할 수 있는지 확인해 보자. \n",
    "### * 여기서 유용하다고 생각할 수 있는 컬럼들이 무엇이 있을까??"
   ]
  },
  {
   "cell_type": "code",
   "execution_count": 41,
   "id": "2075d78f-adba-49e2-9f66-cfcbe65e19b7",
   "metadata": {},
   "outputs": [
    {
     "data": {
      "text/html": [
       "<div>\n",
       "<style scoped>\n",
       "    .dataframe tbody tr th:only-of-type {\n",
       "        vertical-align: middle;\n",
       "    }\n",
       "\n",
       "    .dataframe tbody tr th {\n",
       "        vertical-align: top;\n",
       "    }\n",
       "\n",
       "    .dataframe thead th {\n",
       "        text-align: right;\n",
       "    }\n",
       "</style>\n",
       "<table border=\"1\" class=\"dataframe\">\n",
       "  <thead>\n",
       "    <tr style=\"text-align: right;\">\n",
       "      <th></th>\n",
       "      <th>사업장명</th>\n",
       "      <th>지역구</th>\n",
       "      <th>업태구분명</th>\n",
       "      <th>open</th>\n",
       "      <th>closed</th>\n",
       "      <th>다중이용업소여부</th>\n",
       "      <th>지번주소</th>\n",
       "      <th>경도</th>\n",
       "      <th>위도</th>\n",
       "    </tr>\n",
       "  </thead>\n",
       "  <tbody>\n",
       "    <tr>\n",
       "      <th>0</th>\n",
       "      <td>통불 이마트청계천점</td>\n",
       "      <td>중구</td>\n",
       "      <td>일반조리판매</td>\n",
       "      <td>2020</td>\n",
       "      <td>NaN</td>\n",
       "      <td>NaN</td>\n",
       "      <td>서울특별시 중구 황학동 2545 이마트 청계천점</td>\n",
       "      <td>127.021434</td>\n",
       "      <td>37.570978</td>\n",
       "    </tr>\n",
       "    <tr>\n",
       "      <th>1</th>\n",
       "      <td>씨유 길음푸르지오점</td>\n",
       "      <td>성북구</td>\n",
       "      <td>편의점</td>\n",
       "      <td>2020</td>\n",
       "      <td>NaN</td>\n",
       "      <td>NaN</td>\n",
       "      <td>서울특별시 성북구 길음동 1280-6 대우상가</td>\n",
       "      <td>127.017973</td>\n",
       "      <td>37.610872</td>\n",
       "    </tr>\n",
       "    <tr>\n",
       "      <th>2</th>\n",
       "      <td>스타벅스</td>\n",
       "      <td>송파구</td>\n",
       "      <td>커피숍</td>\n",
       "      <td>2020</td>\n",
       "      <td>NaN</td>\n",
       "      <td>NaN</td>\n",
       "      <td>서울특별시 송파구 방이동 44-3 현대토픽스</td>\n",
       "      <td>127.113106</td>\n",
       "      <td>37.516942</td>\n",
       "    </tr>\n",
       "    <tr>\n",
       "      <th>3</th>\n",
       "      <td>Min's coffee</td>\n",
       "      <td>동대문구</td>\n",
       "      <td>커피숍</td>\n",
       "      <td>2020</td>\n",
       "      <td>NaN</td>\n",
       "      <td>NaN</td>\n",
       "      <td>서울특별시 동대문구 전농동 38-104</td>\n",
       "      <td>127.060378</td>\n",
       "      <td>37.578112</td>\n",
       "    </tr>\n",
       "    <tr>\n",
       "      <th>4</th>\n",
       "      <td>탑브릭스</td>\n",
       "      <td>강북구</td>\n",
       "      <td>일반조리판매</td>\n",
       "      <td>2020</td>\n",
       "      <td>NaN</td>\n",
       "      <td>NaN</td>\n",
       "      <td>서울특별시 강북구 수유동 413-25</td>\n",
       "      <td>127.015425</td>\n",
       "      <td>37.636170</td>\n",
       "    </tr>\n",
       "  </tbody>\n",
       "</table>\n",
       "</div>"
      ],
      "text/plain": [
       "           사업장명   지역구   업태구분명  open  closed 다중이용업소여부  \\\n",
       "0    통불 이마트청계천점    중구  일반조리판매  2020     NaN      NaN   \n",
       "1    씨유 길음푸르지오점   성북구     편의점  2020     NaN      NaN   \n",
       "2          스타벅스   송파구     커피숍  2020     NaN      NaN   \n",
       "3  Min's coffee  동대문구     커피숍  2020     NaN      NaN   \n",
       "4          탑브릭스   강북구  일반조리판매  2020     NaN      NaN   \n",
       "\n",
       "                         지번주소          경도         위도  \n",
       "0  서울특별시 중구 황학동 2545 이마트 청계천점  127.021434  37.570978  \n",
       "1   서울특별시 성북구 길음동 1280-6 대우상가  127.017973  37.610872  \n",
       "2    서울특별시 송파구 방이동 44-3 현대토픽스  127.113106  37.516942  \n",
       "3       서울특별시 동대문구 전농동 38-104  127.060378  37.578112  \n",
       "4        서울특별시 강북구 수유동 413-25  127.015425  37.636170  "
      ]
     },
     "execution_count": 41,
     "metadata": {},
     "output_type": "execute_result"
    }
   ],
   "source": [
    "# let's do it.\n",
    "\n",
    "\n",
    "# 첫번째 사업장명을 넣어보자. 인덱스로 가져오자. 사업장명. 19번을 쓰시고. 지역구도 중요해. 45번\n",
    "# 'open',과 ''close', '다중이용업소 여부 40번, 업태구분명 23번. 위치(경도,위도)\n",
    "\n",
    "sf.columns\n",
    "\n",
    "sf1 = sf.iloc[:, [19,45,23,46,47,40,16,48,49,]] # iloc 함수가 분류하는 것인가? \n",
    "sf1.head()"
   ]
  },
  {
   "cell_type": "markdown",
   "id": "5efa83b0-5de0-43f5-920f-30a6909d8c0a",
   "metadata": {},
   "source": [
    "# 이렇게 하니까 원하는 데이터만 추려서 파악이 가능해졌다. you got it?"
   ]
  },
  {
   "cell_type": "code",
   "execution_count": 42,
   "id": "b85bd058-3e7e-486e-ac25-3f39fc607e7f",
   "metadata": {},
   "outputs": [
    {
     "data": {
      "text/plain": [
       "이디야       735\n",
       "스타벅스      643\n",
       "롯데리아      443\n",
       "던킨도너츠     331\n",
       "커피빈       316\n",
       "투썸플레이스    311\n",
       "베스킨라빈스    283\n",
       "탐앤탐스      222\n",
       "엔제리너스     208\n",
       "요거프레소     204\n",
       "버거킹       201\n",
       "피자스쿨      193\n",
       "카페베네      188\n",
       "맥도날드      175\n",
       "할리스커피     166\n",
       "빽다방       140\n",
       "파스쿠찌      140\n",
       "이삭토스트     107\n",
       "도미노피자     102\n",
       "약속         98\n",
       "Name: 사업장명, dtype: int64"
      ]
     },
     "execution_count": 42,
     "metadata": {},
     "output_type": "execute_result"
    }
   ],
   "source": [
    "# 음식점 종류 알아보기.\n",
    "사업장 = sf1.사업장명.value_counts() \n",
    "사업장.sort_values(ascending=False).head(20) # 20개만 찍어보자 # sort_values(ascending=False)는 내림차순 정렬을 해주는 함수"
   ]
  },
  {
   "cell_type": "markdown",
   "id": "d4877096-2b39-4706-972b-e6aab6b7b26c",
   "metadata": {
    "tags": []
   },
   "source": [
    "### 아하, 서울시 내에 있는 음식점 중에서 커피가 가장 수요가 많다는 것을 이렇게 해서 확인하였다!!"
   ]
  },
  {
   "cell_type": "code",
   "execution_count": 43,
   "id": "88b385b9-b249-440d-997a-b944c524035e",
   "metadata": {},
   "outputs": [
    {
     "data": {
      "text/plain": [
       "이디야         735\n",
       "스타벅스        643\n",
       "롯데리아        443\n",
       "던킨도너츠       331\n",
       "커피빈         316\n",
       "투썸플레이스      311\n",
       "베스킨라빈스      283\n",
       "탐앤탐스        222\n",
       "엔제리너스       208\n",
       "요거프레소       204\n",
       "버거킹         201\n",
       "피자스쿨        193\n",
       "카페베네        188\n",
       "맥도날드        175\n",
       "할리스커피       166\n",
       "빽다방         140\n",
       "파스쿠찌        140\n",
       "이삭토스트       107\n",
       "도미노피자       102\n",
       "약속           98\n",
       "크라운베이커리      95\n",
       "KFC          80\n",
       "맘스터치         77\n",
       "약속다방         75\n",
       "독일제과         71\n",
       "피자나라치킨공주     69\n",
       "마이빈          69\n",
       "석봉토스트        69\n",
       "초원           67\n",
       "신라명과         66\n",
       "Name: 사업장명, dtype: int64"
      ]
     },
     "execution_count": 43,
     "metadata": {},
     "output_type": "execute_result"
    }
   ],
   "source": [
    "사업장30 = 사업장.sort_values(ascending=False).head(30)\n",
    "사업장30"
   ]
  },
  {
   "cell_type": "markdown",
   "id": "f5ed8eda-bc3d-4968-bbc2-61b7a15b021e",
   "metadata": {},
   "source": [
    "#### 자 이제 plot 함수로 그래프 그려보자!!"
   ]
  },
  {
   "cell_type": "code",
   "execution_count": 46,
   "id": "e4f310d2-9a7a-4aa3-ae5d-6a8a1ab896b6",
   "metadata": {},
   "outputs": [
    {
     "data": {
      "text/plain": [
       "<AxesSubplot:>"
      ]
     },
     "execution_count": 46,
     "metadata": {},
     "output_type": "execute_result"
    },
    {
     "data": {
      "image/png": "[encoded data removed]",
      "text/plain": [
       "<Figure size 864x432 with 1 Axes>"
      ]
     },
     "metadata": {
      "needs_background": "light"
     },
     "output_type": "display_data"
    }
   ],
   "source": [
    "사업장30.plot(kind='bar', figsize=(12,6)) # 막대니까 (kind='bar') 함수 사용"
   ]
  },
  {
   "cell_type": "markdown",
   "id": "1f046f4c-1432-431e-b6b5-662cb277df7d",
   "metadata": {},
   "source": [
    "### 막대그래프의 포인트는 단색은 큰 의미가 없다. 구분을 위해서 색을 넣어야 한다."
   ]
  },
  {
   "cell_type": "code",
   "execution_count": 60,
   "id": "cbf264a8-006f-4d8e-9723-8a217623cdc4",
   "metadata": {},
   "outputs": [
    {
     "data": {
      "text/plain": [
       "<AxesSubplot:title={'center':'사업장 현황'}, ylabel='점포수'>"
      ]
     },
     "execution_count": 60,
     "metadata": {},
     "output_type": "execute_result"
    },
    {
     "data": {
      "image/png": "[encoded data removed]",
      "text/plain": [
       "<Figure size 864x432 with 1 Axes>"
      ]
     },
     "metadata": {
      "needs_background": "light"
     },
     "output_type": "display_data"
    }
   ],
   "source": [
    "# color=plt.cm(칼라맵).Paired(30)))\n",
    "\n",
    "사업장30.plot(kind='bar', figsize=(12,6), title='사업장 현황', ylabel='점포수', color=plt.cm.Paired(np.arange(30)))"
   ]
  },
  {
   "cell_type": "markdown",
   "id": "5a279b3e-209b-43a7-9b28-271d86efa630",
   "metadata": {},
   "source": [
    "### https://matplotlib.org/stable/tutorials/colors/colormaps.html <- 이 사이트에서 맷플롭립의 다양한 컬러 타입을 사용할 수 있다. 기억하자!"
   ]
  },
  {
   "cell_type": "code",
   "execution_count": 62,
   "id": "5abd9c26-b0c6-41f7-8d3a-3a151ee869e8",
   "metadata": {},
   "outputs": [
    {
     "data": {
      "text/plain": [
       "<AxesSubplot:title={'center':'사업장 현황'}, ylabel='점포수'>"
      ]
     },
     "execution_count": 62,
     "metadata": {},
     "output_type": "execute_result"
    },
    {
     "data": {
      "image/png": "[encoded data removed]",
      "text/plain": [
       "<Figure size 864x432 with 1 Axes>"
      ]
     },
     "metadata": {
      "needs_background": "light"
     },
     "output_type": "display_data"
    }
   ],
   "source": [
    "사업장30.plot(kind='bar', figsize=(12,6), title='사업장 현황', ylabel='점포수', color=plt.cm.tab20(np.arange(30)))"
   ]
  },
  {
   "cell_type": "markdown",
   "id": "9f00ca8e-a003-4f00-b3bf-1d197b6d4162",
   "metadata": {},
   "source": [
    "### tab 20이란 컬러맵을 사용하였다. 물론 그 전보다는 다양한 색상을 표현이 가능하지만, 여전히 하위권 그래프들은 여전히 같은 막대그래프 색깔이다."
   ]
  },
  {
   "cell_type": "code",
   "execution_count": 64,
   "id": "3bab8eaf-d5e0-4a13-87a4-9692fa535b82",
   "metadata": {},
   "outputs": [
    {
     "data": {
      "text/plain": [
       "<AxesSubplot:title={'center':'사업장 현황'}, ylabel='점포수'>"
      ]
     },
     "execution_count": 64,
     "metadata": {},
     "output_type": "execute_result"
    },
    {
     "data": {
      "image/png": "[encoded data removed]",
      "text/plain": [
       "<Figure size 864x432 with 1 Axes>"
      ]
     },
     "metadata": {
      "needs_background": "light"
     },
     "output_type": "display_data"
    }
   ],
   "source": [
    "사업장30.plot(kind='bar', figsize=(12,6), title='사업장 현황', ylabel='점포수', color=plt.cm.viridis(np.arange(30)))"
   ]
  },
  {
   "cell_type": "markdown",
   "id": "9e969721-1b66-4a2b-a135-c14bc470102f",
   "metadata": {},
   "source": [
    "### 자 그런데 동일한 컬러만 출력된다. 왜일까? 이것은 컬러맵의 수치가 너무 커서 그런 이유로 색상을 표현하지 못하는 걸 수도 있다. "
   ]
  },
  {
   "cell_type": "code",
   "execution_count": 65,
   "id": "30ae368a-a1fe-4598-a425-97595b99c719",
   "metadata": {},
   "outputs": [
    {
     "data": {
      "text/plain": [
       "<AxesSubplot:title={'center':'사업장 현황'}, ylabel='점포수'>"
      ]
     },
     "execution_count": 65,
     "metadata": {},
     "output_type": "execute_result"
    },
    {
     "data": {
      "image/png": "[encoded data removed]",
      "text/plain": [
       "<Figure size 864x432 with 1 Axes>"
      ]
     },
     "metadata": {
      "needs_background": "light"
     },
     "output_type": "display_data"
    }
   ],
   "source": [
    "사업장30.plot(kind='bar', figsize=(12,6), title='사업장 현황', ylabel='점포수', color=plt.cm.prism(np.arange(30)))"
   ]
  },
  {
   "cell_type": "markdown",
   "id": "c1ef15c8-f805-4061-ac24-009df977e8f6",
   "metadata": {},
   "source": [
    "### 막대 그래프는 막대 색이 데이터의 방향성과 관련되서 중요한데, 이 데이터를 보면 명목형이구나, 정량적이구나, 파악해서 구분해서 넣으면 된다.\n",
    "#### 정량형 데이터는 색깔을 똑같이 하는게 좋을 것이고,\n",
    "#### 정상형 데이터는 컬러로 표시하면 좋을 것이다. 아무튼 확실한 데이터는, 이디야가 가장 데이터가 많다. 근데 실질적인 갯수를 파악해야겠지?\n",
    "#### 이제 데이터의 갯수를 줄이고, 구체적인 수치를 파악하자."
   ]
  },
  {
   "cell_type": "code",
   "execution_count": 67,
   "id": "55ffbf5f-a843-4fda-be6a-7d2452d4c2f2",
   "metadata": {},
   "outputs": [
    {
     "data": {
      "text/plain": [
       "<AxesSubplot:title={'center':'사업장 현황'}, ylabel='점포수'>"
      ]
     },
     "execution_count": 67,
     "metadata": {},
     "output_type": "execute_result"
    },
    {
     "data": {
      "image/png": "[encoded data removed]",
      "text/plain": [
       "<Figure size 864x432 with 1 Axes>"
      ]
     },
     "metadata": {
      "needs_background": "light"
     },
     "output_type": "display_data"
    }
   ],
   "source": [
    "사업장30[:20].plot(kind='bar', figsize=(12,6), title='사업장 현황', ylabel='점포수', color=plt.cm.tab20(np.arange(30)))"
   ]
  },
  {
   "cell_type": "code",
   "execution_count": 69,
   "id": "295606c6-ac56-4304-bca6-60e7bc1fc919",
   "metadata": {},
   "outputs": [
    {
     "ename": "TypeError",
     "evalue": "annotate() missing 1 required positional argument: 'xy'",
     "output_type": "error",
     "traceback": [
      "\u001b[0;31m---------------------------------------------------------------------------\u001b[0m",
      "\u001b[0;31mTypeError\u001b[0m                                 Traceback (most recent call last)",
      "\u001b[0;32m/tmp/ipykernel_3918/1636368870.py\u001b[0m in \u001b[0;36m<module>\u001b[0;34m\u001b[0m\n\u001b[1;32m      7\u001b[0m \u001b[0;31m# 숫자를 표시할려면 막대 높이 만큼 표시하도록 코드를 넣어줘야겠죠?\u001b[0m\u001b[0;34m\u001b[0m\u001b[0;34m\u001b[0m\u001b[0;34m\u001b[0m\u001b[0m\n\u001b[1;32m      8\u001b[0m \u001b[0;34m\u001b[0m\u001b[0m\n\u001b[0;32m----> 9\u001b[0;31m \u001b[0;32mfor\u001b[0m \u001b[0mp\u001b[0m \u001b[0;32min\u001b[0m \u001b[0max\u001b[0m\u001b[0;34m.\u001b[0m\u001b[0mpatches\u001b[0m\u001b[0;34m:\u001b[0m\u001b[0max\u001b[0m\u001b[0;34m.\u001b[0m\u001b[0mannotate\u001b[0m\u001b[0;34m(\u001b[0m\u001b[0mp\u001b[0m\u001b[0;34m.\u001b[0m\u001b[0mget_height\u001b[0m\u001b[0;34m(\u001b[0m\u001b[0;34m)\u001b[0m\u001b[0;34m)\u001b[0m\u001b[0;34m\u001b[0m\u001b[0;34m\u001b[0m\u001b[0m\n\u001b[0m\u001b[1;32m     10\u001b[0m \u001b[0max\u001b[0m\u001b[0;34m\u001b[0m\u001b[0;34m\u001b[0m\u001b[0m\n",
      "\u001b[0;32m~/.local/lib/python3.7/site-packages/matplotlib/_api/deprecation.py\u001b[0m in \u001b[0;36mwrapper\u001b[0;34m(*args, **kwargs)\u001b[0m\n\u001b[1;32m    333\u001b[0m                 f\"for the old name will be dropped %(removal)s.\")\n\u001b[1;32m    334\u001b[0m             \u001b[0mkwargs\u001b[0m\u001b[0;34m[\u001b[0m\u001b[0mnew\u001b[0m\u001b[0;34m]\u001b[0m \u001b[0;34m=\u001b[0m \u001b[0mkwargs\u001b[0m\u001b[0;34m.\u001b[0m\u001b[0mpop\u001b[0m\u001b[0;34m(\u001b[0m\u001b[0mold\u001b[0m\u001b[0;34m)\u001b[0m\u001b[0;34m\u001b[0m\u001b[0;34m\u001b[0m\u001b[0m\n\u001b[0;32m--> 335\u001b[0;31m         \u001b[0;32mreturn\u001b[0m \u001b[0mfunc\u001b[0m\u001b[0;34m(\u001b[0m\u001b[0;34m*\u001b[0m\u001b[0margs\u001b[0m\u001b[0;34m,\u001b[0m \u001b[0;34m**\u001b[0m\u001b[0mkwargs\u001b[0m\u001b[0;34m)\u001b[0m\u001b[0;34m\u001b[0m\u001b[0;34m\u001b[0m\u001b[0m\n\u001b[0m\u001b[1;32m    336\u001b[0m \u001b[0;34m\u001b[0m\u001b[0m\n\u001b[1;32m    337\u001b[0m     \u001b[0;31m# wrapper() must keep the same documented signature as func(): if we\u001b[0m\u001b[0;34m\u001b[0m\u001b[0;34m\u001b[0m\u001b[0;34m\u001b[0m\u001b[0m\n",
      "\u001b[0;31mTypeError\u001b[0m: annotate() missing 1 required positional argument: 'xy'"
     ]
    },
    {
     "data": {
      "image/png": "[encoded data removed]",
      "text/plain": [
       "<Figure size 864x432 with 1 Axes>"
      ]
     },
     "metadata": {
      "needs_background": "light"
     },
     "output_type": "display_data"
    }
   ],
   "source": [
    "# 자, 그러면 마지막에 약속이라는 음식점이 보이죠? 자 이제 글자를 찍어야할 건데, 이제 해야할 것.\n",
    "\n",
    "ax = 사업장30[:20].plot(kind='bar', figsize=(12,6), title='사업장 현황', ylabel='점포수', color=plt.cm.tab20(np.arange(30)))\n",
    "\n",
    "# ax라고 변수를 따로 만들어줍니다.\n",
    "# annotate 를 사용하는 방법은 이렇습니다.(x좌표, y좌표, 표시할 값, 크기나 여러가지 옵션등을 사용할 수 있습니다.\n",
    "# 숫자를 표시할려면 막대 높이 만큼 표시하도록 코드를 넣어줘야겠죠?\n",
    "\n",
    "for p in ax.patches:ax.annotate(p.get_height())\n",
    "ax"
   ]
  },
  {
   "cell_type": "markdown",
   "id": "b4ee8060-d1a6-4da1-bc29-647f0091716d",
   "metadata": {},
   "source": [
    "##### 자 그런데 argument 'xy' 값이 없어서 안된다는 에러가 뜬다. 그러니까 해야할 작업."
   ]
  },
  {
   "cell_type": "code",
   "execution_count": 80,
   "id": "ae17971a-c67b-4857-800a-7b8c20f2d46c",
   "metadata": {},
   "outputs": [
    {
     "data": {
      "text/plain": [
       "<AxesSubplot:title={'center':'사업장 현황'}, ylabel='점포수'>"
      ]
     },
     "execution_count": 80,
     "metadata": {},
     "output_type": "execute_result"
    },
    {
     "data": {
      "image/png": "[encoded data removed]",
      "text/plain": [
       "<Figure size 864x432 with 1 Axes>"
      ]
     },
     "metadata": {
      "needs_background": "light"
     },
     "output_type": "display_data"
    }
   ],
   "source": [
    "ax = 사업장30[:20].plot(kind='bar', figsize=(12,6), title='사업장 현황', ylabel='점포수', color=plt.cm.tab20(np.arange(30)))\n",
    "\n",
    "# p.get_x(), p.get_height())) 수치를 막대그래프 위에 표현해 주기.\n",
    "\n",
    "for p in ax.patches:ax.annotate(p.get_height(), (p.get_x()-0.05, p.get_height()+10) )\n",
    "ax"
   ]
  },
  {
   "cell_type": "markdown",
   "id": "0023c54b-3eef-4672-8052-61ef128c322d",
   "metadata": {},
   "source": [
    "### 이런식으로 보기 수월하게 표현이 가능하다. 그래프 위에 숫자까지 표시해서 구체화된 수치도 표기하여 그래프의 시각적인 가치를 높였다.\n",
    "### 자 이제 총 커피숍이 몇개인지 그럼 이제 파악해볼까?"
   ]
  },
  {
   "cell_type": "markdown",
   "id": "7a976323-686e-4ca1-bc23-aa1557d87a93",
   "metadata": {},
   "source": [
    "### 서울의 커피숍은 모두 몇개나 될까? 10위권까지 한번 표현해보자."
   ]
  },
  {
   "cell_type": "code",
   "execution_count": 82,
   "id": "a2b86399-8414-4a90-b245-7e2738cbaf7c",
   "metadata": {},
   "outputs": [
    {
     "data": {
      "text/html": [
       "<div>\n",
       "<style scoped>\n",
       "    .dataframe tbody tr th:only-of-type {\n",
       "        vertical-align: middle;\n",
       "    }\n",
       "\n",
       "    .dataframe tbody tr th {\n",
       "        vertical-align: top;\n",
       "    }\n",
       "\n",
       "    .dataframe thead th {\n",
       "        text-align: right;\n",
       "    }\n",
       "</style>\n",
       "<table border=\"1\" class=\"dataframe\">\n",
       "  <thead>\n",
       "    <tr style=\"text-align: right;\">\n",
       "      <th></th>\n",
       "      <th>사업장명</th>\n",
       "      <th>지역구</th>\n",
       "      <th>업태구분명</th>\n",
       "      <th>open</th>\n",
       "      <th>closed</th>\n",
       "      <th>다중이용업소여부</th>\n",
       "      <th>지번주소</th>\n",
       "      <th>경도</th>\n",
       "      <th>위도</th>\n",
       "      <th>전통업소주된음식</th>\n",
       "    </tr>\n",
       "  </thead>\n",
       "  <tbody>\n",
       "    <tr>\n",
       "      <th>0</th>\n",
       "      <td>통불 이마트청계천점</td>\n",
       "      <td>중구</td>\n",
       "      <td>일반조리판매</td>\n",
       "      <td>2020</td>\n",
       "      <td>NaN</td>\n",
       "      <td>NaN</td>\n",
       "      <td>서울특별시 중구 황학동 2545 이마트 청계천점</td>\n",
       "      <td>127.021434</td>\n",
       "      <td>37.570978</td>\n",
       "      <td>NaN</td>\n",
       "    </tr>\n",
       "    <tr>\n",
       "      <th>1</th>\n",
       "      <td>씨유 길음푸르지오점</td>\n",
       "      <td>성북구</td>\n",
       "      <td>편의점</td>\n",
       "      <td>2020</td>\n",
       "      <td>NaN</td>\n",
       "      <td>NaN</td>\n",
       "      <td>서울특별시 성북구 길음동 1280-6 대우상가</td>\n",
       "      <td>127.017973</td>\n",
       "      <td>37.610872</td>\n",
       "      <td>NaN</td>\n",
       "    </tr>\n",
       "    <tr>\n",
       "      <th>2</th>\n",
       "      <td>스타벅스</td>\n",
       "      <td>송파구</td>\n",
       "      <td>커피숍</td>\n",
       "      <td>2020</td>\n",
       "      <td>NaN</td>\n",
       "      <td>NaN</td>\n",
       "      <td>서울특별시 송파구 방이동 44-3 현대토픽스</td>\n",
       "      <td>127.113106</td>\n",
       "      <td>37.516942</td>\n",
       "      <td>NaN</td>\n",
       "    </tr>\n",
       "    <tr>\n",
       "      <th>3</th>\n",
       "      <td>Min's coffee</td>\n",
       "      <td>동대문구</td>\n",
       "      <td>커피숍</td>\n",
       "      <td>2020</td>\n",
       "      <td>NaN</td>\n",
       "      <td>NaN</td>\n",
       "      <td>서울특별시 동대문구 전농동 38-104</td>\n",
       "      <td>127.060378</td>\n",
       "      <td>37.578112</td>\n",
       "      <td>NaN</td>\n",
       "    </tr>\n",
       "    <tr>\n",
       "      <th>4</th>\n",
       "      <td>탑브릭스</td>\n",
       "      <td>강북구</td>\n",
       "      <td>일반조리판매</td>\n",
       "      <td>2020</td>\n",
       "      <td>NaN</td>\n",
       "      <td>NaN</td>\n",
       "      <td>서울특별시 강북구 수유동 413-25</td>\n",
       "      <td>127.015425</td>\n",
       "      <td>37.636170</td>\n",
       "      <td>NaN</td>\n",
       "    </tr>\n",
       "  </tbody>\n",
       "</table>\n",
       "</div>"
      ],
      "text/plain": [
       "           사업장명   지역구   업태구분명  open  closed 다중이용업소여부  \\\n",
       "0    통불 이마트청계천점    중구  일반조리판매  2020     NaN      NaN   \n",
       "1    씨유 길음푸르지오점   성북구     편의점  2020     NaN      NaN   \n",
       "2          스타벅스   송파구     커피숍  2020     NaN      NaN   \n",
       "3  Min's coffee  동대문구     커피숍  2020     NaN      NaN   \n",
       "4          탑브릭스   강북구  일반조리판매  2020     NaN      NaN   \n",
       "\n",
       "                         지번주소          경도         위도 전통업소주된음식  \n",
       "0  서울특별시 중구 황학동 2545 이마트 청계천점  127.021434  37.570978      NaN  \n",
       "1   서울특별시 성북구 길음동 1280-6 대우상가  127.017973  37.610872      NaN  \n",
       "2    서울특별시 송파구 방이동 44-3 현대토픽스  127.113106  37.516942      NaN  \n",
       "3       서울특별시 동대문구 전농동 38-104  127.060378  37.578112      NaN  \n",
       "4        서울특별시 강북구 수유동 413-25  127.015425  37.636170      NaN  "
      ]
     },
     "execution_count": 82,
     "metadata": {},
     "output_type": "execute_result"
    }
   ],
   "source": [
    "#  43  전통업소주된음식. 음식 타입인 것 같다. 그럼 이것만 간추려보자.\n",
    "\n",
    "sf1 = sf.iloc[:, [19,45,23,46,47,40,16,48,49,43]] # iloc 함수가 분류하는 것인가? \n",
    "sf1.head()"
   ]
  },
  {
   "cell_type": "code",
   "execution_count": 86,
   "id": "6383982a-fe72-4e10-8b92-f209ebbf1d8d",
   "metadata": {},
   "outputs": [
    {
     "data": {
      "text/plain": [
       "커피숍         27222\n",
       "일반조리판매      17709\n",
       "다방          17249\n",
       "기타 휴게음식점    14003\n",
       "패스트푸드        9748\n",
       "편의점          9240\n",
       "과자점          8074\n",
       "백화점          2604\n",
       "푸드트럭          918\n",
       "철도역구내         424\n",
       "아이스크림         389\n",
       "전통찻집          332\n",
       "떡카페           144\n",
       "키즈카페          126\n",
       "관광호텔           80\n",
       "유원지            59\n",
       "극장             19\n",
       "공항             17\n",
       "고속도로            7\n",
       "기타              2\n",
       "한식              2\n",
       "호프/통닭           1\n",
       "김밥(도시락)         1\n",
       "룸살롱             1\n",
       "단란주점            1\n",
       "Name: 업태구분명, dtype: int64"
      ]
     },
     "execution_count": 86,
     "metadata": {},
     "output_type": "execute_result"
    }
   ],
   "source": [
    "업태구분 = sf1.업태구분명.value_counts() \n",
    "# Valuecounts()꼭 기억할것!! \n",
    "업태구분 = 업태구분.sort_values(ascending=False)\n",
    "업태구분"
   ]
  },
  {
   "cell_type": "markdown",
   "id": "0e412315-e90a-434f-a251-afb71f2f2304",
   "metadata": {},
   "source": [
    "### 말마따나 커피숍이 많죠?\n",
    "### 보기 편하게 15개 정도만 간추려서 plot으로 시각화하자."
   ]
  },
  {
   "cell_type": "code",
   "execution_count": 91,
   "id": "576e17db-a8fd-42b9-abea-cfad96901335",
   "metadata": {},
   "outputs": [
    {
     "data": {
      "text/plain": [
       "<AxesSubplot:>"
      ]
     },
     "execution_count": 91,
     "metadata": {},
     "output_type": "execute_result"
    },
    {
     "data": {
      "image/png": "[encoded data removed]",
      "text/plain": [
       "<Figure size 432x288 with 1 Axes>"
      ]
     },
     "metadata": {
      "needs_background": "light"
     },
     "output_type": "display_data"
    }
   ],
   "source": [
    "ax = 업태구분[:15].plot(kind='bar', color=plt.cm.tab20(np.arange(20)))\n",
    "\n",
    "for p in ax.patches:ax.annotate(p.get_height(), (p.get_x()-0.05, p.get_height()+10) )\n",
    "ax"
   ]
  },
  {
   "cell_type": "markdown",
   "id": "2d557afc-7273-4962-89e2-8be32ca615a7",
   "metadata": {},
   "source": [
    "## 글자가 막대 그래프에 너무 붙는 위치로 되어있기 때문에 height 값을 높여야한다."
   ]
  },
  {
   "cell_type": "code",
   "execution_count": 95,
   "id": "1c629890-de76-4e21-81f4-8cc29e7ae9c1",
   "metadata": {},
   "outputs": [
    {
     "data": {
      "text/plain": [
       "<AxesSubplot:>"
      ]
     },
     "execution_count": 95,
     "metadata": {},
     "output_type": "execute_result"
    },
    {
     "data": {
      "image/png": "[encoded data removed]",
      "text/plain": [
       "<Figure size 864x432 with 1 Axes>"
      ]
     },
     "metadata": {
      "needs_background": "light"
     },
     "output_type": "display_data"
    }
   ],
   "source": [
    "# 그래프 수치 간격이 좁아서 넓게 그래프를 그릴려면 figsize=(12,6) 정도로 넣어보자\n",
    "\n",
    "ax = 업태구분[:15].plot(kind='bar', figsize=(12,6), color=plt.cm.tab20(np.arange(20)))\n",
    "\n",
    "for p in ax.patches:ax.annotate(p.get_height(), (p.get_x(), p.get_height()+300) )\n",
    "ax"
   ]
  },
  {
   "cell_type": "code",
   "execution_count": 98,
   "id": "9d1ecb6f-5a53-4ccc-90e0-095e072f3fc1",
   "metadata": {},
   "outputs": [
    {
     "data": {
      "text/plain": [
       "<AxesSubplot:>"
      ]
     },
     "execution_count": 98,
     "metadata": {},
     "output_type": "execute_result"
    },
    {
     "data": {
      "image/png": "[encoded data removed]",
      "text/plain": [
       "<Figure size 864x432 with 1 Axes>"
      ]
     },
     "metadata": {
      "needs_background": "light"
     },
     "output_type": "display_data"
    }
   ],
   "source": [
    "ax = 업태구분[:15].plot(kind='bar', figsize=(12,6), color=plt.cm.tab20(np.arange(20)))\n",
    "\n",
    "# '{:5d}' 값으로 정렬 \n",
    "\n",
    "for p in ax.patches:ax.annotate( '{:5d}'.format(p.get_height() ), (p.get_x(), p.get_height()+300) )\n",
    "ax"
   ]
  },
  {
   "cell_type": "code",
   "execution_count": 99,
   "id": "7aa0febf-460e-4fe5-8fdd-35cab94fd60d",
   "metadata": {},
   "outputs": [
    {
     "data": {
      "text/html": [
       "<div>\n",
       "<style scoped>\n",
       "    .dataframe tbody tr th:only-of-type {\n",
       "        vertical-align: middle;\n",
       "    }\n",
       "\n",
       "    .dataframe tbody tr th {\n",
       "        vertical-align: top;\n",
       "    }\n",
       "\n",
       "    .dataframe thead th {\n",
       "        text-align: right;\n",
       "    }\n",
       "</style>\n",
       "<table border=\"1\" class=\"dataframe\">\n",
       "  <thead>\n",
       "    <tr style=\"text-align: right;\">\n",
       "      <th></th>\n",
       "      <th>사업장명</th>\n",
       "      <th>지역구</th>\n",
       "      <th>업태구분명</th>\n",
       "      <th>open</th>\n",
       "      <th>closed</th>\n",
       "      <th>다중이용업소여부</th>\n",
       "      <th>지번주소</th>\n",
       "      <th>경도</th>\n",
       "      <th>위도</th>\n",
       "      <th>전통업소주된음식</th>\n",
       "    </tr>\n",
       "  </thead>\n",
       "  <tbody>\n",
       "    <tr>\n",
       "      <th>37</th>\n",
       "      <td>상록수</td>\n",
       "      <td>금천구</td>\n",
       "      <td>다방</td>\n",
       "      <td>1967</td>\n",
       "      <td>NaN</td>\n",
       "      <td>NaN</td>\n",
       "      <td>서울특별시 종로구 종로5가 193-17</td>\n",
       "      <td>126.899804</td>\n",
       "      <td>37.457790</td>\n",
       "      <td>NaN</td>\n",
       "    </tr>\n",
       "    <tr>\n",
       "      <th>51</th>\n",
       "      <td>케이브커피(KAVE coffee)</td>\n",
       "      <td>노원구</td>\n",
       "      <td>다방</td>\n",
       "      <td>2020</td>\n",
       "      <td>NaN</td>\n",
       "      <td>NaN</td>\n",
       "      <td>서울특별시 서대문구 대현동 27-20 신촌가이아</td>\n",
       "      <td>127.054843</td>\n",
       "      <td>37.676224</td>\n",
       "      <td>NaN</td>\n",
       "    </tr>\n",
       "    <tr>\n",
       "      <th>74</th>\n",
       "      <td>국민우유집</td>\n",
       "      <td>송파구</td>\n",
       "      <td>다방</td>\n",
       "      <td>2020</td>\n",
       "      <td>NaN</td>\n",
       "      <td>NaN</td>\n",
       "      <td>서울특별시 서대문구 남가좌동 324-28 명지하우스 101호</td>\n",
       "      <td>127.103433</td>\n",
       "      <td>37.513101</td>\n",
       "      <td>NaN</td>\n",
       "    </tr>\n",
       "    <tr>\n",
       "      <th>149</th>\n",
       "      <td>왕비</td>\n",
       "      <td>용산구</td>\n",
       "      <td>다방</td>\n",
       "      <td>1981</td>\n",
       "      <td>NaN</td>\n",
       "      <td>N</td>\n",
       "      <td>서울특별시 종로구 신문로2가 1-355번지</td>\n",
       "      <td>127.045947</td>\n",
       "      <td>37.549011</td>\n",
       "      <td>NaN</td>\n",
       "    </tr>\n",
       "    <tr>\n",
       "      <th>160</th>\n",
       "      <td>이젠</td>\n",
       "      <td>중구</td>\n",
       "      <td>다방</td>\n",
       "      <td>2013</td>\n",
       "      <td>2020.0</td>\n",
       "      <td>NaN</td>\n",
       "      <td>서울특별시 강남구 논현동 10-25 교하빌딩 1층 101호</td>\n",
       "      <td>127.030090</td>\n",
       "      <td>37.484354</td>\n",
       "      <td>NaN</td>\n",
       "    </tr>\n",
       "  </tbody>\n",
       "</table>\n",
       "</div>"
      ],
      "text/plain": [
       "                   사업장명  지역구 업태구분명  open  closed 다중이용업소여부  \\\n",
       "37                  상록수  금천구    다방  1967     NaN      NaN   \n",
       "51   케이브커피(KAVE coffee)  노원구    다방  2020     NaN      NaN   \n",
       "74                국민우유집  송파구    다방  2020     NaN      NaN   \n",
       "149                  왕비  용산구    다방  1981     NaN        N   \n",
       "160                  이젠   중구    다방  2013  2020.0      NaN   \n",
       "\n",
       "                                  지번주소          경도         위도 전통업소주된음식  \n",
       "37               서울특별시 종로구 종로5가 193-17  126.899804  37.457790      NaN  \n",
       "51          서울특별시 서대문구 대현동 27-20 신촌가이아  127.054843  37.676224      NaN  \n",
       "74   서울특별시 서대문구 남가좌동 324-28 명지하우스 101호  127.103433  37.513101      NaN  \n",
       "149           서울특별시 종로구 신문로2가 1-355번지   127.045947  37.549011      NaN  \n",
       "160   서울특별시 강남구 논현동 10-25 교하빌딩 1층 101호  127.030090  37.484354      NaN  "
      ]
     },
     "execution_count": 99,
     "metadata": {},
     "output_type": "execute_result"
    }
   ],
   "source": [
    "# 다방의 갯수가 17,249개 - 다방의 종류는 무엇일까?\n",
    "search = sf1.업태구분명 == '다방'\n",
    "다방 = sf1[search]\n",
    "다방.head()"
   ]
  },
  {
   "cell_type": "markdown",
   "id": "bd2de2e8-ea12-4f8b-8dbc-fb8efceadaf4",
   "metadata": {},
   "source": [
    "## 다방의 갯수 파악"
   ]
  },
  {
   "cell_type": "code",
   "execution_count": 107,
   "id": "f14c4726-4c7c-43ea-9b41-2aa3e83a0a42",
   "metadata": {},
   "outputs": [
    {
     "data": {
      "text/plain": [
       "약속      94\n",
       "약속다방    73\n",
       "커피타임    59\n",
       "팡세      58\n",
       "솔       57\n",
       "초원      55\n",
       "제일      54\n",
       "정       52\n",
       "태양      51\n",
       "영       49\n",
       "영다방     46\n",
       "정다방     46\n",
       "중앙다방    44\n",
       "수정      44\n",
       "한일      43\n",
       "양지      42\n",
       "궁전      41\n",
       "귀빈      40\n",
       "장미      39\n",
       "중앙      39\n",
       "Name: 사업장명, dtype: int64"
      ]
     },
     "execution_count": 107,
     "metadata": {},
     "output_type": "execute_result"
    }
   ],
   "source": [
    "다방.사업장명.value_counts().sort_values(ascending=False).head(20)"
   ]
  },
  {
   "cell_type": "markdown",
   "id": "26e9c862-7967-4ee8-8abc-63a425b77d61",
   "metadata": {},
   "source": [
    "### 년도별 다방의 갯수는 ? 다방의 데이터 프레임을 만들어보자."
   ]
  },
  {
   "cell_type": "code",
   "execution_count": 106,
   "id": "f3828732-a48f-482f-8055-8f69b2f652b2",
   "metadata": {},
   "outputs": [
    {
     "data": {
      "text/plain": [
       "open  사업장명    \n",
       "1899  용궁다방        1\n",
       "      해태다방        1\n",
       "1900  청자          1\n",
       "1904  .           1\n",
       "      피터팬         1\n",
       "1913  린네스가든       1\n",
       "1931  자뎅커피타운본점    1\n",
       "      터틀          1\n",
       "1936  정동          1\n",
       "1948  볼라커피숍       1\n",
       "1964  빌라노바        1\n",
       "      청수          1\n",
       "1965  길           1\n",
       "      봉다방         1\n",
       "      삼성          1\n",
       "      영           1\n",
       "      태을          1\n",
       "      파리          1\n",
       "      호수          1\n",
       "1966  남지다방        1\n",
       "Name: 사업장명, dtype: int64"
      ]
     },
     "execution_count": 106,
     "metadata": {},
     "output_type": "execute_result"
    }
   ],
   "source": [
    "# open 컬럼과 사업장명, 사업장명을 count()해서 개업다방점 데이터 프레임 만들기.\n",
    "\n",
    "개업다방 = 다방.groupby(['open', '사업장명'])['사업장명'].count()\n",
    "\n",
    "개업다방.sort_values(ascending=False)\n",
    "\n",
    "# 너무 많으니까 20개만 찍어보자.\n",
    "\n",
    "개업다방[:20]"
   ]
  },
  {
   "cell_type": "markdown",
   "id": "09039490-afe6-4156-bb5f-4f6ae2e4050f",
   "metadata": {},
   "source": [
    "### 앞에 그래프를 그렸던 것은 open 한 것만 위주로 카운팅한거고, 지금 년을 기준으로 close가 Nan인 데이터를 것만 놓아서 다시 집계를 내면, 태업한 업소만 빼고 볼 수 있을 것이다."
   ]
  },
  {
   "cell_type": "markdown",
   "id": "d3406e09-450b-472f-915f-4353d6c67246",
   "metadata": {},
   "source": [
    "### 구별로 몇개의 스타벅스가 존재하는지 시각화\n",
    "### 강남구에 존재하는 스타벅스의 위치를 지도에 시각화 해보자."
   ]
  },
  {
   "cell_type": "code",
   "execution_count": 112,
   "id": "f4c84998-16ba-459e-ae5f-0a39605ca19d",
   "metadata": {},
   "outputs": [
    {
     "data": {
      "text/plain": [
       "Series([], Name: 지역구, dtype: int64)"
      ]
     },
     "execution_count": 112,
     "metadata": {},
     "output_type": "execute_result"
    }
   ],
   "source": [
    "# Step 1 = 구별로 몇개의 이디아/스타벅스가 존재하는지 시각화를 해보자.\n",
    "\n",
    "스타벅스 = sf1[sf1.사업장명 == '스타벅스']\n",
    "스타벅스.head()\n",
    "\n",
    "이디야 = sf1[sf1.사업장명 == '이디야']\n",
    "이디야.head()\n",
    "\n",
    "\n",
    "\n",
    "\n",
    "스타벅스.지역구.value_counts().sort_values(ascending=False)[:10]"
   ]
  },
  {
   "cell_type": "code",
   "execution_count": 116,
   "id": "d815d0b7-9449-4281-993d-4960f6431975",
   "metadata": {},
   "outputs": [
    {
     "data": {
      "text/html": [
       "<div>\n",
       "<style scoped>\n",
       "    .dataframe tbody tr th:only-of-type {\n",
       "        vertical-align: middle;\n",
       "    }\n",
       "\n",
       "    .dataframe tbody tr th {\n",
       "        vertical-align: top;\n",
       "    }\n",
       "\n",
       "    .dataframe thead th {\n",
       "        text-align: right;\n",
       "    }\n",
       "</style>\n",
       "<table border=\"1\" class=\"dataframe\">\n",
       "  <thead>\n",
       "    <tr style=\"text-align: right;\">\n",
       "      <th></th>\n",
       "      <th>사업장명</th>\n",
       "      <th>지역구</th>\n",
       "      <th>업태구분명</th>\n",
       "      <th>open</th>\n",
       "      <th>closed</th>\n",
       "      <th>다중이용업소여부</th>\n",
       "      <th>지번주소</th>\n",
       "      <th>경도</th>\n",
       "      <th>위도</th>\n",
       "      <th>전통업소주된음식</th>\n",
       "    </tr>\n",
       "  </thead>\n",
       "  <tbody>\n",
       "    <tr>\n",
       "      <th>2</th>\n",
       "      <td>스타벅스</td>\n",
       "      <td>송파구</td>\n",
       "      <td>커피숍</td>\n",
       "      <td>2020</td>\n",
       "      <td>NaN</td>\n",
       "      <td>NaN</td>\n",
       "      <td>서울특별시 송파구 방이동 44-3 현대토픽스</td>\n",
       "      <td>127.113106</td>\n",
       "      <td>37.516942</td>\n",
       "      <td>NaN</td>\n",
       "    </tr>\n",
       "    <tr>\n",
       "      <th>106</th>\n",
       "      <td>스타벅스</td>\n",
       "      <td>마포구</td>\n",
       "      <td>커피숍</td>\n",
       "      <td>2020</td>\n",
       "      <td>NaN</td>\n",
       "      <td>NaN</td>\n",
       "      <td>서울특별시 강남구 삼성동 108-6번지 JBK TOWER 빌딩</td>\n",
       "      <td>126.899030</td>\n",
       "      <td>37.569992</td>\n",
       "      <td>NaN</td>\n",
       "    </tr>\n",
       "    <tr>\n",
       "      <th>163</th>\n",
       "      <td>스타벅스</td>\n",
       "      <td>동작구</td>\n",
       "      <td>커피숍</td>\n",
       "      <td>2018</td>\n",
       "      <td>NaN</td>\n",
       "      <td>NaN</td>\n",
       "      <td>서울특별시 서초구 서초동 1365-23번지 1층</td>\n",
       "      <td>127.018017</td>\n",
       "      <td>37.482788</td>\n",
       "      <td>NaN</td>\n",
       "    </tr>\n",
       "    <tr>\n",
       "      <th>183</th>\n",
       "      <td>스타벅스</td>\n",
       "      <td>서대문구</td>\n",
       "      <td>커피숍</td>\n",
       "      <td>2020</td>\n",
       "      <td>NaN</td>\n",
       "      <td>NaN</td>\n",
       "      <td>서울특별시 강남구 역삼동 702-10 아남타워빌딩</td>\n",
       "      <td>127.138372</td>\n",
       "      <td>37.544185</td>\n",
       "      <td>NaN</td>\n",
       "    </tr>\n",
       "    <tr>\n",
       "      <th>313</th>\n",
       "      <td>스타벅스</td>\n",
       "      <td>서초구</td>\n",
       "      <td>커피숍</td>\n",
       "      <td>2003</td>\n",
       "      <td>NaN</td>\n",
       "      <td>NaN</td>\n",
       "      <td>서울특별시 서초구 서초동 1657-5번지 1층</td>\n",
       "      <td>127.018789</td>\n",
       "      <td>37.493376</td>\n",
       "      <td>NaN</td>\n",
       "    </tr>\n",
       "  </tbody>\n",
       "</table>\n",
       "</div>"
      ],
      "text/plain": [
       "     사업장명   지역구 업태구분명  open  closed 다중이용업소여부  \\\n",
       "2    스타벅스   송파구   커피숍  2020     NaN      NaN   \n",
       "106  스타벅스   마포구   커피숍  2020     NaN      NaN   \n",
       "163  스타벅스   동작구   커피숍  2018     NaN      NaN   \n",
       "183  스타벅스  서대문구   커피숍  2020     NaN      NaN   \n",
       "313  스타벅스   서초구   커피숍  2003     NaN      NaN   \n",
       "\n",
       "                                   지번주소          경도         위도 전통업소주된음식  \n",
       "2              서울특별시 송파구 방이동 44-3 현대토픽스  127.113106  37.516942      NaN  \n",
       "106  서울특별시 강남구 삼성동 108-6번지 JBK TOWER 빌딩  126.899030  37.569992      NaN  \n",
       "163          서울특별시 서초구 서초동 1365-23번지 1층  127.018017  37.482788      NaN  \n",
       "183         서울특별시 강남구 역삼동 702-10 아남타워빌딩  127.138372  37.544185      NaN  \n",
       "313           서울특별시 서초구 서초동 1657-5번지 1층  127.018789  37.493376      NaN  "
      ]
     },
     "execution_count": 116,
     "metadata": {},
     "output_type": "execute_result"
    }
   ],
   "source": [
    "# 지금 현재 영업중인 매장을 대상으로 다시 추출\n",
    "스타벅스 = sf1[(sf1.사업장명 == '스타벅스') & \\\n",
    "           (sf1.closed.isnull())] # 결측치 제거하기\n",
    "\n",
    "스타벅스.head() # 643 - 518"
   ]
  },
  {
   "cell_type": "markdown",
   "id": "ebdcd5b8-42ef-45b9-b670-28e8a57b32b2",
   "metadata": {},
   "source": [
    "### 이렇게하면 각 각 구당 이디야,스타벅스 커피점의 숫자를 확인이 가능하다."
   ]
  },
  {
   "cell_type": "code",
   "execution_count": 118,
   "id": "944f305e-879c-4851-a29a-22f7406e49a0",
   "metadata": {},
   "outputs": [
    {
     "data": {
      "text/html": [
       "<div>\n",
       "<style scoped>\n",
       "    .dataframe tbody tr th:only-of-type {\n",
       "        vertical-align: middle;\n",
       "    }\n",
       "\n",
       "    .dataframe tbody tr th {\n",
       "        vertical-align: top;\n",
       "    }\n",
       "\n",
       "    .dataframe thead th {\n",
       "        text-align: right;\n",
       "    }\n",
       "</style>\n",
       "<table border=\"1\" class=\"dataframe\">\n",
       "  <thead>\n",
       "    <tr style=\"text-align: right;\">\n",
       "      <th></th>\n",
       "      <th>사업장명</th>\n",
       "      <th>지역구</th>\n",
       "      <th>업태구분명</th>\n",
       "      <th>open</th>\n",
       "      <th>closed</th>\n",
       "      <th>다중이용업소여부</th>\n",
       "      <th>지번주소</th>\n",
       "      <th>경도</th>\n",
       "      <th>위도</th>\n",
       "      <th>전통업소주된음식</th>\n",
       "    </tr>\n",
       "  </thead>\n",
       "  <tbody>\n",
       "    <tr>\n",
       "      <th>42</th>\n",
       "      <td>이디야</td>\n",
       "      <td>중구</td>\n",
       "      <td>커피숍</td>\n",
       "      <td>2020</td>\n",
       "      <td>NaN</td>\n",
       "      <td>NaN</td>\n",
       "      <td>서울특별시 서초구 양재동 273-2 1층</td>\n",
       "      <td>126.988638</td>\n",
       "      <td>37.564465</td>\n",
       "      <td>NaN</td>\n",
       "    </tr>\n",
       "    <tr>\n",
       "      <th>147</th>\n",
       "      <td>이디야</td>\n",
       "      <td>노원구</td>\n",
       "      <td>커피숍</td>\n",
       "      <td>2019</td>\n",
       "      <td>NaN</td>\n",
       "      <td>NaN</td>\n",
       "      <td>서울특별시 송파구 문정동 150번지 올림픽훼밀리타운</td>\n",
       "      <td>126.971671</td>\n",
       "      <td>37.536150</td>\n",
       "      <td>NaN</td>\n",
       "    </tr>\n",
       "    <tr>\n",
       "      <th>350</th>\n",
       "      <td>이디야</td>\n",
       "      <td>강동구</td>\n",
       "      <td>커피숍</td>\n",
       "      <td>2018</td>\n",
       "      <td>NaN</td>\n",
       "      <td>NaN</td>\n",
       "      <td>서울특별시 중구 신당동 373-70번지</td>\n",
       "      <td>127.027750</td>\n",
       "      <td>37.586012</td>\n",
       "      <td>NaN</td>\n",
       "    </tr>\n",
       "    <tr>\n",
       "      <th>399</th>\n",
       "      <td>이디야</td>\n",
       "      <td>노원구</td>\n",
       "      <td>커피숍</td>\n",
       "      <td>2016</td>\n",
       "      <td>NaN</td>\n",
       "      <td>NaN</td>\n",
       "      <td>서울특별시 송파구 문정동 640번지 케이디유타워</td>\n",
       "      <td>126.964918</td>\n",
       "      <td>37.581745</td>\n",
       "      <td>NaN</td>\n",
       "    </tr>\n",
       "    <tr>\n",
       "      <th>472</th>\n",
       "      <td>이디야</td>\n",
       "      <td>강남구</td>\n",
       "      <td>커피숍</td>\n",
       "      <td>2008</td>\n",
       "      <td>NaN</td>\n",
       "      <td>NaN</td>\n",
       "      <td>서울특별시 중구 을지로6가 18-37번지</td>\n",
       "      <td>126.988101</td>\n",
       "      <td>37.569935</td>\n",
       "      <td>NaN</td>\n",
       "    </tr>\n",
       "  </tbody>\n",
       "</table>\n",
       "</div>"
      ],
      "text/plain": [
       "    사업장명  지역구 업태구분명  open  closed 다중이용업소여부                          지번주소  \\\n",
       "42   이디야   중구   커피숍  2020     NaN      NaN        서울특별시 서초구 양재동 273-2 1층   \n",
       "147  이디야  노원구   커피숍  2019     NaN      NaN  서울특별시 송파구 문정동 150번지 올림픽훼밀리타운   \n",
       "350  이디야  강동구   커피숍  2018     NaN      NaN         서울특별시 중구 신당동 373-70번지   \n",
       "399  이디야  노원구   커피숍  2016     NaN      NaN    서울특별시 송파구 문정동 640번지 케이디유타워   \n",
       "472  이디야  강남구   커피숍  2008     NaN      NaN        서울특별시 중구 을지로6가 18-37번지   \n",
       "\n",
       "             경도         위도 전통업소주된음식  \n",
       "42   126.988638  37.564465      NaN  \n",
       "147  126.971671  37.536150      NaN  \n",
       "350  127.027750  37.586012      NaN  \n",
       "399  126.964918  37.581745      NaN  \n",
       "472  126.988101  37.569935      NaN  "
      ]
     },
     "execution_count": 118,
     "metadata": {},
     "output_type": "execute_result"
    }
   ],
   "source": [
    "이디야 = sf1[(sf1.사업장명 == '이디야')  & \\\n",
    "           (sf1.closed.isnull())]\n",
    "이디야.head()"
   ]
  },
  {
   "cell_type": "markdown",
   "id": "4e76cafc-100c-469e-8d28-197e832a2484",
   "metadata": {},
   "source": [
    "### 이 데이터를 확인해보면 폐업률이 스타벅스 보다는 이디야가 더 높다는 것을 확인할 수 있다.\n",
    "### 이것으로 자기가 창업을 할려면, 이디야보다는 스타벅스로 창업을 할 수 있겠구나.라고 판단이 가능하다는 것이다."
   ]
  },
  {
   "cell_type": "markdown",
   "id": "15185d0a-9273-46f5-ba85-c97a6e18573d",
   "metadata": {},
   "source": [
    "### 강남구에 존재하는 스타벅스의 위치를 지도에 시각화 해보자."
   ]
  },
  {
   "cell_type": "code",
   "execution_count": 124,
   "id": "c379311a-08e4-480a-96a1-225bde763163",
   "metadata": {},
   "outputs": [
    {
     "data": {
      "text/plain": [
       "[(37.59870427015345, 127.0571290905954),\n",
       " (37.49409942941632, 127.03264458669362),\n",
       " (37.55899169480882, 126.9438829804128),\n",
       " (37.51061808078643, 127.08035533242426),\n",
       " (37.50342724992147, 127.10635722249192)]"
      ]
     },
     "execution_count": 124,
     "metadata": {},
     "output_type": "execute_result"
    }
   ],
   "source": [
    "강남스벅 = 스타벅스[스타벅스.지역구 == '강남구']\n",
    "강남스벅.head()\n",
    "\n",
    "강남이댜 = 이디야[이디야.지역구 == '강남구']\n",
    "강남이댜.head()\n",
    "\n",
    "latlng = []\n",
    "for i in range(len(강남스벅)):\n",
    "    latlng.append((강남스벅.iloc[i, 8], 강남스벅.iloc[i, 7]))\n",
    "\n",
    "latlng[:5]"
   ]
  },
  {
   "cell_type": "code",
   "execution_count": 125,
   "id": "4df5bbbb-7de7-432c-a440-34ad1bf411a1",
   "metadata": {},
   "outputs": [
    {
     "ename": "ModuleNotFoundError",
     "evalue": "No module named 'gmaps'",
     "output_type": "error",
     "traceback": [
      "\u001b[0;31m---------------------------------------------------------------------------\u001b[0m",
      "\u001b[0;31mModuleNotFoundError\u001b[0m                       Traceback (most recent call last)",
      "\u001b[0;32m/tmp/ipykernel_3918/634652266.py\u001b[0m in \u001b[0;36m<module>\u001b[0;34m\u001b[0m\n\u001b[1;32m      1\u001b[0m \u001b[0;32mimport\u001b[0m \u001b[0mgooglemaps\u001b[0m \u001b[0;32mas\u001b[0m \u001b[0mggmaps\u001b[0m\u001b[0;34m\u001b[0m\u001b[0;34m\u001b[0m\u001b[0m\n\u001b[0;32m----> 2\u001b[0;31m \u001b[0;32mimport\u001b[0m \u001b[0mgmaps\u001b[0m\u001b[0;34m\u001b[0m\u001b[0;34m\u001b[0m\u001b[0m\n\u001b[0m\u001b[1;32m      3\u001b[0m \u001b[0;32mfrom\u001b[0m \u001b[0mipywidgets\u001b[0m\u001b[0;34m.\u001b[0m\u001b[0membed\u001b[0m \u001b[0;32mimport\u001b[0m \u001b[0membed_minimal_html\u001b[0m\u001b[0;34m\u001b[0m\u001b[0;34m\u001b[0m\u001b[0m\n",
      "\u001b[0;31mModuleNotFoundError\u001b[0m: No module named 'gmaps'"
     ]
    }
   ],
   "source": [
    "import googlemaps as ggmaps\n",
    "import gmaps\n",
    "from ipywidgets.embed import embed_minimal_html\n",
    "\n",
    "my key = 'AIzaSyBTduQ1nN1Wm11A2G\n",
    "\n"
   ]
  },
  {
   "cell_type": "code",
   "execution_count": null,
   "id": "d4880549-e1b4-40d4-aaf3-6e0f031ce06f",
   "metadata": {},
   "outputs": [],
   "source": []
  }
 ],
 "metadata": {
  "kernelspec": {
   "display_name": "Python 3 (ipykernel)",
   "language": "python",
   "name": "python3"
  },
  "language_info": {
   "codemirror_mode": {
    "name": "ipython",
    "version": 3
   },
   "file_extension": ".py",
   "mimetype": "text/x-python",
   "name": "python",
   "nbconvert_exporter": "python",
   "pygments_lexer": "ipython3",
   "version": "3.8.11"
  }
 },
 "nbformat": 4,
 "nbformat_minor": 5
}
