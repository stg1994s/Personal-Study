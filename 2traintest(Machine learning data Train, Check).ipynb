{
 "cells": [
  {
   "cell_type": "code",
   "execution_count": 1,
   "id": "0f0116a9-97fd-43e2-8e5a-1ed135fba749",
   "metadata": {},
   "outputs": [],
   "source": [
    "import numpy as np\n",
    "import pandas as pd\n",
    "import matplotlib.pyplot as plt\n",
    "import sklearn"
   ]
  },
  {
   "cell_type": "markdown",
   "id": "f2d87951-2533-4fa0-9e36-378b0b095696",
   "metadata": {},
   "source": [
    "## 훈련과 테스트 데이터\n",
    "* 머신러닝 모델을 만들기 위해서는 훈련(학습)에 필요한 집합이 있어야 함\n",
    "* 하지만, 전체 데이터 모두를 학습에 사용하면 과적합 문제 발생"
   ]
  },
  {
   "cell_type": "code",
   "execution_count": 2,
   "id": "ae6581ba-5131-49a2-b73a-4f6eba980e36",
   "metadata": {},
   "outputs": [],
   "source": [
    "# train/test 데이터 분할의 필요성 알아보기\n",
    "from sklearn.datasets import load_iris\n",
    "from sklearn.tree import DecisionTreeClassifier\n",
    "from sklearn.metrics import accuracy_score"
   ]
  },
  {
   "cell_type": "code",
   "execution_count": 3,
   "id": "c9bcb887-7b3c-45de-8752-6f9f145db78b",
   "metadata": {},
   "outputs": [],
   "source": [
    "# 데이터 적재\n",
    "iris = load_iris()\n",
    "data = iris.data # 특성/독립변수\n",
    "label = iris.target # 레이블/종속변수"
   ]
  },
  {
   "cell_type": "code",
   "execution_count": 4,
   "id": "d08c9b72-ceaa-4c79-9358-f227651c3a56",
   "metadata": {},
   "outputs": [
    {
     "data": {
      "text/plain": [
       "DecisionTreeClassifier()"
      ]
     },
     "execution_count": 4,
     "metadata": {},
     "output_type": "execute_result"
    }
   ],
   "source": [
    "# 의사결정나무 모델 생성을 위해 주어진 변수들로 학습을 시켜봄\n",
    "dtclf = DecisionTreeClassifier()\n",
    "dtclf.fit(data, label)"
   ]
  },
  {
   "cell_type": "code",
   "execution_count": 5,
   "id": "5196e292-6eea-48a8-b8f4-277ed44137fb",
   "metadata": {},
   "outputs": [],
   "source": [
    "# 생성된 모델에 기존 변수를 이용해서 예측(predict)을 해봄\n",
    "pred = dtclf.predict(data)"
   ]
  },
  {
   "cell_type": "code",
   "execution_count": 6,
   "id": "6bfdb286-992f-4938-825d-7f9d338c3a91",
   "metadata": {},
   "outputs": [
    {
     "data": {
      "text/plain": [
       "1.0"
      ]
     },
     "execution_count": 6,
     "metadata": {},
     "output_type": "execute_result"
    }
   ],
   "source": [
    "# 예측값과 실제값을 비교해서 정확도를 알아봄\n",
    "accuracy_score(label, pred)"
   ]
  },
  {
   "cell_type": "code",
   "execution_count": 7,
   "id": "c4d474ea-464f-4ce8-9edf-eba8baba392d",
   "metadata": {},
   "outputs": [],
   "source": [
    "# 모델을 학습할때 사용한 데이터를\n",
    "# 모델을 평가할때도 사용함 => 정확도 : 1 => 과적합"
   ]
  },
  {
   "cell_type": "code",
   "execution_count": 8,
   "id": "e385e7b4-6819-4983-80c1-4704b981ce4a",
   "metadata": {},
   "outputs": [],
   "source": [
    "# 데이터를 학습용/평가용 데이터로 분할1\n",
    "# 분할비율 7 : 3\n",
    "# iris 데이터 건수 : 150 => 105 : 45 로 결정\n",
    "train_data = iris.data[:105,]\n",
    "test_data = iris.data[105:,]"
   ]
  },
  {
   "cell_type": "code",
   "execution_count": 9,
   "id": "c6757114-3ca4-4dc3-8f7a-779ec136e3ff",
   "metadata": {},
   "outputs": [],
   "source": [
    "train_target = iris.target[:105,]\n",
    "test_target = iris.target[105:,]"
   ]
  },
  {
   "cell_type": "code",
   "execution_count": 10,
   "id": "4eda6a04-2831-4f32-a743-097798375dfe",
   "metadata": {},
   "outputs": [
    {
     "data": {
      "text/plain": [
       "DecisionTreeClassifier()"
      ]
     },
     "execution_count": 10,
     "metadata": {},
     "output_type": "execute_result"
    }
   ],
   "source": [
    "dtclf = DecisionTreeClassifier()\n",
    "dtclf.fit(train_data, train_target)"
   ]
  },
  {
   "cell_type": "code",
   "execution_count": 11,
   "id": "6ab4371a-e9a0-4a87-b754-4e4fa0e2a3ac",
   "metadata": {},
   "outputs": [
    {
     "data": {
      "text/plain": [
       "0.7333333333333333"
      ]
     },
     "execution_count": 11,
     "metadata": {},
     "output_type": "execute_result"
    }
   ],
   "source": [
    "pred = dtclf.predict(test_data)\n",
    "accuracy_score(test_target, pred)"
   ]
  },
  {
   "cell_type": "code",
   "execution_count": 12,
   "id": "05bdbe19-aa18-4b6c-84ce-c78cd81f84d5",
   "metadata": {},
   "outputs": [
    {
     "data": {
      "text/plain": [
       "0    50\n",
       "1    50\n",
       "2     5\n",
       "dtype: int64"
      ]
     },
     "execution_count": 12,
     "metadata": {},
     "output_type": "execute_result"
    }
   ],
   "source": [
    "# 데이터분할이 잘되었는지 확인\n",
    "pd.Series(train_target).value_counts()"
   ]
  },
  {
   "cell_type": "code",
   "execution_count": 13,
   "id": "57dee038-ec34-457f-b4b6-2073caef1d29",
   "metadata": {},
   "outputs": [
    {
     "data": {
      "text/plain": [
       "2    45\n",
       "dtype: int64"
      ]
     },
     "execution_count": 13,
     "metadata": {},
     "output_type": "execute_result"
    }
   ],
   "source": [
    "# 데이터분할이 잘되었는지 확인 \n",
    "pd.Series(test_target).value_counts()"
   ]
  },
  {
   "cell_type": "code",
   "execution_count": 14,
   "id": "ee1ab877-7bc2-40cf-bbd6-a118d0fd9850",
   "metadata": {},
   "outputs": [],
   "source": [
    "# 데이터를 앞에서 부터 순서대로 나눴기 때문에\n",
    "# 종속변수의 비율이 일정하지 않음\n",
    "# setosa, versicolor, verginica의 비율이 모두 같아야하는데\n",
    "# train에는 setosa, versicolor 위주로\n",
    "# test에는 verginica 위주로 데이터가 분할됨"
   ]
  },
  {
   "cell_type": "markdown",
   "id": "fb7f30c8-89fb-45be-b6ea-d5304eac6499",
   "metadata": {},
   "source": [
    "### 데이터를 학습용/평가용 데이터로 분할2\n",
    "* 독립변수의 속성들의 분포를 고려한 표본추출 필요\n",
    "    + sklearn의 train_test_split 함수 사용\n",
    "* train_test_split(독립변수, 종속변수, 훈련데이터크기, 평가데이터크기, 계층추출여부(분류용), 시드값)"
   ]
  },
  {
   "cell_type": "code",
   "execution_count": 15,
   "id": "09d1e11f-28d5-4186-9b53-27064443f95e",
   "metadata": {},
   "outputs": [],
   "source": [
    "from sklearn.model_selection import train_test_split"
   ]
  },
  {
   "cell_type": "code",
   "execution_count": 16,
   "id": "09c3da30-dbfa-4341-81b3-b6896b2e7d59",
   "metadata": {},
   "outputs": [],
   "source": [
    "Xtrain, Xtest, ytrain, ytest = train_test_split(iris.data, iris.target, train_size=0.7, test_size=0.3, random_state=2111040945)"
   ]
  },
  {
   "cell_type": "code",
   "execution_count": 17,
   "id": "fa81cf03-d3cb-416d-9303-f542b0be09fc",
   "metadata": {},
   "outputs": [
    {
     "data": {
      "text/plain": [
       "0    39\n",
       "1    35\n",
       "2    31\n",
       "dtype: int64"
      ]
     },
     "execution_count": 17,
     "metadata": {},
     "output_type": "execute_result"
    }
   ],
   "source": [
    "pd.Series(ytrain).value_counts()"
   ]
  },
  {
   "cell_type": "code",
   "execution_count": 18,
   "id": "cdeff163-10df-4a87-9e5a-65a178229057",
   "metadata": {},
   "outputs": [
    {
     "data": {
      "text/plain": [
       "2    19\n",
       "1    15\n",
       "0    11\n",
       "dtype: int64"
      ]
     },
     "execution_count": 18,
     "metadata": {},
     "output_type": "execute_result"
    }
   ],
   "source": [
    "pd.Series(ytest).value_counts()"
   ]
  },
  {
   "cell_type": "code",
   "execution_count": 19,
   "id": "82204e3f-4aa0-45a4-9f2d-bad008074ec5",
   "metadata": {},
   "outputs": [],
   "source": [
    "Xtrain, Xtest, ytrain, ytest = train_test_split(iris.data, iris.target, train_size=0.7, test_size=0.3, stratify=iris.target, random_state=2111040945)"
   ]
  },
  {
   "cell_type": "code",
   "execution_count": 20,
   "id": "d757a747-cca3-41e4-b8a4-373cf69254cf",
   "metadata": {},
   "outputs": [
    {
     "data": {
      "text/plain": [
       "2    35\n",
       "1    35\n",
       "0    35\n",
       "dtype: int64"
      ]
     },
     "execution_count": 20,
     "metadata": {},
     "output_type": "execute_result"
    }
   ],
   "source": [
    "pd.Series(ytrain).value_counts()"
   ]
  },
  {
   "cell_type": "code",
   "execution_count": 21,
   "id": "fbaed976-32e1-45b9-b010-00e81734f5fd",
   "metadata": {},
   "outputs": [
    {
     "data": {
      "text/plain": [
       "0    15\n",
       "2    15\n",
       "1    15\n",
       "dtype: int64"
      ]
     },
     "execution_count": 21,
     "metadata": {},
     "output_type": "execute_result"
    }
   ],
   "source": [
    "pd.Series(ytest).value_counts()"
   ]
  },
  {
   "cell_type": "code",
   "execution_count": 25,
   "id": "19145b26-ff48-4d13-95eb-025c1b889586",
   "metadata": {},
   "outputs": [
    {
     "data": {
      "text/plain": [
       "0.9111111111111111"
      ]
     },
     "execution_count": 25,
     "metadata": {},
     "output_type": "execute_result"
    }
   ],
   "source": [
    "dtclf=DecisionTreeClassifier()\n",
    "dtclf.fit(Xtrain , ytrain)\n",
    "pred = dtclf.predict(Xtest)\n",
    "accuracy_score(ytest, pred) # 0.9333"
   ]
  },
  {
   "cell_type": "markdown",
   "id": "d52d6506-9a87-4d0a-aadb-68b8ddbf4270",
   "metadata": {},
   "source": [
    "### 실무에선 프레딕트 수치가 안좋을 경우가 다반사이기 때문에 수치에 너무 구애받지 않는게 좋습니다."
   ]
  },
  {
   "cell_type": "markdown",
   "id": "8514c556-29c4-4988-aa3b-ba53d939297e",
   "metadata": {},
   "source": [
    "## 데이터를 학습용 평가용 데이터로 분할3\n",
    "### 데이터수가 작은 경우 데이터의 일부인  평가데이터도 작음"
   ]
  },
  {
   "cell_type": "code",
   "execution_count": 34,
   "id": "6a242522-1068-49e5-a286-4bb078bc3944",
   "metadata": {},
   "outputs": [
    {
     "data": {
      "text/plain": [
       "0.9533333333333334"
      ]
     },
     "execution_count": 34,
     "metadata": {},
     "output_type": "execute_result"
    }
   ],
   "source": [
    "# ==> K fold 교차검증이라 함\n",
    "\n",
    "from sklearn.model_selection import cross_val_score\n",
    "dtclf = DecisionTreeClassifier()\n",
    "scores = cross_val_score(dtclf, iris.data, iris.target, scoring='accuracy', cv=5)\n",
    "scores\n",
    "np.mean(scores)"
   ]
  },
  {
   "cell_type": "markdown",
   "id": "9eb986c2-3d17-4e65-a3f4-d230f7356f1b",
   "metadata": {},
   "source": [
    "### 교차검증에 따른 정확도 수치가 나올 것."
   ]
  },
  {
   "cell_type": "code",
   "execution_count": null,
   "id": "5d0cf838-5a4c-4cd6-8a4d-b0dae3993000",
   "metadata": {},
   "outputs": [],
   "source": []
  }
 ],
 "metadata": {
  "kernelspec": {
   "display_name": "Python 3 (ipykernel)",
   "language": "python",
   "name": "python3"
  },
  "language_info": {
   "codemirror_mode": {
    "name": "ipython",
    "version": 3
   },
   "file_extension": ".py",
   "mimetype": "text/x-python",
   "name": "python",
   "nbconvert_exporter": "python",
   "pygments_lexer": "ipython3",
   "version": "3.8.11"
  }
 },
 "nbformat": 4,
 "nbformat_minor": 5
}
