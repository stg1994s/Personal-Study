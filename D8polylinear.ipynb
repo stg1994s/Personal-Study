{
 "cells": [
  {
   "cell_type": "markdown",
   "id": "6bd61d5a-79cc-404d-864f-1e68bb488c8b",
   "metadata": {},
   "source": [
    "### 다항Ploynomail 회귀\n",
    "+ 데이터가 단순한 직선의 형태가 아닌 비선형 형태여도 선형모델을 사용해서 비선형 모델을 학습할 수도 있음\n",
    "+ 이대 각 특성을 거듭제곱으로 새로운 특성을 추가하고 확장된 특성을 포함한 데이터셋으로 선형모델을 학습시킴\n",
    "+ 이렇게 학습시키는 방식을 다항회귀라 함"
   ]
  },
  {
   "cell_type": "code",
   "execution_count": 1,
   "id": "23373923-022e-4ff1-98bc-491e3be470fb",
   "metadata": {},
   "outputs": [],
   "source": [
    "import numpy as np\n",
    "import pandas as pd\n",
    "import matplotlib.pyplot as plt\n",
    "from sklearn.metrics import mean_squared_error\n",
    "from sklearn.linear_model import LinearRegression\n",
    "from sklearn.metrics import r2_score\n",
    "from sklearn.model_selection import train_test_split"
   ]
  },
  {
   "cell_type": "markdown",
   "id": "c50e8714-bbd0-426a-aebd-95eb389806ba",
   "metadata": {},
   "source": [
    "+ $ 0.5x^2 + x + 2 \\epsilon $ 함수로 만든 데이터 시각화"
   ]
  },
  {
   "cell_type": "code",
   "execution_count": 2,
   "id": "55dc8774-6970-4c54-9f01-76ddaa656259",
   "metadata": {},
   "outputs": [],
   "source": [
    "np.random.seed(2111081605)\n",
    "m = 100\n",
    "X = 6 * np.random.rand(m) - 3\n",
    "y= 0.5 * (X **2) + X + 2 + np.random.rand(m)"
   ]
  },
  {
   "cell_type": "code",
   "execution_count": 3,
   "id": "dc0afc1e-99e1-4a8c-a7cd-69a5e67e62ca",
   "metadata": {},
   "outputs": [
    {
     "data": {
      "text/plain": [
       "[<matplotlib.lines.Line2D at 0x7f4d97b66f90>]"
      ]
     },
     "execution_count": 3,
     "metadata": {},
     "output_type": "execute_result"
    },
    {
     "data": {
      "image/png": "[encoded data removed]",
      "text/plain": [
       "<Figure size 432x288 with 1 Axes>"
      ]
     },
     "metadata": {
      "needs_background": "light"
     },
     "output_type": "display_data"
    }
   ],
   "source": [
    "plt.plot(X,y,'ro')"
   ]
  },
  {
   "cell_type": "code",
   "execution_count": 4,
   "id": "170ccb37-8ce3-486d-95ce-67cbe1474100",
   "metadata": {},
   "outputs": [
    {
     "name": "stdout",
     "output_type": "stream",
     "text": [
      "[1.04152488] 4.08\n"
     ]
    }
   ],
   "source": [
    "Xtrain, Xtest, ytrain, ytest = train_test_split(X.reshape(-1,1), y, train_size=0.7, random_state=2111081615)\n",
    "lrclf = LinearRegression()\n",
    "lrclf.fit(Xtrain, ytrain)\n",
    "pred = lrclf.predict(Xtest)\n",
    "print(lrclf.coef_, '%.2f' % lrclf.intercept_)"
   ]
  },
  {
   "cell_type": "code",
   "execution_count": 5,
   "id": "c3adb1ec-81e9-495c-b883-69e05d0ce0a1",
   "metadata": {},
   "outputs": [
    {
     "name": "stdout",
     "output_type": "stream",
     "text": [
      "1.33 0.60\n"
     ]
    }
   ],
   "source": [
    "rmse = np.sqrt(mean_squared_error(ytest, pred))\n",
    "r2 = r2_score(ytest, pred)\n",
    "print('%.2f' % rmse, '%.2f' % r2)"
   ]
  },
  {
   "cell_type": "code",
   "execution_count": 6,
   "id": "06226fe3-5abb-4acb-9fe3-1992e271ea6c",
   "metadata": {},
   "outputs": [
    {
     "data": {
      "text/plain": [
       "[<matplotlib.lines.Line2D at 0x7f4d8fa37410>]"
      ]
     },
     "execution_count": 6,
     "metadata": {},
     "output_type": "execute_result"
    },
    {
     "data": {
      "image/png": "[encoded data removed]",
      "text/plain": [
       "<Figure size 432x288 with 1 Axes>"
      ]
     },
     "metadata": {
      "needs_background": "light"
     },
     "output_type": "display_data"
    }
   ],
   "source": [
    "a = lrclf.coef_\n",
    "b = lrclf.intercept_\n",
    "z = [((a*x)+b) for x in X]\n",
    "plt.plot(X,y,'ro')\n",
    "plt.plot(X,z,'b--')"
   ]
  },
  {
   "cell_type": "code",
   "execution_count": 7,
   "id": "16d12fb4-9c32-48e0-a693-5d9c41c010d0",
   "metadata": {},
   "outputs": [
    {
     "name": "stdout",
     "output_type": "stream",
     "text": [
      "[1.01652597 0.50137738] 2.51\n"
     ]
    }
   ],
   "source": [
    "# 비선형 형태의 데이터들을 다항회귀로 풀어봄\n",
    "from sklearn.preprocessing import PolynomialFeatures\n",
    "# PolynomialFeatures(차수,옵션)\n",
    "pf = PolynomialFeatures(degree=2, include_bias=False) # 차수 degree는 2차, include_bias=False 상수 제거\n",
    "\n",
    "X_poly = pf.fit_transform(X.reshape(-1,1))\n",
    "\n",
    "lr = LinearRegression()\n",
    "lr.fit(X_poly, y)\n",
    "\n",
    "print(lr.coef_, '%.2f' % lr.intercept_) \n",
    "# y = 0.5x^2 + 1.02x + 2.51"
   ]
  },
  {
   "cell_type": "code",
   "execution_count": 8,
   "id": "5c4c90e9-6190-4c90-8146-7fa399a94b48",
   "metadata": {},
   "outputs": [
    {
     "data": {
      "text/plain": [
       "array(['x0', 'x0^2'], dtype=object)"
      ]
     },
     "execution_count": 8,
     "metadata": {},
     "output_type": "execute_result"
    }
   ],
   "source": [
    "pf.get_feature_names_out()   # 1 : 상수, x0 : 1차함수, x0^2 : 2차함수"
   ]
  },
  {
   "cell_type": "code",
   "execution_count": 9,
   "id": "ed91fe8c-c9d0-4828-b5ee-035258ddc013",
   "metadata": {},
   "outputs": [
    {
     "data": {
      "text/plain": [
       "[<matplotlib.lines.Line2D at 0x7f4d8d948850>]"
      ]
     },
     "execution_count": 9,
     "metadata": {},
     "output_type": "execute_result"
    },
    {
     "data": {
      "image/png": "[encoded data removed]",
      "text/plain": [
       "<Figure size 432x288 with 1 Axes>"
      ]
     },
     "metadata": {
      "needs_background": "light"
     },
     "output_type": "display_data"
    }
   ],
   "source": [
    "# 새롭게 만들어진 다항식으로 시각화\n",
    "X_new = np.linspace(-3, 3, 100).reshape(-1,1)\n",
    "X_new_poly = pf.transform(X_new)\n",
    "pred = lr.predict(X_new_poly)\n",
    "\n",
    "plt.plot(X, y, 'ro')\n",
    "plt.plot(X_new, pred, 'b--')"
   ]
  },
  {
   "cell_type": "code",
   "execution_count": 10,
   "id": "e6ef4182-701c-4d92-96f0-c5eaa91819ae",
   "metadata": {},
   "outputs": [
    {
     "data": {
      "text/plain": [
       "3.083613944996927"
      ]
     },
     "execution_count": 10,
     "metadata": {},
     "output_type": "execute_result"
    }
   ],
   "source": [
    "np.sqrt(mean_squared_error(y,pred))"
   ]
  },
  {
   "cell_type": "code",
   "execution_count": 11,
   "id": "29311369-0116-4b92-91be-d70c29d21444",
   "metadata": {},
   "outputs": [
    {
     "data": {
      "text/plain": [
       "-0.8623647438266755"
      ]
     },
     "execution_count": 11,
     "metadata": {},
     "output_type": "execute_result"
    }
   ],
   "source": [
    "r2_score(y,pred)"
   ]
  },
  {
   "cell_type": "code",
   "execution_count": 12,
   "id": "86ac3c90-c4e0-4fbf-8ae7-da14b44e7e66",
   "metadata": {},
   "outputs": [
    {
     "data": {
      "text/plain": [
       "[<matplotlib.lines.Line2D at 0x7f4d8d8ca6d0>]"
      ]
     },
     "execution_count": 12,
     "metadata": {},
     "output_type": "execute_result"
    },
    {
     "data": {
      "image/png": "[encoded data removed]",
      "text/plain": [
       "<Figure size 432x288 with 1 Axes>"
      ]
     },
     "metadata": {
      "needs_background": "light"
     },
     "output_type": "display_data"
    }
   ],
   "source": [
    "# 데이터가 다음과 같이 주어졌을때 다항회귀로 모델을 작성하고 다항식을 출력하세요.\n",
    "\n",
    "X = np.array([258.0, 270.0, 294.0, 320.0, 342.0, 368.0, 396.0, 446.0, 480.0, 586.0]).reshape(-1,1)\n",
    "y = np.array([236.4, 234.4, 252.8, 298.6, 314.2, 342.2, 360.8, 368.0, 391.2, 390.8])\n",
    "\n",
    "plt.plot(X,y,'ro')"
   ]
  },
  {
   "cell_type": "code",
   "execution_count": 13,
   "id": "77801c4b-9fb9-447c-8674-033f025cce17",
   "metadata": {},
   "outputs": [
    {
     "data": {
      "text/plain": [
       "(array([0.54030439]), 115.78555030272872)"
      ]
     },
     "execution_count": 13,
     "metadata": {},
     "output_type": "execute_result"
    }
   ],
   "source": [
    "lrclf = LinearRegression()\n",
    "lrclf.fit(X,y)\n",
    "lrclf.coef_, lrclf.intercept_"
   ]
  },
  {
   "cell_type": "code",
   "execution_count": 14,
   "id": "d7d486d8-7928-48d4-829a-025979b05ace",
   "metadata": {},
   "outputs": [],
   "source": [
    "z = lrclf.predict(X)"
   ]
  },
  {
   "cell_type": "code",
   "execution_count": 15,
   "id": "c647b6f8-8079-45d4-b717-6664aa08ec0d",
   "metadata": {},
   "outputs": [
    {
     "data": {
      "text/plain": [
       "[<matplotlib.lines.Line2D at 0x7f4d8d862110>]"
      ]
     },
     "execution_count": 15,
     "metadata": {},
     "output_type": "execute_result"
    },
    {
     "data": {
      "image/png": "[encoded data removed]",
      "text/plain": [
       "<Figure size 432x288 with 1 Axes>"
      ]
     },
     "metadata": {
      "needs_background": "light"
     },
     "output_type": "display_data"
    }
   ],
   "source": [
    "# 선형모델 시각화\n",
    "plt.plot(X, y, 'ro')\n",
    "plt.plot(X, z, 'b--')"
   ]
  },
  {
   "cell_type": "code",
   "execution_count": 16,
   "id": "a53b4d3e-a725-4910-b205-2db802c2d60e",
   "metadata": {},
   "outputs": [
    {
     "name": "stdout",
     "output_type": "stream",
     "text": [
      "23.87 0.83\n"
     ]
    }
   ],
   "source": [
    "rmse = np.sqrt(mean_squared_error(y, z))\n",
    "r2 = r2_score(y, z)\n",
    "print('%.2f' % rmse, '%.2f' % r2)"
   ]
  },
  {
   "cell_type": "code",
   "execution_count": 17,
   "id": "198e6233-a25a-48aa-af87-2409404dd975",
   "metadata": {},
   "outputs": [
    {
     "data": {
      "text/plain": [
       "(array([ 2.399, -0.002]), 2, -243.22877740016133, 2)"
      ]
     },
     "execution_count": 17,
     "metadata": {},
     "output_type": "execute_result"
    }
   ],
   "source": [
    "# 다항회귀모델 생성\n",
    "pf = PolynomialFeatures(degree=2, include_bias=False)\n",
    "X_poly = pf.fit_transform(X)\n",
    "\n",
    "plr = LinearRegression()\n",
    "plr.fit(X_poly, y)\n",
    "\n",
    "np.set_printoptions(precision=3, suppress=True)\n",
    "plr.coef_,2, plr.intercept_,2"
   ]
  },
  {
   "cell_type": "code",
   "execution_count": 18,
   "id": "a1ba353e-1593-4a44-bb2c-04cc7f8d453c",
   "metadata": {},
   "outputs": [],
   "source": [
    "z = plr.predict(X_poly)"
   ]
  },
  {
   "cell_type": "code",
   "execution_count": 19,
   "id": "229f20f5-25ad-41fe-852d-561874aaf8ad",
   "metadata": {},
   "outputs": [
    {
     "data": {
      "text/plain": [
       "[<matplotlib.lines.Line2D at 0x7f4d8d7e9ed0>]"
      ]
     },
     "execution_count": 19,
     "metadata": {},
     "output_type": "execute_result"
    },
    {
     "data": {
      "image/png": "[encoded data removed]",
      "text/plain": [
       "<Figure size 432x288 with 1 Axes>"
      ]
     },
     "metadata": {
      "needs_background": "light"
     },
     "output_type": "display_data"
    }
   ],
   "source": [
    "# 선형모델 시각화\n",
    "plt.plot(X, y, 'ro')\n",
    "plt.plot(X, z, 'b--')"
   ]
  },
  {
   "cell_type": "code",
   "execution_count": 20,
   "id": "2d559bb7-7ff7-4117-a535-9c36aac54ff3",
   "metadata": {},
   "outputs": [
    {
     "name": "stdout",
     "output_type": "stream",
     "text": [
      "7.83 0.98\n"
     ]
    }
   ],
   "source": [
    "rmse = np.sqrt(mean_squared_error(y, z))\n",
    "r2 = r2_score(y, z)\n",
    "print('%.2f' % rmse, '%.2f' % r2)"
   ]
  },
  {
   "cell_type": "code",
   "execution_count": null,
   "id": "234e8961-25ac-41f7-a70a-14e4c2a675d5",
   "metadata": {},
   "outputs": [],
   "source": []
  }
 ],
 "metadata": {
  "kernelspec": {
   "display_name": "Python 3",
   "language": "python",
   "name": "python3"
  },
  "language_info": {
   "codemirror_mode": {
    "name": "ipython",
    "version": 3
   },
   "file_extension": ".py",
   "mimetype": "text/x-python",
   "name": "python",
   "nbconvert_exporter": "python",
   "pygments_lexer": "ipython3",
   "version": "3.8.8"
  }
 },
 "nbformat": 4,
 "nbformat_minor": 5
}
