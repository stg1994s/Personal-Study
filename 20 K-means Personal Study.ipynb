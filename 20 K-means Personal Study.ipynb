{
 "cells": [
  {
   "cell_type": "markdown",
   "id": "543b6aa3",
   "metadata": {},
   "source": [
    "## K-means에 대한 정의. \n",
    "\n",
    "+ 데이터 군집에 사용되는 비지도학습 알고리즘\n",
    "* 일반적인 군집화에서 가장 많이 사용\n",
    "+ 알고리즘이 쉽고 간결\n",
    "+ 반복 수행시 횟수가 많아지면 수행시간이 길어지고 매우 느려진다\n",
    "+ 몇 개의 군집이 좋을 지 가늠하기 어려울 수 있음.\n",
    "+ 서로 유사성은 높은 것기리 관측값을 묶어 다수의 그룹을 만드는 알고리즘\n",
    "+ 즉, 동일 그룹내 구성원끼리는 유사성이 높고 다른 그룹내 구성원과의 유사성은 거의 없다는 의미.\n",
    "+ 군집기반 알고리즘, SSW, SSB."
   ]
  },
  {
   "cell_type": "markdown",
   "id": "a00e4ec1",
   "metadata": {},
   "source": [
    "## 군집의 유형\n",
    "\n",
    "+ 군집화 알고리즘은 Kmeans,DBSCAN, Hierarchical clustering, Spectral Clusering등 여러가지 기법이 있다.\n",
    "+ 알고리즘의 특성에 따라 속도나 성능에 차이가 있기 때문에, 데이터 모양에 따라서 적절한 클러스터링 알고리즘을 찾는게 중요."
   ]
  },
  {
   "cell_type": "markdown",
   "id": "b9c8377a",
   "metadata": {},
   "source": [
    "## 지도학습 vs 비지도학습 \n",
    "* 지도학습 : 데이터와 레이블을 이용해서 규칙/패턴 파악. \n",
    "* 비지도 학습 : 데이터만을 이용해서 유사도에 따른 패턴/규칙 파악. (합친다. 라는 개념으로 파악하면 됨.)"
   ]
  },
  {
   "cell_type": "markdown",
   "id": "898ae029",
   "metadata": {},
   "source": [
    "## 유사도 파악\n",
    "* kmeans에서는 각 점간의 거리가 가까울수록 비슷한 특성을 가진다고 보고 데이터들을 모음(군집함)\n",
    "* 따라서, 유사도 측정을 위해 임의의 기준점을 centoroid를 선정. \n",
    "* centoroid란 기하학에서의 무게중심을 뜻한다. \n",
    "* 기하학에서, 무게 중심은 주어진 도형 속 모든 점의 산술 평균이 되는 점이다. \n",
    "* 이는 도형을 밀도가 균일한 물체로 보았을 때 물리학에서의 무게 중심과 일치한다.\n",
    "* "
   ]
  },
  {
   "cell_type": "code",
   "execution_count": 5,
   "id": "72c0e16b",
   "metadata": {},
   "outputs": [],
   "source": [
    "import math\n",
    "import numpy as np\n",
    "import pandas as pd\n",
    "import matplotlib.pyplot as plt\n",
    "import seaborn as sns"
   ]
  },
  {
   "cell_type": "code",
   "execution_count": 8,
   "id": "6eeed941",
   "metadata": {},
   "outputs": [],
   "source": [
    "# 데이터 정의\n",
    "\n",
    "x = 7,2,6,3,6,5,3,1,5,7,7,2\n",
    "y = 8,4,4,2,5,7,3,4,4,7,6,1\n",
    "\n",
    "# 시각화를 실시한다."
   ]
  },
  {
   "cell_type": "code",
   "execution_count": 16,
   "id": "8c63a97f",
   "metadata": {},
   "outputs": [
    {
     "data": {
      "image/png": "[encoded data removed]",
      "text/plain": [
       "<Figure size 432x288 with 1 Axes>"
      ]
     },
     "metadata": {
      "needs_background": "light"
     },
     "output_type": "display_data"
    }
   ],
   "source": [
    "plt.plot(x,y, 'ro') # 기본적인 시각화 명령어는 plt.plot(, 빨간 점을 활성화할려면 'ro', 그리드 써줄려면 plt.grid() )\n",
    "plt.grid()\n",
    "\n",
    "# 임의의 센터로이드 설정\n",
    "# -> C1(1,4), C2(7,8)"
   ]
  },
  {
   "cell_type": "code",
   "execution_count": 18,
   "id": "39509a7a",
   "metadata": {},
   "outputs": [
    {
     "data": {
      "image/png": "[encoded data removed]",
      "text/plain": [
       "<Figure size 432x288 with 1 Axes>"
      ]
     },
     "metadata": {
      "needs_background": "light"
     },
     "output_type": "display_data"
    }
   ],
   "source": [
    "# 임의의 센터로이드를 추가하니 7,8번 라인, 4,1번 라인에 색깔이 다른 점들이 표시되었다.\n",
    "\n",
    "plt.plot(x,y, 'ro') \n",
    "plt.plot([1,7], [4,8], 'bX')\n",
    "plt.grid()"
   ]
  },
  {
   "cell_type": "markdown",
   "id": "db5d5d04",
   "metadata": {},
   "source": [
    "#### 센터로이드와 각 점들간 거리 계산 : 유클리드 거리 계산. \n",
    "#### 즉, A(X1, Y1)와 B(X2, Y2)간의 거리를 계산할려면 \n",
    "#### sqrt (X2-X1)^2 + (X2-Y1)^2로 함.\n",
    "#### 요거시 유클리드 거리 계산 - sqrt \n",
    "#### https://ko.wikipedia.org/wiki/%EC%A0%9C%EA%B3%B1%EA%B7%BC 여기 참고\n",
    "\n",
    "#### 2,4와 6,4는 어디와 가까운가?"
   ]
  },
  {
   "cell_type": "code",
   "execution_count": 27,
   "id": "7ae3eb9c",
   "metadata": {},
   "outputs": [],
   "source": [
    "### C(2,4)와 D(6,4)는 A,B 중 어디와 가까운가? 이 문제를 풀어보도록 하자.\n",
    "\n",
    "C = np.array((2,4))\n",
    "D = np.array((6,4))\n",
    "\n",
    "## np.array값을 넣어주고, numpy 모듈을 사용하여 수학 공식을 직접 구현할 수도 있다. \n",
    "## 이 메서드의 경우 요소의 합을 반환하는numpy.sum()함수를 사용하고numpy.square()함수는 요소의 제곱을 반환한다.\n",
    "\n",
    "dist = np.sqrt(np.sum(np.square(C-D)))"
   ]
  },
  {
   "cell_type": "markdown",
   "id": "3f1b6550",
   "metadata": {},
   "source": [
    "### np.array값을 넣어주고, numpy 모듈을 사용하여 수학 공식을 직접 구현할 수도 있다. \n",
    "### 이 메서드의 경우 요소의 합을 반환하는\n",
    "### numpy.sum() 함수를 사용하고 numpy.square()함수는 요소의 제곱을 반환한다."
   ]
  },
  {
   "cell_type": "code",
   "execution_count": 28,
   "id": "8904297b",
   "metadata": {},
   "outputs": [
    {
     "name": "stdout",
     "output_type": "stream",
     "text": [
      "4.0\n"
     ]
    }
   ],
   "source": [
    "print(dist)"
   ]
  },
  {
   "cell_type": "code",
   "execution_count": 30,
   "id": "27b58c0e",
   "metadata": {},
   "outputs": [
    {
     "data": {
      "text/plain": [
       "[<matplotlib.lines.Line2D at 0x1bbc0e8ae80>]"
      ]
     },
     "execution_count": 30,
     "metadata": {},
     "output_type": "execute_result"
    },
    {
     "data": {
      "image/png": "[encoded data removed]",
      "text/plain": [
       "<Figure size 432x288 with 1 Axes>"
      ]
     },
     "metadata": {
      "needs_background": "light"
     },
     "output_type": "display_data"
    }
   ],
   "source": [
    "plt.plot(dist,'ro') "
   ]
  },
  {
   "cell_type": "code",
   "execution_count": 33,
   "id": "3801ee6e",
   "metadata": {},
   "outputs": [
    {
     "data": {
      "text/plain": [
       "1.0"
      ]
     },
     "execution_count": 33,
     "metadata": {},
     "output_type": "execute_result"
    }
   ],
   "source": [
    "# 강사님의 풀이 방법.\n",
    "# C(2,4와 D(6,4는 A(1,4), B(7,8) 중 어디와 가장 가까운가?\n",
    "# math.sqrt 함수를 이용한다.\n",
    "\n",
    "math.sqrt((1-2)**2 + (4-4)**2) # A ~ C, = 1"
   ]
  },
  {
   "cell_type": "code",
   "execution_count": 39,
   "id": "90c67578",
   "metadata": {},
   "outputs": [
    {
     "data": {
      "text/plain": [
       "5.0"
      ]
     },
     "execution_count": 39,
     "metadata": {},
     "output_type": "execute_result"
    }
   ],
   "source": [
    "math.sqrt((1-6)**2 + (4-4)**2) # B ~ C, = 5"
   ]
  },
  {
   "cell_type": "code",
   "execution_count": 35,
   "id": "af6a6350",
   "metadata": {},
   "outputs": [
    {
     "data": {
      "text/plain": [
       "6.4031242374328485"
      ]
     },
     "execution_count": 35,
     "metadata": {},
     "output_type": "execute_result"
    }
   ],
   "source": [
    "math.sqrt((7-2)**2 + (8-4)**2) # B ~ C, = 6.4 : 6.4"
   ]
  },
  {
   "cell_type": "code",
   "execution_count": 37,
   "id": "d342ea21",
   "metadata": {},
   "outputs": [
    {
     "data": {
      "text/plain": [
       "4.123105625617661"
      ]
     },
     "execution_count": 37,
     "metadata": {},
     "output_type": "execute_result"
    }
   ],
   "source": [
    "math.sqrt((7-6)**2 + (8-4)**2) # B ~ D, = 4.1"
   ]
  },
  {
   "cell_type": "markdown",
   "id": "b6a518fd",
   "metadata": {},
   "source": [
    "### -> C2로 분류. 다 됬으면 이제 새로운 중심점을 옮겨야겠죠?\n",
    "### 새로운 중심점 설정. (센터로이드)\n",
    "* 모든 데이터에 대한 군집화가 수행된 후 \n",
    "  새로운 중심점을 선정한 후 다시 유사도에 의한 군집 실시.\n",
    "* 새로운 중심점을 선정하는 방버은 각 군집별 평균값을 이용\n",
    "* 즉, 군집 C1, C2의 (C는 센터로이드를 의미) 각  x/y 좌표간 평균계산.)\n",
    " + C1의 새로운 좌표\n",
    "   + x좌표 : 1,2,2,3,3 / 5 로 나누게 되면 = 2.2가 나올 겁니다.\n",
    "   + y좌표 : 1,2,3,4,5 / 5 = 2.8이 될겁니다. 그럼 이 좌표가 새로운 센터로이드를 의미한다는걸  꼭 기억합시다.\n",
    "   + 따라서 좌표는 A(1,4) -> (2.2, 2.8)\n",
    "   + C2의 새로운 좌표\n",
    "     + x좌표 :\n",
    "     - y좌표 :\n",
    "     - (7,8) -> ()"
   ]
  },
  {
   "cell_type": "code",
   "execution_count": 40,
   "id": "f4c01b37",
   "metadata": {},
   "outputs": [
    {
     "name": "stdout",
     "output_type": "stream",
     "text": [
      "10.63014581273465\n"
     ]
    }
   ],
   "source": [
    "C2 = np.array((7,8))\n",
    "\n",
    "distC2 = np.sqrt(np.sum(np.square(C2)))\n",
    "\n",
    "print(distC2)"
   ]
  },
  {
   "cell_type": "markdown",
   "id": "58f3f77c",
   "metadata": {},
   "source": [
    "## 강사님의 풀이 방법.\n",
    " + x좌표 : 5,5,6,6,7,7,7 / 7 = 6.14\n",
    " + y좌표 : 4,4,5,6,7,7,8 / 7 = 5.85\n",
    "    - (7,8) - > (6.14, 5.85)"
   ]
  },
  {
   "cell_type": "code",
   "execution_count": 41,
   "id": "813aeb5e",
   "metadata": {},
   "outputs": [
    {
     "data": {
      "image/png": "[encoded data removed]",
      "text/plain": [
       "<Figure size 432x288 with 1 Axes>"
      ]
     },
     "metadata": {
      "needs_background": "light"
     },
     "output_type": "display_data"
    }
   ],
   "source": [
    "## 새로운 좌표 시각화\n",
    "plt.plot(x,y, 'ro')\n",
    "plt.plot([2.2, 6.14],[2.8, 5.85], 'bX')\n",
    "plt.grid()"
   ]
  },
  {
   "cell_type": "markdown",
   "id": "90c978bb",
   "metadata": {},
   "source": [
    "#### 여기서 시각화한 결과값이 별로 차이가 없으면 중단한다고 보면 된다."
   ]
  },
  {
   "cell_type": "code",
   "execution_count": 58,
   "id": "11710d66",
   "metadata": {},
   "outputs": [],
   "source": [
    "## iris 데이터셋을 Kmeans로 군집화하기\n",
    "\n",
    "from sklearn.datasets import load_iris\n",
    "from sklearn.cluster import KMeans\n",
    "from sklearn.metrics import silhouette_score\n",
    "from sklearn.model_selection import train_test_split\n",
    "from sklearn.metrics import accuracy_score\n",
    "\n",
    "## 해당 3개의 데이터셋 사용."
   ]
  },
  {
   "cell_type": "code",
   "execution_count": 60,
   "id": "49b1b0cb",
   "metadata": {},
   "outputs": [],
   "source": [
    "# 데이터 적재 및 분할\n",
    "iris = load_iris()\n",
    "\n",
    "Xtrain, Xtest, ytrain, ytest = train_test_split(iris.data, iris.target, test_size=0.3, stratify = iris.target, random_state=2111151105)"
   ]
  },
  {
   "cell_type": "code",
   "execution_count": 61,
   "id": "28a62f92",
   "metadata": {},
   "outputs": [
    {
     "data": {
      "text/plain": [
       "KMeans(max_iter=100, n_clusters=3)"
      ]
     },
     "execution_count": 61,
     "metadata": {},
     "output_type": "execute_result"
    }
   ],
   "source": [
    "# 군집분석 실시\n",
    "# n_clusters : 군집수\n",
    "# max_iter : 군집화 시도횟수\n",
    "\n",
    "kms = KMeans(n_clusters=3, max_iter=100) ##  max_iter는 학습의 최대 반복횟수를 의미한다. \n",
    "\n",
    "kms.fit(Xtrain)"
   ]
  },
  {
   "cell_type": "code",
   "execution_count": 62,
   "id": "52129aba",
   "metadata": {},
   "outputs": [
    {
     "data": {
      "text/plain": [
       "array([2, 2, 1, 0, 0, 0, 0, 2, 0, 0, 0, 0, 1, 1, 1, 0, 1, 2, 2, 2, 1, 1,\n",
       "       2, 2, 2, 0, 0, 0, 1, 0, 0, 0, 1, 1, 1, 1, 2, 1, 0, 2, 1, 0, 0, 2,\n",
       "       0, 1, 1, 0, 1, 2, 1, 1, 2, 0, 2, 1, 1, 0, 0, 2, 1, 1, 1, 1, 2, 1,\n",
       "       1, 1, 1, 0, 1, 0, 1, 1, 2, 1, 2, 0, 1, 2, 1, 0, 1, 2, 0, 2, 1, 1,\n",
       "       0, 1, 0, 0, 0, 1, 2, 1, 1, 0, 1, 2, 2, 0, 2, 2, 0])"
      ]
     },
     "execution_count": 62,
     "metadata": {},
     "output_type": "execute_result"
    }
   ],
   "source": [
    "# 군집 결과 평가 : 객체명 : labels_에 저장되어 있음.\n",
    "\n",
    "kms.labels_"
   ]
  },
  {
   "cell_type": "markdown",
   "id": "d23c1728",
   "metadata": {},
   "source": [
    "### 어떤 녀석은 1번, 0번, 2번그룹으로 속해있다는 걸 알게 될 것이다.\n",
    "### 우리가 시험을 하기 위해서 중간에 정답이 있는 데이터를 가져다 본다는 것에 의의를 둬야 한다."
   ]
  },
  {
   "cell_type": "code",
   "execution_count": 64,
   "id": "54305602",
   "metadata": {},
   "outputs": [
    {
     "data": {
      "text/plain": [
       "0.8857142857142857"
      ]
     },
     "execution_count": 64,
     "metadata": {},
     "output_type": "execute_result"
    }
   ],
   "source": [
    "# 정확도 보기\n",
    "\n",
    "accuracy_score(kms.labels_, ytrain) # 0.42도 나오고 0.90도 나오고"
   ]
  },
  {
   "cell_type": "code",
   "execution_count": 68,
   "id": "6eb52e22",
   "metadata": {},
   "outputs": [
    {
     "data": {
      "text/plain": [
       "0.28888888888888886"
      ]
     },
     "execution_count": 68,
     "metadata": {},
     "output_type": "execute_result"
    }
   ],
   "source": [
    "# 군집 분석\n",
    "kms.fit(Xtest)\n",
    "\n",
    "# y테스트값도 보자.\n",
    "accuracy_score(kms.labels_, ytest) \n",
    "\n",
    "#0.44, 0, 033, ..."
   ]
  },
  {
   "cell_type": "code",
   "execution_count": 71,
   "id": "b2c2c88d",
   "metadata": {},
   "outputs": [
    {
     "data": {
      "text/plain": [
       "KMeans(max_iter=100, n_clusters=3)"
      ]
     },
     "execution_count": 71,
     "metadata": {},
     "output_type": "execute_result"
    }
   ],
   "source": [
    "kms.fit(Xtrain)"
   ]
  },
  {
   "cell_type": "code",
   "execution_count": 78,
   "id": "ef7d737a",
   "metadata": {},
   "outputs": [
    {
     "data": {
      "text/plain": [
       "<matplotlib.collections.PathCollection at 0x1bbc1910e20>"
      ]
     },
     "execution_count": 78,
     "metadata": {},
     "output_type": "execute_result"
    },
    {
     "data": {
      "image/png": "[encoded data removed]",
      "text/plain": [
       "<Figure size 432x288 with 1 Axes>"
      ]
     },
     "metadata": {
      "needs_background": "light"
     },
     "output_type": "display_data"
    }
   ],
   "source": [
    "## 군집 시각화1\n",
    "\n",
    "plt.scatter(Xtrain[kms.labels_ == 0,0],\n",
    "           Xtrain[kms.labels_ == 0,1], s=50,\n",
    "           marker = 'o', c ='r', edgecolors='k')\n",
    "\n",
    "## 군집 시각화2\n",
    "\n",
    "plt.scatter(Xtrain[kms.labels_ == 1,0],\n",
    "           Xtrain[kms.labels_ == 1,1], s=50,\n",
    "           marker = 'o', c ='b', edgecolors='k')\n",
    "\n",
    "## 군집 시각화3\n",
    "\n",
    "plt.scatter(Xtrain[kms.labels_ == 2,0],\n",
    "           Xtrain[kms.labels_ == 2,1], s=50,\n",
    "           marker = 'o', c ='g', edgecolors='k')"
   ]
  },
  {
   "cell_type": "markdown",
   "id": "bc8dee66",
   "metadata": {},
   "source": [
    "## 중심점을 찍는다고 했죠? 중심점은 어디 있는지 함 봅시다. "
   ]
  },
  {
   "cell_type": "code",
   "execution_count": 81,
   "id": "d79dce8d",
   "metadata": {},
   "outputs": [
    {
     "data": {
      "text/plain": [
       "<matplotlib.collections.PathCollection at 0x1bbc2a46850>"
      ]
     },
     "execution_count": 81,
     "metadata": {},
     "output_type": "execute_result"
    },
    {
     "data": {
      "image/png": "[encoded data removed]",
      "text/plain": [
       "<Figure size 432x288 with 1 Axes>"
      ]
     },
     "metadata": {
      "needs_background": "light"
     },
     "output_type": "display_data"
    }
   ],
   "source": [
    "## 군집 시각화1\n",
    "\n",
    "plt.scatter(Xtrain[kms.labels_ == 0,0],\n",
    "           Xtrain[kms.labels_ == 0,1], s=50,\n",
    "           marker = 'o', c ='r', edgecolors='k')\n",
    "\n",
    "## 군집 시각화1\n",
    "\n",
    "plt.scatter(Xtrain[kms.labels_ == 1,0],\n",
    "           Xtrain[kms.labels_ == 1,1], s=50,\n",
    "           marker = 'o', c ='b', edgecolors='k')   \n",
    "\n",
    "## 군집 시각화1\n",
    "\n",
    "plt.scatter(kms.cluster_centers_[:,0],\n",
    "           kms.cluster_centers_[:,1], s=200,\n",
    "           marker = 'X', c ='k', edgecolors='r')"
   ]
  },
  {
   "cell_type": "code",
   "execution_count": 111,
   "id": "095f59fc",
   "metadata": {},
   "outputs": [
    {
     "data": {
      "text/plain": [
       "KMeans(max_iter=100, n_clusters=10)"
      ]
     },
     "execution_count": 111,
     "metadata": {},
     "output_type": "execute_result"
    }
   ],
   "source": [
    "kms.fit(Xtrain)"
   ]
  },
  {
   "cell_type": "markdown",
   "id": "20fe207c",
   "metadata": {},
   "source": [
    "### 최종적으로 군집점은 이렇게 되었다는 것입니다. \n",
    "### 요걸 보신다면 plt.scatter 함수를 세번 써서 작성했는데, 반복문으로 줄여서 간단하게 작성할 수도 있을 것이다."
   ]
  },
  {
   "cell_type": "code",
   "execution_count": 112,
   "id": "c37b90c9",
   "metadata": {},
   "outputs": [
    {
     "data": {
      "text/plain": [
       "<matplotlib.collections.PathCollection at 0x1bbc2d08bb0>"
      ]
     },
     "execution_count": 112,
     "metadata": {},
     "output_type": "execute_result"
    },
    {
     "data": {
      "image/png": "[encoded data removed]",
      "text/plain": [
       "<Figure size 432x288 with 1 Axes>"
      ]
     },
     "metadata": {
      "needs_background": "light"
     },
     "output_type": "display_data"
    }
   ],
   "source": [
    "## 군집 시각화2\n",
    "\n",
    "plt.scatter(Xtrain[kms.labels_ == 1,2],\n",
    "           Xtrain[kms.labels_ == 1,3], s=50,\n",
    "           marker = 'o', c ='b', edgecolors='k')\n",
    "\n",
    "## 군집 시각화2\n",
    "\n",
    "plt.scatter(Xtrain[kms.labels_ == 2,2],\n",
    "           Xtrain[kms.labels_ == 2,3], s=50,\n",
    "           marker = 'o', c ='g', edgecolors='k')   \n",
    "\n",
    "## 군집 중심점은 객체명.cluster_centers_에 저장되어 있음.\n",
    "\n",
    "plt.scatter(kms.cluster_centers_[:,2],\n",
    "           kms.cluster_centers_[:,3], s=50,\n",
    "           marker = 'X', c ='k', edgecolors='r')"
   ]
  },
  {
   "cell_type": "code",
   "execution_count": null,
   "id": "965dc5f9",
   "metadata": {},
   "outputs": [],
   "source": [
    "## 서로 다른 군집들끼리는 멀리 떨어져 있는게 좋다. 같은 것들은 군집이 붙어있는 거이 좋다."
   ]
  },
  {
   "cell_type": "code",
   "execution_count": 113,
   "id": "01cfcbe2",
   "metadata": {},
   "outputs": [
    {
     "data": {
      "text/plain": [
       "0.28888888888888886"
      ]
     },
     "execution_count": 113,
     "metadata": {},
     "output_type": "execute_result"
    }
   ],
   "source": [
    "# 군집 분석\n",
    "kms.fit(Xtest)\n",
    "accuracy_score(kms.labels_, ytest)\n",
    "# 0.44, 0, 0.33, ..."
   ]
  },
  {
   "cell_type": "code",
   "execution_count": 114,
   "id": "ff2ee94a",
   "metadata": {},
   "outputs": [
    {
     "data": {
      "text/plain": [
       "KMeans(max_iter=100, n_clusters=10)"
      ]
     },
     "execution_count": 114,
     "metadata": {},
     "output_type": "execute_result"
    }
   ],
   "source": [
    "kms.fit(Xtrain)"
   ]
  },
  {
   "cell_type": "code",
   "execution_count": 115,
   "id": "853b8aa2",
   "metadata": {},
   "outputs": [
    {
     "data": {
      "text/plain": [
       "0.3589892189313403"
      ]
     },
     "execution_count": 115,
     "metadata": {},
     "output_type": "execute_result"
    }
   ],
   "source": [
    "## 군집 분석. 지도학습의 모델평가는 정확도라든지, 정밀도라든지, 군집 비지도학습같은 경우는 고유의 모델과 특성이 있다.\n",
    "## 여기에는 실루엣 계수라는게 있다. 군집 정도가 군집이 잘되었는지 안되었는지, 확인할 수 있다는 것이다.\n",
    "\n",
    "# 군집 성능 평가\n",
    "# 실루엣 계수 : 군집 적합도를 수치로 나타낸 것\n",
    "# 1에 가까울수록 군집이 잘된것으로 파악.\n",
    "\n",
    "silhouette_score(Xtrain, kms.labels_, metric='euclidean')\n",
    "# 0.568"
   ]
  },
  {
   "cell_type": "code",
   "execution_count": 116,
   "id": "c3d1779a",
   "metadata": {},
   "outputs": [
    {
     "data": {
      "text/plain": [
       "[<matplotlib.lines.Line2D at 0x1bbc2dcf4f0>]"
      ]
     },
     "execution_count": 116,
     "metadata": {},
     "output_type": "execute_result"
    },
    {
     "data": {
      "image/png": "[encoded data removed]",
      "text/plain": [
       "<Figure size 432x288 with 1 Axes>"
      ]
     },
     "metadata": {
      "needs_background": "light"
     },
     "output_type": "display_data"
    }
   ],
   "source": [
    "# 반복문을 통해 적절한 군집갯수와 그에 따른 실루엣 계수 확인\n",
    "\n",
    "sss = []\n",
    "\n",
    "for k in range(2,11):\n",
    "    kms = KMeans(n_clusters=k, max_iter=100)\n",
    "    kms.fit(Xtrain)\n",
    "    ss = silhouette_score(Xtrain, kms.labels_,\n",
    "                         metric='euclidean')\n",
    "    sss.append(ss)\n",
    "plt.plot(sss, 'ro-')"
   ]
  },
  {
   "cell_type": "code",
   "execution_count": 117,
   "id": "338a135e",
   "metadata": {},
   "outputs": [
    {
     "data": {
      "text/plain": [
       "KMeans(max_iter=100, n_clusters=10)"
      ]
     },
     "execution_count": 117,
     "metadata": {},
     "output_type": "execute_result"
    }
   ],
   "source": [
    "kms.fit(Xtest) "
   ]
  },
  {
   "cell_type": "markdown",
   "id": "22f3fd0f",
   "metadata": {},
   "source": [
    "## 기억할 것 ! kms.fit 값을 꼭 해당 값으로 입력해주고 시각화를 실행해야 한다. kms.fit(Xtest인지, Xtrain인지)"
   ]
  },
  {
   "cell_type": "markdown",
   "id": "af77bfe4",
   "metadata": {},
   "source": [
    "### 여기서 잠깐!\n",
    "                  + 엘보우 계수 : 군집화가 된 후 각 중싱점에서 군집 데이터간의 거리를 합산한 값 \n",
    "                  + 군집 데이터간의 거리를 합산한 값\n",
    "                  + 군집이 어느정도로 잘되어 있는지를 나타내는 값\n",
    "                     이 값이 작을수록 군집의 응집이 높다는 의미.\n",
    "                  + 객체명.inertia_"
   ]
  },
  {
   "cell_type": "code",
   "execution_count": 118,
   "id": "69a400f3",
   "metadata": {},
   "outputs": [
    {
     "data": {
      "text/plain": [
       "[<matplotlib.lines.Line2D at 0x1bbc2e40040>]"
      ]
     },
     "execution_count": 118,
     "metadata": {},
     "output_type": "execute_result"
    },
    {
     "data": {
      "image/png": "[encoded data removed]",
      "text/plain": [
       "<Figure size 432x288 with 1 Axes>"
      ]
     },
     "metadata": {
      "needs_background": "light"
     },
     "output_type": "display_data"
    }
   ],
   "source": [
    "sss = []\n",
    "\n",
    "for k in range(2,11):\n",
    "    kms = KMeans(n_clusters=k, max_iter=100)\n",
    "    kms.fit(Xtest)\n",
    "    ss = silhouette_score(Xtest, kms.labels_,\n",
    "                         metric='euclidean')\n",
    "    sss.append(ss)\n",
    "plt.plot(sss, 'ro-')"
   ]
  },
  {
   "cell_type": "code",
   "execution_count": 120,
   "id": "1f923f8a",
   "metadata": {},
   "outputs": [
    {
     "data": {
      "text/plain": [
       "[<matplotlib.lines.Line2D at 0x1bbc2f20580>]"
      ]
     },
     "execution_count": 120,
     "metadata": {},
     "output_type": "execute_result"
    },
    {
     "data": {
      "image/png": "[encoded data removed]",
      "text/plain": [
       "<Figure size 432x288 with 1 Axes>"
      ]
     },
     "metadata": {
      "needs_background": "light"
     },
     "output_type": "display_data"
    }
   ],
   "source": [
    "# 반복문을 통해 적절한 군집갯수와 그에 따른 실루엣 계수 확인\n",
    "\n",
    "sss = []\n",
    "els = []\n",
    "\n",
    "for k in range(2,11):\n",
    "    kms = KMeans(n_clusters=k, max_iter=100)\n",
    "    kms.fit(Xtrain)\n",
    "    ss = silhouette_score(Xtrain, kms.labels_,\n",
    "                         metric='euclidean')\n",
    "    sss.append(ss)\n",
    "    els.append(kms.inertia_)\n",
    "plt.plot(sss, 'ro-')\n",
    "\n",
    "# 실루엣 계수(sss)만으로는 적절한 군집의 수를 파악하기 어려움.\n",
    "\n",
    "plt.plot(els, 'ro-')\n",
    "\n",
    "# 엘보우계수(els) 로는 적절한 군집의 수를 파악하기에 다소 쉬운편.\n"
   ]
  },
  {
   "cell_type": "markdown",
   "id": "1b5ecbe3",
   "metadata": {},
   "source": [
    "### 실루엣 계수(sss)만으로는 적절한 군집의 수를 파악하기 어려움.\n",
    "### 엘보우계수(els) 로는 적절한 군집의 수를 파악하기에 다소 쉬운편.\n",
    "### 즉, 엘보우 계수값이 급변하는 구간의 k값이 적절한 군집수로 인식함."
   ]
  },
  {
   "cell_type": "markdown",
   "id": "bcc2f3bd",
   "metadata": {},
   "source": [
    "### 이 표를 보면 2,3,4이 3개의 값이 무난하다고 보면 될 것 같다.\n",
    "### interia (관성)은 방향의 변화를 포함한 운동 상태의 변화에 대한 물리적 물체의 저항이다. \n",
    "    + 운동을 설명하는 것은 고전 물리학의 가장 중요한 원리 중 하나이다."
   ]
  },
  {
   "cell_type": "markdown",
   "id": "8eb631f5",
   "metadata": {},
   "source": [
    "## 강사님이 주신 데이터로 군집을 돌려보자.\n",
    " + 학생성적과 집중도를 기준으로 클래스를 나눌려고 할 때 몇 개의 반으로 나누는 것이 좋을지 알아보세요.\n",
    " + http://naver.me/5NLKt35W"
   ]
  },
  {
   "cell_type": "code",
   "execution_count": 123,
   "id": "69f05f47",
   "metadata": {},
   "outputs": [],
   "source": [
    "academy = pd.read_csv('academy.csv', encoding='cp949') \n",
    "\n",
    "# UTF-8 에러가 날 때는 encoding='cp949' 코드를 집어넣으면 된다. 간단한 해결법, 기억하자."
   ]
  },
  {
   "cell_type": "code",
   "execution_count": 127,
   "id": "40f80d4c",
   "metadata": {},
   "outputs": [
    {
     "data": {
      "text/html": [
       "<div>\n",
       "<style scoped>\n",
       "    .dataframe tbody tr th:only-of-type {\n",
       "        vertical-align: middle;\n",
       "    }\n",
       "\n",
       "    .dataframe tbody tr th {\n",
       "        vertical-align: top;\n",
       "    }\n",
       "\n",
       "    .dataframe thead th {\n",
       "        text-align: right;\n",
       "    }\n",
       "</style>\n",
       "<table border=\"1\" class=\"dataframe\">\n",
       "  <thead>\n",
       "    <tr style=\"text-align: right;\">\n",
       "      <th></th>\n",
       "      <th>학생번호</th>\n",
       "      <th>국어점수평균</th>\n",
       "      <th>수학점수평균</th>\n",
       "      <th>영어점수평균</th>\n",
       "      <th>과학점수평균</th>\n",
       "      <th>학업집중도</th>\n",
       "    </tr>\n",
       "  </thead>\n",
       "  <tbody>\n",
       "    <tr>\n",
       "      <th>0</th>\n",
       "      <td>1</td>\n",
       "      <td>90</td>\n",
       "      <td>75</td>\n",
       "      <td>85</td>\n",
       "      <td>60</td>\n",
       "      <td>70</td>\n",
       "    </tr>\n",
       "    <tr>\n",
       "      <th>1</th>\n",
       "      <td>2</td>\n",
       "      <td>65</td>\n",
       "      <td>90</td>\n",
       "      <td>60</td>\n",
       "      <td>88</td>\n",
       "      <td>80</td>\n",
       "    </tr>\n",
       "    <tr>\n",
       "      <th>2</th>\n",
       "      <td>3</td>\n",
       "      <td>45</td>\n",
       "      <td>53</td>\n",
       "      <td>48</td>\n",
       "      <td>50</td>\n",
       "      <td>60</td>\n",
       "    </tr>\n",
       "    <tr>\n",
       "      <th>3</th>\n",
       "      <td>4</td>\n",
       "      <td>77</td>\n",
       "      <td>96</td>\n",
       "      <td>62</td>\n",
       "      <td>92</td>\n",
       "      <td>70</td>\n",
       "    </tr>\n",
       "    <tr>\n",
       "      <th>4</th>\n",
       "      <td>5</td>\n",
       "      <td>88</td>\n",
       "      <td>89</td>\n",
       "      <td>80</td>\n",
       "      <td>82</td>\n",
       "      <td>90</td>\n",
       "    </tr>\n",
       "    <tr>\n",
       "      <th>5</th>\n",
       "      <td>6</td>\n",
       "      <td>90</td>\n",
       "      <td>92</td>\n",
       "      <td>90</td>\n",
       "      <td>96</td>\n",
       "      <td>100</td>\n",
       "    </tr>\n",
       "    <tr>\n",
       "      <th>6</th>\n",
       "      <td>7</td>\n",
       "      <td>65</td>\n",
       "      <td>70</td>\n",
       "      <td>66</td>\n",
       "      <td>76</td>\n",
       "      <td>70</td>\n",
       "    </tr>\n",
       "    <tr>\n",
       "      <th>7</th>\n",
       "      <td>8</td>\n",
       "      <td>60</td>\n",
       "      <td>90</td>\n",
       "      <td>70</td>\n",
       "      <td>98</td>\n",
       "      <td>80</td>\n",
       "    </tr>\n",
       "    <tr>\n",
       "      <th>8</th>\n",
       "      <td>9</td>\n",
       "      <td>46</td>\n",
       "      <td>56</td>\n",
       "      <td>43</td>\n",
       "      <td>55</td>\n",
       "      <td>60</td>\n",
       "    </tr>\n",
       "    <tr>\n",
       "      <th>9</th>\n",
       "      <td>10</td>\n",
       "      <td>88</td>\n",
       "      <td>67</td>\n",
       "      <td>90</td>\n",
       "      <td>70</td>\n",
       "      <td>70</td>\n",
       "    </tr>\n",
       "    <tr>\n",
       "      <th>10</th>\n",
       "      <td>11</td>\n",
       "      <td>70</td>\n",
       "      <td>93</td>\n",
       "      <td>77</td>\n",
       "      <td>89</td>\n",
       "      <td>60</td>\n",
       "    </tr>\n",
       "    <tr>\n",
       "      <th>11</th>\n",
       "      <td>12</td>\n",
       "      <td>99</td>\n",
       "      <td>80</td>\n",
       "      <td>95</td>\n",
       "      <td>70</td>\n",
       "      <td>80</td>\n",
       "    </tr>\n",
       "    <tr>\n",
       "      <th>12</th>\n",
       "      <td>13</td>\n",
       "      <td>97</td>\n",
       "      <td>67</td>\n",
       "      <td>80</td>\n",
       "      <td>60</td>\n",
       "      <td>80</td>\n",
       "    </tr>\n",
       "    <tr>\n",
       "      <th>13</th>\n",
       "      <td>14</td>\n",
       "      <td>50</td>\n",
       "      <td>40</td>\n",
       "      <td>30</td>\n",
       "      <td>54</td>\n",
       "      <td>50</td>\n",
       "    </tr>\n",
       "    <tr>\n",
       "      <th>14</th>\n",
       "      <td>15</td>\n",
       "      <td>90</td>\n",
       "      <td>77</td>\n",
       "      <td>92</td>\n",
       "      <td>60</td>\n",
       "      <td>70</td>\n",
       "    </tr>\n",
       "    <tr>\n",
       "      <th>15</th>\n",
       "      <td>16</td>\n",
       "      <td>55</td>\n",
       "      <td>88</td>\n",
       "      <td>67</td>\n",
       "      <td>92</td>\n",
       "      <td>60</td>\n",
       "    </tr>\n",
       "    <tr>\n",
       "      <th>16</th>\n",
       "      <td>17</td>\n",
       "      <td>77</td>\n",
       "      <td>90</td>\n",
       "      <td>70</td>\n",
       "      <td>98</td>\n",
       "      <td>70</td>\n",
       "    </tr>\n",
       "    <tr>\n",
       "      <th>17</th>\n",
       "      <td>18</td>\n",
       "      <td>90</td>\n",
       "      <td>89</td>\n",
       "      <td>80</td>\n",
       "      <td>92</td>\n",
       "      <td>90</td>\n",
       "    </tr>\n",
       "    <tr>\n",
       "      <th>18</th>\n",
       "      <td>19</td>\n",
       "      <td>76</td>\n",
       "      <td>90</td>\n",
       "      <td>80</td>\n",
       "      <td>92</td>\n",
       "      <td>70</td>\n",
       "    </tr>\n",
       "    <tr>\n",
       "      <th>19</th>\n",
       "      <td>20</td>\n",
       "      <td>70</td>\n",
       "      <td>92</td>\n",
       "      <td>80</td>\n",
       "      <td>95</td>\n",
       "      <td>70</td>\n",
       "    </tr>\n",
       "    <tr>\n",
       "      <th>20</th>\n",
       "      <td>21</td>\n",
       "      <td>76</td>\n",
       "      <td>75</td>\n",
       "      <td>70</td>\n",
       "      <td>82</td>\n",
       "      <td>80</td>\n",
       "    </tr>\n",
       "    <tr>\n",
       "      <th>21</th>\n",
       "      <td>22</td>\n",
       "      <td>77</td>\n",
       "      <td>92</td>\n",
       "      <td>68</td>\n",
       "      <td>89</td>\n",
       "      <td>80</td>\n",
       "    </tr>\n",
       "    <tr>\n",
       "      <th>22</th>\n",
       "      <td>23</td>\n",
       "      <td>60</td>\n",
       "      <td>50</td>\n",
       "      <td>70</td>\n",
       "      <td>40</td>\n",
       "      <td>60</td>\n",
       "    </tr>\n",
       "    <tr>\n",
       "      <th>23</th>\n",
       "      <td>24</td>\n",
       "      <td>54</td>\n",
       "      <td>70</td>\n",
       "      <td>56</td>\n",
       "      <td>72</td>\n",
       "      <td>60</td>\n",
       "    </tr>\n",
       "    <tr>\n",
       "      <th>24</th>\n",
       "      <td>25</td>\n",
       "      <td>72</td>\n",
       "      <td>88</td>\n",
       "      <td>67</td>\n",
       "      <td>95</td>\n",
       "      <td>80</td>\n",
       "    </tr>\n",
       "    <tr>\n",
       "      <th>25</th>\n",
       "      <td>26</td>\n",
       "      <td>58</td>\n",
       "      <td>76</td>\n",
       "      <td>59</td>\n",
       "      <td>80</td>\n",
       "      <td>70</td>\n",
       "    </tr>\n",
       "    <tr>\n",
       "      <th>26</th>\n",
       "      <td>27</td>\n",
       "      <td>88</td>\n",
       "      <td>60</td>\n",
       "      <td>76</td>\n",
       "      <td>58</td>\n",
       "      <td>60</td>\n",
       "    </tr>\n",
       "    <tr>\n",
       "      <th>27</th>\n",
       "      <td>28</td>\n",
       "      <td>84</td>\n",
       "      <td>88</td>\n",
       "      <td>90</td>\n",
       "      <td>92</td>\n",
       "      <td>90</td>\n",
       "    </tr>\n",
       "    <tr>\n",
       "      <th>28</th>\n",
       "      <td>29</td>\n",
       "      <td>45</td>\n",
       "      <td>76</td>\n",
       "      <td>56</td>\n",
       "      <td>78</td>\n",
       "      <td>70</td>\n",
       "    </tr>\n",
       "    <tr>\n",
       "      <th>29</th>\n",
       "      <td>30</td>\n",
       "      <td>76</td>\n",
       "      <td>54</td>\n",
       "      <td>70</td>\n",
       "      <td>58</td>\n",
       "      <td>70</td>\n",
       "    </tr>\n",
       "    <tr>\n",
       "      <th>30</th>\n",
       "      <td>31</td>\n",
       "      <td>66</td>\n",
       "      <td>90</td>\n",
       "      <td>70</td>\n",
       "      <td>88</td>\n",
       "      <td>70</td>\n",
       "    </tr>\n",
       "    <tr>\n",
       "      <th>31</th>\n",
       "      <td>32</td>\n",
       "      <td>88</td>\n",
       "      <td>80</td>\n",
       "      <td>85</td>\n",
       "      <td>88</td>\n",
       "      <td>90</td>\n",
       "    </tr>\n",
       "    <tr>\n",
       "      <th>32</th>\n",
       "      <td>33</td>\n",
       "      <td>71</td>\n",
       "      <td>48</td>\n",
       "      <td>69</td>\n",
       "      <td>50</td>\n",
       "      <td>80</td>\n",
       "    </tr>\n",
       "    <tr>\n",
       "      <th>33</th>\n",
       "      <td>34</td>\n",
       "      <td>90</td>\n",
       "      <td>77</td>\n",
       "      <td>82</td>\n",
       "      <td>65</td>\n",
       "      <td>80</td>\n",
       "    </tr>\n",
       "    <tr>\n",
       "      <th>34</th>\n",
       "      <td>35</td>\n",
       "      <td>34</td>\n",
       "      <td>32</td>\n",
       "      <td>45</td>\n",
       "      <td>50</td>\n",
       "      <td>50</td>\n",
       "    </tr>\n",
       "    <tr>\n",
       "      <th>35</th>\n",
       "      <td>36</td>\n",
       "      <td>56</td>\n",
       "      <td>78</td>\n",
       "      <td>67</td>\n",
       "      <td>89</td>\n",
       "      <td>60</td>\n",
       "    </tr>\n",
       "    <tr>\n",
       "      <th>36</th>\n",
       "      <td>37</td>\n",
       "      <td>70</td>\n",
       "      <td>95</td>\n",
       "      <td>72</td>\n",
       "      <td>80</td>\n",
       "      <td>70</td>\n",
       "    </tr>\n",
       "    <tr>\n",
       "      <th>37</th>\n",
       "      <td>38</td>\n",
       "      <td>93</td>\n",
       "      <td>90</td>\n",
       "      <td>89</td>\n",
       "      <td>91</td>\n",
       "      <td>90</td>\n",
       "    </tr>\n",
       "    <tr>\n",
       "      <th>38</th>\n",
       "      <td>39</td>\n",
       "      <td>92</td>\n",
       "      <td>97</td>\n",
       "      <td>90</td>\n",
       "      <td>89</td>\n",
       "      <td>80</td>\n",
       "    </tr>\n",
       "    <tr>\n",
       "      <th>39</th>\n",
       "      <td>40</td>\n",
       "      <td>56</td>\n",
       "      <td>63</td>\n",
       "      <td>70</td>\n",
       "      <td>71</td>\n",
       "      <td>70</td>\n",
       "    </tr>\n",
       "    <tr>\n",
       "      <th>40</th>\n",
       "      <td>41</td>\n",
       "      <td>88</td>\n",
       "      <td>57</td>\n",
       "      <td>78</td>\n",
       "      <td>60</td>\n",
       "      <td>80</td>\n",
       "    </tr>\n",
       "    <tr>\n",
       "      <th>41</th>\n",
       "      <td>42</td>\n",
       "      <td>90</td>\n",
       "      <td>92</td>\n",
       "      <td>88</td>\n",
       "      <td>94</td>\n",
       "      <td>90</td>\n",
       "    </tr>\n",
       "    <tr>\n",
       "      <th>42</th>\n",
       "      <td>43</td>\n",
       "      <td>91</td>\n",
       "      <td>67</td>\n",
       "      <td>89</td>\n",
       "      <td>70</td>\n",
       "      <td>60</td>\n",
       "    </tr>\n",
       "    <tr>\n",
       "      <th>43</th>\n",
       "      <td>44</td>\n",
       "      <td>58</td>\n",
       "      <td>77</td>\n",
       "      <td>62</td>\n",
       "      <td>88</td>\n",
       "      <td>70</td>\n",
       "    </tr>\n",
       "    <tr>\n",
       "      <th>44</th>\n",
       "      <td>45</td>\n",
       "      <td>54</td>\n",
       "      <td>50</td>\n",
       "      <td>45</td>\n",
       "      <td>33</td>\n",
       "      <td>60</td>\n",
       "    </tr>\n",
       "    <tr>\n",
       "      <th>45</th>\n",
       "      <td>46</td>\n",
       "      <td>78</td>\n",
       "      <td>91</td>\n",
       "      <td>77</td>\n",
       "      <td>90</td>\n",
       "      <td>80</td>\n",
       "    </tr>\n",
       "    <tr>\n",
       "      <th>46</th>\n",
       "      <td>47</td>\n",
       "      <td>92</td>\n",
       "      <td>70</td>\n",
       "      <td>88</td>\n",
       "      <td>60</td>\n",
       "      <td>80</td>\n",
       "    </tr>\n",
       "    <tr>\n",
       "      <th>47</th>\n",
       "      <td>48</td>\n",
       "      <td>57</td>\n",
       "      <td>76</td>\n",
       "      <td>58</td>\n",
       "      <td>71</td>\n",
       "      <td>60</td>\n",
       "    </tr>\n",
       "    <tr>\n",
       "      <th>48</th>\n",
       "      <td>49</td>\n",
       "      <td>97</td>\n",
       "      <td>90</td>\n",
       "      <td>96</td>\n",
       "      <td>90</td>\n",
       "      <td>90</td>\n",
       "    </tr>\n",
       "    <tr>\n",
       "      <th>49</th>\n",
       "      <td>50</td>\n",
       "      <td>69</td>\n",
       "      <td>55</td>\n",
       "      <td>70</td>\n",
       "      <td>54</td>\n",
       "      <td>60</td>\n",
       "    </tr>\n",
       "    <tr>\n",
       "      <th>50</th>\n",
       "      <td>51</td>\n",
       "      <td>45</td>\n",
       "      <td>56</td>\n",
       "      <td>54</td>\n",
       "      <td>58</td>\n",
       "      <td>80</td>\n",
       "    </tr>\n",
       "  </tbody>\n",
       "</table>\n",
       "</div>"
      ],
      "text/plain": [
       "    학생번호  국어점수평균  수학점수평균  영어점수평균  과학점수평균  학업집중도\n",
       "0      1      90      75      85      60     70\n",
       "1      2      65      90      60      88     80\n",
       "2      3      45      53      48      50     60\n",
       "3      4      77      96      62      92     70\n",
       "4      5      88      89      80      82     90\n",
       "5      6      90      92      90      96    100\n",
       "6      7      65      70      66      76     70\n",
       "7      8      60      90      70      98     80\n",
       "8      9      46      56      43      55     60\n",
       "9     10      88      67      90      70     70\n",
       "10    11      70      93      77      89     60\n",
       "11    12      99      80      95      70     80\n",
       "12    13      97      67      80      60     80\n",
       "13    14      50      40      30      54     50\n",
       "14    15      90      77      92      60     70\n",
       "15    16      55      88      67      92     60\n",
       "16    17      77      90      70      98     70\n",
       "17    18      90      89      80      92     90\n",
       "18    19      76      90      80      92     70\n",
       "19    20      70      92      80      95     70\n",
       "20    21      76      75      70      82     80\n",
       "21    22      77      92      68      89     80\n",
       "22    23      60      50      70      40     60\n",
       "23    24      54      70      56      72     60\n",
       "24    25      72      88      67      95     80\n",
       "25    26      58      76      59      80     70\n",
       "26    27      88      60      76      58     60\n",
       "27    28      84      88      90      92     90\n",
       "28    29      45      76      56      78     70\n",
       "29    30      76      54      70      58     70\n",
       "30    31      66      90      70      88     70\n",
       "31    32      88      80      85      88     90\n",
       "32    33      71      48      69      50     80\n",
       "33    34      90      77      82      65     80\n",
       "34    35      34      32      45      50     50\n",
       "35    36      56      78      67      89     60\n",
       "36    37      70      95      72      80     70\n",
       "37    38      93      90      89      91     90\n",
       "38    39      92      97      90      89     80\n",
       "39    40      56      63      70      71     70\n",
       "40    41      88      57      78      60     80\n",
       "41    42      90      92      88      94     90\n",
       "42    43      91      67      89      70     60\n",
       "43    44      58      77      62      88     70\n",
       "44    45      54      50      45      33     60\n",
       "45    46      78      91      77      90     80\n",
       "46    47      92      70      88      60     80\n",
       "47    48      57      76      58      71     60\n",
       "48    49      97      90      96      90     90\n",
       "49    50      69      55      70      54     60\n",
       "50    51      45      56      54      58     80"
      ]
     },
     "execution_count": 127,
     "metadata": {},
     "output_type": "execute_result"
    }
   ],
   "source": [
    "# 데이터 읽어들이기.\n",
    "\n",
    "academy.head(51) # 총 헤드 값."
   ]
  },
  {
   "cell_type": "code",
   "execution_count": null,
   "id": "0cf91fd5",
   "metadata": {},
   "outputs": [],
   "source": []
  }
 ],
 "metadata": {
  "kernelspec": {
   "display_name": "Python 3 (ipykernel)",
   "language": "python",
   "name": "python3"
  },
  "language_info": {
   "codemirror_mode": {
    "name": "ipython",
    "version": 3
   },
   "file_extension": ".py",
   "mimetype": "text/x-python",
   "name": "python",
   "nbconvert_exporter": "python",
   "pygments_lexer": "ipython3",
   "version": "3.8.11"
  }
 },
 "nbformat": 4,
 "nbformat_minor": 5
}
