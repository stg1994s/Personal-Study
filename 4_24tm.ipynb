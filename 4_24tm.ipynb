{
 "cells": [
  {
   "cell_type": "markdown",
   "id": "a83e1386-f71c-41fa-9554-2c029c4f541a",
   "metadata": {},
   "source": [
    "# 24 tm"
   ]
  },
  {
   "cell_type": "markdown",
   "id": "22b70709-3a0f-434f-b968-8819352d29a2",
   "metadata": {},
   "source": [
    "## 텍스트 마이닝\n",
    "* 자연어로 구성된 '비정형 데이터'에서 패턴 또는 관계를 추출하여 \n",
    "  의미 있는 정보를 찾아내는 기법들을 의미\n",
    "* 활용분야\n",
    "    + 유사 단어들(또는 문서들)간의 군집 분석\n",
    "    + 연관 단어의 추출 또는 단어 네트워크 분석\n",
    "    + 감성 분석\n",
    "    + 주요 키워드별 빈도에 따른 시각화"
   ]
  },
  {
   "cell_type": "markdown",
   "id": "d7ba441b-8725-450b-b8b5-04428e73a2c3",
   "metadata": {},
   "source": [
    "## 파이썬 기반 텍스트 분석 패키지\n",
    "* NLTK, KoNLPy : 영어권/한국어 형태소 분석기\n",
    "* Gensim : 텍스트요약에 두각을 나타냄  \n",
    "  word2vec 기능도 구현되어 있음\n",
    "* SpaCy : 최근에 주목받는 NLP 패키지"
   ]
  },
  {
   "cell_type": "markdown",
   "id": "c2037cad-6477-4dd2-98a2-81179db1d667",
   "metadata": {},
   "source": [
    "## NLTK\n",
    "* 교육용으로 개발된 자연어 처리 및 분석 패키지\n",
    "* www.nltk.org\n",
    "* pip install nltk"
   ]
  },
  {
   "cell_type": "code",
   "execution_count": 43,
   "id": "28ee61d9-2f53-436b-a09d-8556e8c33553",
   "metadata": {},
   "outputs": [],
   "source": [
    "# pip --trusted-host pypi.org --trusted-host files.pythonhosted.org install nltk"
   ]
  },
  {
   "cell_type": "markdown",
   "id": "5f18de3e-9322-493d-9fb3-d06c43c74cc0",
   "metadata": {},
   "source": [
    "## English NLP"
   ]
  },
  {
   "cell_type": "code",
   "execution_count": 44,
   "id": "0560b2ac-acc2-4920-afc9-30f656370d14",
   "metadata": {},
   "outputs": [],
   "source": [
    "import nltk"
   ]
  },
  {
   "cell_type": "code",
   "execution_count": 45,
   "id": "4f6e3f14-be3f-40b4-9d08-560f4dc6ddb6",
   "metadata": {},
   "outputs": [
    {
     "data": {
      "text/plain": [
       "True"
      ]
     },
     "execution_count": 45,
     "metadata": {},
     "output_type": "execute_result"
    }
   ],
   "source": [
    "# nltk 내장 영어 말뭉치corpus\n",
    "# corpus : 분석을 위해 추출된 텍스트\n",
    "nltk.download('book', quiet=True)"
   ]
  },
  {
   "cell_type": "code",
   "execution_count": 46,
   "id": "a12852d4-f58d-4b16-8b8d-b7b6e33a1c43",
   "metadata": {},
   "outputs": [],
   "source": [
    "# 말뭉치 확인\n",
    "from nltk.book import *"
   ]
  },
  {
   "cell_type": "code",
   "execution_count": 47,
   "id": "fd49cfec-bf7b-4095-b9c6-3a17cefec878",
   "metadata": {},
   "outputs": [
    {
     "name": "stdout",
     "output_type": "stream",
     "text": [
      "text1: Moby Dick by Herman Melville 1851\n",
      "text2: Sense and Sensibility by Jane Austen 1811\n",
      "text3: The Book of Genesis\n",
      "text4: Inaugural Address Corpus\n",
      "text5: Chat Corpus\n",
      "text6: Monty Python and the Holy Grail\n",
      "text7: Wall Street Journal\n",
      "text8: Personals Corpus\n",
      "text9: The Man Who Was Thursday by G . K . Chesterton 1908\n"
     ]
    }
   ],
   "source": [
    "texts()"
   ]
  },
  {
   "cell_type": "code",
   "execution_count": 48,
   "id": "d8e2074f-b48d-4fc7-a6b3-b7850d76a63c",
   "metadata": {},
   "outputs": [
    {
     "name": "stdout",
     "output_type": "stream",
     "text": [
      "sent1: Call me Ishmael .\n",
      "sent2: The family of Dashwood had long been settled in Sussex .\n",
      "sent3: In the beginning God created the heaven and the earth .\n",
      "sent4: Fellow - Citizens of the Senate and of the House of Representatives :\n",
      "sent5: I have a problem with people PMing me to lol JOIN\n",
      "sent6: SCENE 1 : [ wind ] [ clop clop clop ] KING ARTHUR : Whoa there !\n",
      "sent7: Pierre Vinken , 61 years old , will join the board as a nonexecutive director Nov. 29 .\n",
      "sent8: 25 SEXY MALE , seeks attrac older single lady , for discreet encounters .\n",
      "sent9: THE suburb of Saffron Park lay on the sunset side of London , as red and ragged as a cloud of sunset .\n"
     ]
    }
   ],
   "source": [
    "sents()"
   ]
  },
  {
   "cell_type": "code",
   "execution_count": 49,
   "id": "797b0ab7-d253-4b56-95d8-ff63f3666b8a",
   "metadata": {},
   "outputs": [
    {
     "data": {
      "text/plain": [
       "260819"
      ]
     },
     "execution_count": 49,
     "metadata": {},
     "output_type": "execute_result"
    }
   ],
   "source": [
    "len(text1)"
   ]
  },
  {
   "cell_type": "code",
   "execution_count": 50,
   "id": "4af7cb2c-3624-40bf-ac36-6249b4a77ca8",
   "metadata": {},
   "outputs": [
    {
     "data": {
      "text/plain": [
       "['[',\n",
       " 'Moby',\n",
       " 'Dick',\n",
       " 'by',\n",
       " 'Herman',\n",
       " 'Melville',\n",
       " '1851',\n",
       " ']',\n",
       " 'ETYMOLOGY',\n",
       " '.']"
      ]
     },
     "execution_count": 50,
     "metadata": {},
     "output_type": "execute_result"
    }
   ],
   "source": [
    "text1[:10]"
   ]
  },
  {
   "cell_type": "code",
   "execution_count": 51,
   "id": "11dd25dc-bde2-479c-aafa-1c507443cb9b",
   "metadata": {},
   "outputs": [
    {
     "data": {
      "text/plain": [
       "['Call', 'me', 'Ishmael', '.']"
      ]
     },
     "execution_count": 51,
     "metadata": {},
     "output_type": "execute_result"
    }
   ],
   "source": [
    "sent1"
   ]
  },
  {
   "cell_type": "code",
   "execution_count": 52,
   "id": "78d8eaa1-c0c9-4920-95ed-4cfa1d31602a",
   "metadata": {},
   "outputs": [
    {
     "data": {
      "text/plain": [
       "['austen-emma.txt',\n",
       " 'austen-persuasion.txt',\n",
       " 'austen-sense.txt',\n",
       " 'bible-kjv.txt',\n",
       " 'blake-poems.txt',\n",
       " 'bryant-stories.txt',\n",
       " 'burgess-busterbrown.txt',\n",
       " 'carroll-alice.txt',\n",
       " 'chesterton-ball.txt',\n",
       " 'chesterton-brown.txt',\n",
       " 'chesterton-thursday.txt',\n",
       " 'edgeworth-parents.txt',\n",
       " 'melville-moby_dick.txt',\n",
       " 'milton-paradise.txt',\n",
       " 'shakespeare-caesar.txt',\n",
       " 'shakespeare-hamlet.txt',\n",
       " 'shakespeare-macbeth.txt',\n",
       " 'whitman-leaves.txt']"
      ]
     },
     "execution_count": 52,
     "metadata": {},
     "output_type": "execute_result"
    }
   ],
   "source": [
    "# 저작권이 말소된 문학작품\n",
    "# 일명, 구텐베르그 말뭉치 확인\n",
    "nltk.corpus.gutenberg.fileids()"
   ]
  },
  {
   "cell_type": "code",
   "execution_count": 53,
   "id": "fdbbb918-4adf-4503-a12f-221be659531f",
   "metadata": {},
   "outputs": [
    {
     "data": {
      "text/plain": [
       "\"[The Tragedie of Hamlet by William Shakespeare 1599]\\n\\n\\nActus Primus. Scoena Prima.\\n\\nEnter Barnardo and Francisco two Centinels.\\n\\n  Barnardo. Who's there?\\n  Fran. Nay answer me: Stand & vnfold\\nyour selfe\\n\\n   Bar. Long liue the King\\n\\n   Fran. Barnardo?\\n  Bar. He\\n\\n   Fran. You come most carefully vpon \""
      ]
     },
     "execution_count": 53,
     "metadata": {},
     "output_type": "execute_result"
    }
   ],
   "source": [
    "# 햄릿을 불러서 출력\n",
    "doc = nltk.corpus.gutenberg.raw('shakespeare-hamlet.txt')\n",
    "doc[:300]"
   ]
  },
  {
   "cell_type": "markdown",
   "id": "2f040dff-513c-4200-a873-dd92d4a5eaea",
   "metadata": {},
   "source": [
    "## 텍스트 토큰화\n",
    "* 문장 토큰화 : 문서에서 문장을 분리\n",
    "* 단어 토큰화 : 문장에서 단어를 분리"
   ]
  },
  {
   "cell_type": "code",
   "execution_count": 54,
   "id": "6c7c00ab-b8c0-4d49-a881-812be708f03d",
   "metadata": {},
   "outputs": [],
   "source": [
    "# 토큰화를 위한 패키지 설치\n",
    "from nltk import sent_tokenize\n",
    "from nltk import word_tokenize"
   ]
  },
  {
   "cell_type": "code",
   "execution_count": 55,
   "id": "8a6b8e9c-c584-41fc-b639-96aac6c391ed",
   "metadata": {},
   "outputs": [
    {
     "name": "stderr",
     "output_type": "stream",
     "text": [
      "[nltk_data] Downloading package punkt to\n",
      "[nltk_data]     C:\\Users\\TJ\\AppData\\Roaming\\nltk_data...\n",
      "[nltk_data]   Package punkt is already up-to-date!\n"
     ]
    },
    {
     "data": {
      "text/plain": [
       "True"
      ]
     },
     "execution_count": 55,
     "metadata": {},
     "output_type": "execute_result"
    }
   ],
   "source": [
    "# 토큰화에 필요한 데이터 다운로드\n",
    "nltk.download('punkt')"
   ]
  },
  {
   "cell_type": "code",
   "execution_count": 56,
   "id": "617bba9e-a2cb-4d5f-bf37-add13af96264",
   "metadata": {},
   "outputs": [],
   "source": [
    "text_sample = 'The Matrix is everywhere its all around us, here even in this room. \\\n",
    "               You can see it out your window or on your television. \\\n",
    "               You feel it when you go to work, or go to church or pay your taxes.'"
   ]
  },
  {
   "cell_type": "code",
   "execution_count": 57,
   "id": "0d192e1e-22f3-4347-b66b-a01e887eb0f5",
   "metadata": {},
   "outputs": [
    {
     "data": {
      "text/plain": [
       "['The Matrix is everywhere its all around us, here even in this room.',\n",
       " 'You can see it out your window or on your television.',\n",
       " 'You feel it when you go to work, or go to church or pay your taxes.']"
      ]
     },
     "execution_count": 57,
     "metadata": {},
     "output_type": "execute_result"
    }
   ],
   "source": [
    "# 문장 토큰화 : sent_tokenize(문서)\n",
    "sents = sent_tokenize(text_sample)\n",
    "sents   # 결과는 리스트로 저장"
   ]
  },
  {
   "cell_type": "code",
   "execution_count": 58,
   "id": "0f004268-ad6d-4b82-b32d-66f68a26ae4d",
   "metadata": {},
   "outputs": [
    {
     "data": {
      "text/plain": [
       "['The',\n",
       " 'Matrix',\n",
       " 'is',\n",
       " 'everywhere',\n",
       " 'its',\n",
       " 'all',\n",
       " 'around',\n",
       " 'us',\n",
       " ',',\n",
       " 'here',\n",
       " 'even',\n",
       " 'in',\n",
       " 'this',\n",
       " 'room',\n",
       " '.']"
      ]
     },
     "execution_count": 58,
     "metadata": {},
     "output_type": "execute_result"
    }
   ],
   "source": [
    "# 문장 토큰화 : word_tokenize(문장)\n",
    "words = word_tokenize(sents[0])\n",
    "words"
   ]
  },
  {
   "cell_type": "code",
   "execution_count": 59,
   "id": "79edef13-5884-4a85-8832-ea4206fafa6f",
   "metadata": {},
   "outputs": [],
   "source": [
    "# 문장토큰화한 후 단어토큰화 실시\n",
    "words = []\n",
    "sents = sent_tokenize(text_sample)\n",
    "for sent in sents:\n",
    "    words.append(word_tokenize(sent))"
   ]
  },
  {
   "cell_type": "code",
   "execution_count": 60,
   "id": "387ae017-5ecd-4a74-ae5a-580eab56f2ab",
   "metadata": {},
   "outputs": [
    {
     "data": {
      "text/plain": [
       "[['The',\n",
       "  'Matrix',\n",
       "  'is',\n",
       "  'everywhere',\n",
       "  'its',\n",
       "  'all',\n",
       "  'around',\n",
       "  'us',\n",
       "  ',',\n",
       "  'here',\n",
       "  'even',\n",
       "  'in',\n",
       "  'this',\n",
       "  'room',\n",
       "  '.']]"
      ]
     },
     "execution_count": 60,
     "metadata": {},
     "output_type": "execute_result"
    }
   ],
   "source": [
    "words[:1]"
   ]
  },
  {
   "cell_type": "code",
   "execution_count": 61,
   "id": "1a3e6b6c-a4e4-478c-8d42-dbb7e61a4417",
   "metadata": {},
   "outputs": [
    {
     "data": {
      "text/plain": [
       "3"
      ]
     },
     "execution_count": 61,
     "metadata": {},
     "output_type": "execute_result"
    }
   ],
   "source": [
    "len(words)   # 3"
   ]
  },
  {
   "cell_type": "markdown",
   "id": "84095857-7509-4915-aade-4ffeb5c2e0e9",
   "metadata": {},
   "source": [
    "## 불용어stopword 제거\n",
    "* 분석에 큰 의미가 없는 단어를 지칭\n",
    "* NLTK상에서는 stopwords 형태로 제공됨\n",
    "* 하지만, 제공되는 단어수는 적음"
   ]
  },
  {
   "cell_type": "code",
   "execution_count": 62,
   "id": "8db015f2-e08f-46ba-8d3b-00ec7d9ccbad",
   "metadata": {},
   "outputs": [
    {
     "name": "stderr",
     "output_type": "stream",
     "text": [
      "[nltk_data] Downloading package stopwords to\n",
      "[nltk_data]     C:\\Users\\TJ\\AppData\\Roaming\\nltk_data...\n",
      "[nltk_data]   Package stopwords is already up-to-date!\n"
     ]
    },
    {
     "data": {
      "text/plain": [
       "True"
      ]
     },
     "execution_count": 62,
     "metadata": {},
     "output_type": "execute_result"
    }
   ],
   "source": [
    "nltk.download('stopwords')"
   ]
  },
  {
   "cell_type": "code",
   "execution_count": 63,
   "id": "64e8b867-edf7-4127-80b9-270ae46c7181",
   "metadata": {},
   "outputs": [
    {
     "data": {
      "text/plain": [
       "['i', 'me', 'my', 'myself', 'we', 'our', 'ours', 'ourselves', 'you', \"you're\"]"
      ]
     },
     "execution_count": 63,
     "metadata": {},
     "output_type": "execute_result"
    }
   ],
   "source": [
    "nltk.corpus.stopwords.words('english')[:10]"
   ]
  },
  {
   "cell_type": "code",
   "execution_count": 64,
   "id": "5f4a23c2-2ceb-4bab-bec2-9cca3864652f",
   "metadata": {},
   "outputs": [
    {
     "data": {
      "text/plain": [
       "[['matrix', 'everywhere', 'around', 'us', ',', 'even', 'room', '.'],\n",
       " ['see', 'window', 'television', '.'],\n",
       " ['feel', 'go', 'work', ',', 'go', 'church', 'pay', 'taxes', '.']]"
      ]
     },
     "execution_count": 64,
     "metadata": {},
     "output_type": "execute_result"
    }
   ],
   "source": [
    "# 텍스트 전처리 후 단어 토큰화 실시\n",
    "stopwords = nltk.corpus.stopwords.words('english')\n",
    "tokens = []\n",
    "\n",
    "for wds in words:\n",
    "    filter_words = []\n",
    "    for w in wds:\n",
    "        w = w.lower()   # 단어를 소문자로 변환\n",
    "        if w not in stopwords:\n",
    "            filter_words.append(w)\n",
    "    tokens.append(filter_words)\n",
    "    \n",
    "tokens"
   ]
  },
  {
   "cell_type": "markdown",
   "id": "ee637e42-39b7-406f-a1be-064244e09a5d",
   "metadata": {},
   "source": [
    "## 트럼프 연설문을 이용한 단어 토큰화"
   ]
  },
  {
   "cell_type": "code",
   "execution_count": 65,
   "id": "85e13e29-02dc-4e55-8d02-54653974585d",
   "metadata": {},
   "outputs": [
    {
     "data": {
      "text/plain": [
       "'Assembly Speaker Chung, distinguished members of this Assembly, ladies and gentlemen: Thank you for '"
      ]
     },
     "execution_count": 65,
     "metadata": {},
     "output_type": "execute_result"
    }
   ],
   "source": [
    "# 파일 읽기\n",
    "docs = []\n",
    "\n",
    "with open('trump_en.txt') as f:\n",
    "    docs = f.read()   # 텍스트파일을 통채로 텍스트형태로 읽어옴\n",
    "    \n",
    "docs[:100]"
   ]
  },
  {
   "cell_type": "code",
   "execution_count": 66,
   "id": "96ef836b-c7fe-4e51-bf6d-b6ecd493b1f0",
   "metadata": {
    "tags": []
   },
   "outputs": [
    {
     "data": {
      "text/plain": [
       "[['Assembly',\n",
       "  'Speaker',\n",
       "  'Chung',\n",
       "  'distinguished',\n",
       "  'members',\n",
       "  'of',\n",
       "  'this',\n",
       "  'Assembly',\n",
       "  'ladies',\n",
       "  'and',\n",
       "  'gentlemen',\n",
       "  'Thank',\n",
       "  'you',\n",
       "  'for',\n",
       "  'the',\n",
       "  'extraordinary',\n",
       "  'privilege',\n",
       "  'to',\n",
       "  'speak',\n",
       "  'in',\n",
       "  'this',\n",
       "  'great',\n",
       "  'chamber',\n",
       "  'and',\n",
       "  'to',\n",
       "  'address',\n",
       "  'your',\n",
       "  'people',\n",
       "  'on',\n",
       "  'behalf',\n",
       "  'of',\n",
       "  'the',\n",
       "  'people',\n",
       "  'of',\n",
       "  'the',\n",
       "  'United',\n",
       "  'States',\n",
       "  'of',\n",
       "  'America']]"
      ]
     },
     "execution_count": 66,
     "metadata": {},
     "output_type": "execute_result"
    }
   ],
   "source": [
    "# 문장/단어 토큰화\n",
    "import re\n",
    "\n",
    "sents = sent_tokenize(docs)\n",
    "sents[:1]\n",
    "\n",
    "words = []\n",
    "for s in sents:\n",
    "    # 알파벳 대소문자를 제외하고 모두 제거\n",
    "    s = re.sub('[^a-zA-Z]', ' ', s).strip()\n",
    "    words.append(word_tokenize(s))\n",
    "words[:1]"
   ]
  },
  {
   "cell_type": "code",
   "execution_count": 67,
   "id": "d544ede4-c1b5-4279-9319-dc81b98c55fe",
   "metadata": {},
   "outputs": [
    {
     "data": {
      "text/plain": [
       "[['assembly',\n",
       "  'speaker',\n",
       "  'chung',\n",
       "  'distinguished',\n",
       "  'members',\n",
       "  'assembly',\n",
       "  'ladies',\n",
       "  'gentlemen',\n",
       "  'thank',\n",
       "  'extraordinary',\n",
       "  'privilege',\n",
       "  'speak',\n",
       "  'great',\n",
       "  'chamber',\n",
       "  'address',\n",
       "  'people',\n",
       "  'behalf',\n",
       "  'people',\n",
       "  'united',\n",
       "  'states',\n",
       "  'america']]"
      ]
     },
     "execution_count": 67,
     "metadata": {},
     "output_type": "execute_result"
    }
   ],
   "source": [
    "tokens1 = []\n",
    "for wds in words:\n",
    "    fwords = []\n",
    "    for w in wds:\n",
    "        w = w.lower()\n",
    "        if w not in stopwords:\n",
    "            fwords.append(w)\n",
    "    tokens1.append(fwords)\n",
    "tokens1[:1]"
   ]
  },
  {
   "cell_type": "markdown",
   "id": "659f1534-0be3-4bd0-afda-ab775e45cf83",
   "metadata": {},
   "source": [
    "### 스티브잡스 스탠포드대 졸업축사 단어 토큰화 (stevejobs_en.txt)"
   ]
  },
  {
   "cell_type": "code",
   "execution_count": 68,
   "id": "d4d70231-6618-41eb-9c85-1306c2e45f13",
   "metadata": {},
   "outputs": [
    {
     "ename": "UnicodeDecodeError",
     "evalue": "'cp949' codec can't decode byte 0xe2 in position 173: illegal multibyte sequence",
     "output_type": "error",
     "traceback": [
      "\u001b[1;31m---------------------------------------------------------------------------\u001b[0m",
      "\u001b[1;31mUnicodeDecodeError\u001b[0m                        Traceback (most recent call last)",
      "\u001b[1;32m~\\AppData\\Local\\Temp/ipykernel_5196/1609361764.py\u001b[0m in \u001b[0;36m<module>\u001b[1;34m\u001b[0m\n\u001b[0;32m      3\u001b[0m \u001b[1;33m\u001b[0m\u001b[0m\n\u001b[0;32m      4\u001b[0m \u001b[1;32mwith\u001b[0m \u001b[0mopen\u001b[0m\u001b[1;33m(\u001b[0m\u001b[1;34m'stevejobs_en.txt'\u001b[0m\u001b[1;33m)\u001b[0m \u001b[1;32mas\u001b[0m \u001b[0mf\u001b[0m\u001b[1;33m:\u001b[0m\u001b[1;33m\u001b[0m\u001b[1;33m\u001b[0m\u001b[0m\n\u001b[1;32m----> 5\u001b[1;33m     \u001b[0mdocs\u001b[0m \u001b[1;33m=\u001b[0m \u001b[0mf\u001b[0m\u001b[1;33m.\u001b[0m\u001b[0mread\u001b[0m\u001b[1;33m(\u001b[0m\u001b[1;33m)\u001b[0m   \u001b[1;31m# 텍스트파일을 통채로 텍스트형태로 읽어옴\u001b[0m\u001b[1;33m\u001b[0m\u001b[1;33m\u001b[0m\u001b[0m\n\u001b[0m\u001b[0;32m      6\u001b[0m \u001b[1;33m\u001b[0m\u001b[0m\n\u001b[0;32m      7\u001b[0m \u001b[0mdocs\u001b[0m\u001b[1;33m[\u001b[0m\u001b[1;33m:\u001b[0m\u001b[1;36m100\u001b[0m\u001b[1;33m]\u001b[0m\u001b[1;33m\u001b[0m\u001b[1;33m\u001b[0m\u001b[0m\n",
      "\u001b[1;31mUnicodeDecodeError\u001b[0m: 'cp949' codec can't decode byte 0xe2 in position 173: illegal multibyte sequence"
     ]
    }
   ],
   "source": [
    "# 파일 읽기\n",
    "docs = []\n",
    "\n",
    "with open('stevejobs_en.txt') as f:\n",
    "    docs = f.read()   # 텍스트파일을 통채로 텍스트 형태로 읽어옴\n",
    "    \n",
    "docs[:100]"
   ]
  },
  {
   "cell_type": "code",
   "execution_count": null,
   "id": "6e5877ef-2224-4d56-977c-bb75a82519fe",
   "metadata": {},
   "outputs": [],
   "source": [
    "# 문장/단어 토큰화\n",
    "sents = sent_tokenize(docs)\n",
    "sents[:1]\n",
    "\n",
    "words = []\n",
    "for s in sents:\n",
    "    s = re.sub('[^a-zA-Z]', ' ', s).strip()\n",
    "    words.append(word_tokenize(s))\n",
    "words[:1]"
   ]
  },
  {
   "cell_type": "code",
   "execution_count": null,
   "id": "104a4330-ab71-46eb-8189-d724d681fdea",
   "metadata": {},
   "outputs": [],
   "source": [
    "tokens2 = []\n",
    "for wds in words:\n",
    "    fwords = []\n",
    "    for w in wds:\n",
    "        w = w.lower()\n",
    "        if w not in stopwords:\n",
    "            fwords.append(w)\n",
    "    tokens2.append(fwords)\n",
    "tokens2[:1]"
   ]
  },
  {
   "cell_type": "markdown",
   "id": "c2fd58f2-52b7-4347-a431-cd1c7e4e0353",
   "metadata": {},
   "source": [
    "## 형태소 분석\n",
    "* 의미가 있는 최소의 단위로서 더 이상 분리가 불가능한 가장 작은 의미 요소\n",
    "* 주어진 단어 또는 어절을 구성하는 각 형태소를 분리한 후  \n",
    "  분리된 형태소의 기본형 및 품사 정보를 추출하는 것\n",
    "* 문장 > 어절 > 단어 > 어근/접두사/접미사 > 품사\n",
    "    + work : 동사/명사\n",
    "    + working : working의 원형인 work를 추출 후 동사/명사\n",
    "    + 영어의 경우 과거/현재/미래, 단수, 진행형 등에 따라 단어가 변화함\n",
    "    + 보조적으로 어근추출stemming이나 원형복원lemmatizing이 필요할 수 있음"
   ]
  },
  {
   "cell_type": "markdown",
   "id": "170d4646-0e32-42b5-b2f4-ec05323fe60d",
   "metadata": {},
   "source": [
    "## 품사태깅POS tagging\n",
    "* 단어를 문법적 기능이나 형태, 의미에 따라 구분한 것\n",
    "* NLTK에서는 Penn Treebank Tagset을 이용해서 품사태깅을 함\n",
    "* NNP, VB, VBP, TO, NN, DT, ADJ"
   ]
  },
  {
   "cell_type": "code",
   "execution_count": 74,
   "id": "df9741be-ad6d-4fa5-88d4-0b2199e62e10",
   "metadata": {},
   "outputs": [
    {
     "name": "stderr",
     "output_type": "stream",
     "text": [
      "[nltk_data] Downloading package averaged_perceptron_tagger to\n",
      "[nltk_data]     C:\\Users\\TJ\\AppData\\Roaming\\nltk_data...\n",
      "[nltk_data]   Package averaged_perceptron_tagger is already up-to-\n",
      "[nltk_data]       date!\n"
     ]
    },
    {
     "data": {
      "text/plain": [
       "True"
      ]
     },
     "execution_count": 74,
     "metadata": {},
     "output_type": "execute_result"
    }
   ],
   "source": [
    "nltk.download('averaged_perceptron_tagger')"
   ]
  },
  {
   "cell_type": "code",
   "execution_count": 75,
   "id": "2ff8ce70-6f4d-4f3e-bd8c-8e8167ecf6c1",
   "metadata": {},
   "outputs": [],
   "source": [
    "from nltk.tag import pos_tag"
   ]
  },
  {
   "cell_type": "code",
   "execution_count": 76,
   "id": "ac5428c4-ce15-4c02-8ea2-23bc17fe3f36",
   "metadata": {},
   "outputs": [
    {
     "data": {
      "text/plain": [
       "[('matrix', 'NN'),\n",
       " ('everywhere', 'RB'),\n",
       " ('around', 'IN'),\n",
       " ('us', 'PRP'),\n",
       " (',', ','),\n",
       " ('even', 'RB'),\n",
       " ('room', 'NN'),\n",
       " ('.', '.')]"
      ]
     },
     "execution_count": 76,
     "metadata": {},
     "output_type": "execute_result"
    }
   ],
   "source": [
    "# 기존 문장에 대해 품사태깅 실시\n",
    "tags = pos_tag(tokens[0])\n",
    "tags   # (RB부사, IN종속전치사, PRP대명사)"
   ]
  },
  {
   "cell_type": "code",
   "execution_count": 77,
   "id": "30d38062-a31b-4b79-8108-e49952c5eb12",
   "metadata": {},
   "outputs": [
    {
     "data": {
      "text/plain": [
       "[['matrix', 'room'], ['television'], ['feel', 'work', 'church', 'pay']]"
      ]
     },
     "execution_count": 77,
     "metadata": {},
     "output_type": "execute_result"
    }
   ],
   "source": [
    "## 분석에 필요한 토큰추출 - 품사가 명사인 토큰을 대상\n",
    "nouns = []\n",
    "for t in tokens:\n",
    "    tags = pos_tag(t)\n",
    "    NN = [l[0] for l in tags if l[1] == 'NN']\n",
    "    nouns.append(NN)\n",
    "nouns"
   ]
  },
  {
   "cell_type": "markdown",
   "id": "0f7a70a8-5b24-4ba1-b809-062150f8bbc4",
   "metadata": {},
   "source": [
    "## 트럼프 연설문 품사태깅"
   ]
  },
  {
   "cell_type": "code",
   "execution_count": 78,
   "id": "e55ba452-f356-4e15-9bd0-3de73a29572f",
   "metadata": {},
   "outputs": [
    {
     "data": {
      "text/plain": [
       "[['speaker', 'chung', 'privilege', 'speak', 'chamber'],\n",
       " ['time', 'country', 'melania', 'welcome'],\n",
       " ['night', 'president', 'mrs'],\n",
       " ['moon', 'hospitality', 'reception', 'blue', 'house'],\n",
       " ['cooperation',\n",
       "  'trade',\n",
       "  'relationship',\n",
       "  'principle',\n",
       "  'fairness',\n",
       "  'reciprocity']]"
      ]
     },
     "execution_count": 78,
     "metadata": {},
     "output_type": "execute_result"
    }
   ],
   "source": [
    "nouns1 = []\n",
    "for t in tokens1:\n",
    "    tags = pos_tag(t)\n",
    "    NN = [w[0] for w in tags if w[1]=='NN']\n",
    "    nouns1.append(NN)\n",
    "nouns1[:5]"
   ]
  },
  {
   "cell_type": "markdown",
   "id": "942418df-5b56-4796-b09d-6103a6954359",
   "metadata": {},
   "source": [
    "## 스티브잡스 스탠포드대 졸업축사 품사태깅"
   ]
  },
  {
   "cell_type": "code",
   "execution_count": 79,
   "id": "06992ab6-7309-42a2-a8ec-1519b332e5d7",
   "metadata": {},
   "outputs": [
    {
     "data": {
      "text/plain": [
       "[['speaker', 'chung', 'privilege', 'speak', 'chamber'],\n",
       " ['time', 'country', 'melania', 'welcome'],\n",
       " ['night', 'president', 'mrs'],\n",
       " ['moon', 'hospitality', 'reception', 'blue', 'house'],\n",
       " ['cooperation',\n",
       "  'trade',\n",
       "  'relationship',\n",
       "  'principle',\n",
       "  'fairness',\n",
       "  'reciprocity']]"
      ]
     },
     "execution_count": 79,
     "metadata": {},
     "output_type": "execute_result"
    }
   ],
   "source": [
    "nouns2 = []\n",
    "for t in tokens1:\n",
    "    tags = pos_tag(t)\n",
    "    NN = [w[0] for w in tags if w[1]=='NN']\n",
    "    nouns2.append(NN)\n",
    "nouns2[:5]"
   ]
  },
  {
   "cell_type": "markdown",
   "id": "2ffd7bb8-1f0c-48c9-8537-92c861d88d61",
   "metadata": {},
   "source": [
    "## 단어빈도\n",
    "* 텍스트 데이터의 대표단어를 알아볼 수 있는 방법\n",
    "* 단어별 빈도를 조사해서 알아낸 상위 n개의 단어들을 대표단어로 지정"
   ]
  },
  {
   "cell_type": "code",
   "execution_count": 80,
   "id": "de9118db-70f6-4cd3-aa24-d763d5c2ae62",
   "metadata": {},
   "outputs": [],
   "source": [
    "from nltk import FreqDist"
   ]
  },
  {
   "cell_type": "code",
   "execution_count": 81,
   "id": "07b3f0e5-dc22-4625-94a0-49b1f044a798",
   "metadata": {},
   "outputs": [],
   "source": [
    "# 먼저, 기존 단어들이 저장된 2차원 리스트를 1차원으로 바꿈\n",
    "NNO = []\n",
    "for ns in nouns:\n",
    "    for n in ns:\n",
    "        NNO.append(n)"
   ]
  },
  {
   "cell_type": "code",
   "execution_count": 82,
   "id": "89e03a27-f7bb-43c3-af21-0162e645f3db",
   "metadata": {},
   "outputs": [
    {
     "data": {
      "text/plain": [
       "FreqDist({'matrix': 1, 'room': 1, 'television': 1, 'feel': 1, 'work': 1, 'church': 1, 'pay': 1})"
      ]
     },
     "execution_count": 82,
     "metadata": {},
     "output_type": "execute_result"
    }
   ],
   "source": [
    "# 단어별 빈도 파악\n",
    "frqwords = FreqDist(NNO)\n",
    "frqwords"
   ]
  },
  {
   "cell_type": "code",
   "execution_count": 83,
   "id": "16b3d88b-776a-46bf-a407-b53b078c91d5",
   "metadata": {},
   "outputs": [
    {
     "data": {
      "text/plain": [
       "7"
      ]
     },
     "execution_count": 83,
     "metadata": {},
     "output_type": "execute_result"
    }
   ],
   "source": [
    "# FreqDist 좀 더 살펴보기\n",
    "frqwords.N()   # 7 : 전체 단어수"
   ]
  },
  {
   "cell_type": "code",
   "execution_count": 84,
   "id": "881b69f9-a987-43d0-b4ef-94374d268f6b",
   "metadata": {},
   "outputs": [
    {
     "data": {
      "text/plain": [
       "1"
      ]
     },
     "execution_count": 84,
     "metadata": {},
     "output_type": "execute_result"
    }
   ],
   "source": [
    "frqwords['room']   # 특정단어의 빈도수"
   ]
  },
  {
   "cell_type": "code",
   "execution_count": 85,
   "id": "6ae29a52-7007-4973-8288-fbe4f67576ca",
   "metadata": {},
   "outputs": [
    {
     "data": {
      "text/plain": [
       "[('matrix', 1),\n",
       " ('room', 1),\n",
       " ('television', 1),\n",
       " ('feel', 1),\n",
       " ('work', 1),\n",
       " ('church', 1),\n",
       " ('pay', 1)]"
      ]
     },
     "execution_count": 85,
     "metadata": {},
     "output_type": "execute_result"
    }
   ],
   "source": [
    "frqwords.most_common()   # 빈도수가 많은 순서대로 단어 출력"
   ]
  },
  {
   "cell_type": "code",
   "execution_count": 86,
   "id": "87c04a32-a251-4170-b648-1affdb50ee8d",
   "metadata": {},
   "outputs": [
    {
     "data": {
      "text/plain": [
       "[('matrix', 1), ('room', 1), ('television', 1)]"
      ]
     },
     "execution_count": 86,
     "metadata": {},
     "output_type": "execute_result"
    }
   ],
   "source": [
    "frqwords.most_common(3)   # 빈도수가 많은 순서대로 n개의 단어 출력"
   ]
  },
  {
   "cell_type": "markdown",
   "id": "4e41aaa2-2a2f-4470-8de8-fe67e5bb369f",
   "metadata": {},
   "source": [
    "### 트럼프 연설문에서 가장 많이 언급된 10개 단어"
   ]
  },
  {
   "cell_type": "code",
   "execution_count": 87,
   "id": "a1046cc1-7f29-4dfd-bbb7-7a5007c9cb65",
   "metadata": {},
   "outputs": [
    {
     "data": {
      "text/plain": [
       "[('regime', 15),\n",
       " ('world', 13),\n",
       " ('korea', 11),\n",
       " ('today', 10),\n",
       " ('nation', 9),\n",
       " ('time', 8),\n",
       " ('country', 8),\n",
       " ('war', 8),\n",
       " ('peninsula', 8),\n",
       " ('year', 7)]"
      ]
     },
     "execution_count": 87,
     "metadata": {},
     "output_type": "execute_result"
    }
   ],
   "source": [
    "NNO1 = []\n",
    "for ns in nouns1:\n",
    "    for n in ns:\n",
    "        NNO1.append(n)\n",
    "frqwords1 = FreqDist(NNO1)\n",
    "frqwords1.most_common(10)"
   ]
  },
  {
   "cell_type": "markdown",
   "id": "a0109a24-9d94-4b63-a4af-0f38cc576ed4",
   "metadata": {},
   "source": [
    "### 스티브잡스 스탠포드대 졸업축사에서 가장 많이 언급된 10개 단어"
   ]
  },
  {
   "cell_type": "code",
   "execution_count": 88,
   "id": "26eb152b-67ef-4219-a774-141165947e19",
   "metadata": {},
   "outputs": [
    {
     "data": {
      "text/plain": [
       "[('regime', 15),\n",
       " ('world', 13),\n",
       " ('korea', 11),\n",
       " ('today', 10),\n",
       " ('nation', 9),\n",
       " ('time', 8),\n",
       " ('country', 8),\n",
       " ('war', 8),\n",
       " ('peninsula', 8),\n",
       " ('year', 7)]"
      ]
     },
     "execution_count": 88,
     "metadata": {},
     "output_type": "execute_result"
    }
   ],
   "source": [
    "NNO2 = []\n",
    "for ns in nouns1:\n",
    "    for n in ns:\n",
    "        NNO2.append(n)\n",
    "frqwords2 = FreqDist(NNO1)\n",
    "frqwords2.most_common(10)"
   ]
  },
  {
   "cell_type": "markdown",
   "id": "d0913ac1",
   "metadata": {},
   "source": [
    "## 워드클라우드 wordcloud\n",
    "* 문서에 사용된 단어의 중요도나 인기돌르 고려해서\n",
    "  빈도를 산출한후 시각적으로 늘어놓아 표시하는 시각화 유형\n",
    "* github.com/amueller/word_cloud"
   ]
  },
  {
   "cell_type": "code",
   "execution_count": 89,
   "id": "9e0dbdd2-2f56-4224-a564-44d0fa2ba64f",
   "metadata": {},
   "outputs": [
    {
     "name": "stdout",
     "output_type": "stream",
     "text": [
      "Requirement already satisfied: wordcloud in c:\\users\\tj\\anaconda3\\envs\\hjk\\lib\\site-packages (1.8.1)\n",
      "Requirement already satisfied: pillow in c:\\users\\tj\\anaconda3\\envs\\hjk\\lib\\site-packages (from wordcloud) (8.3.2)\n",
      "Requirement already satisfied: numpy>=1.6.1 in c:\\users\\tj\\anaconda3\\envs\\hjk\\lib\\site-packages (from wordcloud) (1.20.3)\n",
      "Requirement already satisfied: matplotlib in c:\\users\\tj\\anaconda3\\envs\\hjk\\lib\\site-packages (from wordcloud) (3.4.3)\n",
      "Requirement already satisfied: cycler>=0.10 in c:\\users\\tj\\anaconda3\\envs\\hjk\\lib\\site-packages (from matplotlib->wordcloud) (0.10.0)\n",
      "Requirement already satisfied: python-dateutil>=2.7 in c:\\users\\tj\\anaconda3\\envs\\hjk\\lib\\site-packages (from matplotlib->wordcloud) (2.8.2)\n",
      "Requirement already satisfied: pyparsing>=2.2.1 in c:\\users\\tj\\anaconda3\\envs\\hjk\\lib\\site-packages (from matplotlib->wordcloud) (2.4.7)\n",
      "Requirement already satisfied: kiwisolver>=1.0.1 in c:\\users\\tj\\anaconda3\\envs\\hjk\\lib\\site-packages (from matplotlib->wordcloud) (1.3.2)\n",
      "Requirement already satisfied: six in c:\\users\\tj\\anaconda3\\envs\\hjk\\lib\\site-packages (from cycler>=0.10->matplotlib->wordcloud) (1.15.0)\n"
     ]
    }
   ],
   "source": [
    "!pip install wordcloud"
   ]
  },
  {
   "cell_type": "code",
   "execution_count": 102,
   "id": "f88c28c8",
   "metadata": {},
   "outputs": [],
   "source": [
    "from wordcloud import WordCloud\n",
    "import matplotlib.pyplot as plt"
   ]
  },
  {
   "cell_type": "code",
   "execution_count": 104,
   "id": "73519815",
   "metadata": {},
   "outputs": [],
   "source": [
    "import numpy as np\n",
    "from PIL import Image"
   ]
  },
  {
   "cell_type": "code",
   "execution_count": 101,
   "id": "10da122d-405f-475a-acd6-ad2af94556c0",
   "metadata": {},
   "outputs": [
    {
     "data": {
      "text/plain": [
       "{'regime': 15,\n",
       " 'world': 13,\n",
       " 'korea': 11,\n",
       " 'today': 10,\n",
       " 'nation': 9,\n",
       " 'time': 8,\n",
       " 'country': 8,\n",
       " 'war': 8,\n",
       " 'peninsula': 8,\n",
       " 'year': 7,\n",
       " 'peace': 7,\n",
       " 'city': 6,\n",
       " 'line': 6,\n",
       " 'life': 6,\n",
       " 'day': 6,\n",
       " 'history': 5,\n",
       " 'something': 5,\n",
       " 'dream': 5,\n",
       " 'way': 4,\n",
       " 'freedom': 4,\n",
       " 'economy': 4,\n",
       " 'strength': 4,\n",
       " 'work': 4,\n",
       " 'future': 4,\n",
       " 'destiny': 4,\n",
       " 'form': 3,\n",
       " 'half': 3,\n",
       " 'family': 3,\n",
       " 'miracle': 3,\n",
       " 'republic': 3,\n",
       " 'wealth': 3,\n",
       " 'spirit': 3,\n",
       " 'state': 3,\n",
       " 'labor': 3,\n",
       " 'kim': 3,\n",
       " 'crime': 3,\n",
       " 'death': 3,\n",
       " 'person': 3,\n",
       " 'dictatorship': 3,\n",
       " 'glory': 3,\n",
       " 'hope': 3,\n",
       " 'danger': 3,\n",
       " 'path': 3,\n",
       " 'god': 3,\n",
       " 'thank': 3,\n",
       " 'president': 2,\n",
       " 'house': 2,\n",
       " 'trade': 2,\n",
       " 'celebrate': 2,\n",
       " 'capital': 2,\n",
       " 'armistice': 2,\n",
       " 'seoul': 2,\n",
       " 'devastation': 2,\n",
       " 'earth': 2,\n",
       " 'justice': 2,\n",
       " 'f': 2,\n",
       " 'administration': 2,\n",
       " 'crisis': 2,\n",
       " 'luck': 2,\n",
       " 'promise': 2,\n",
       " 'money': 2,\n",
       " 'technology': 2,\n",
       " 'terrorism': 2,\n",
       " 'magnificent': 2,\n",
       " 'stop': 2,\n",
       " 'loyalty': 2,\n",
       " 'score': 2,\n",
       " 'tyrant': 2,\n",
       " 'torture': 2,\n",
       " 'help': 2,\n",
       " 'north': 2,\n",
       " 'control': 2,\n",
       " 'civilization': 2,\n",
       " 'oppression': 2,\n",
       " 'surveillance': 2,\n",
       " 'place': 2,\n",
       " 'cult': 2,\n",
       " 'leader': 2,\n",
       " 'heart': 2,\n",
       " 'responsibility': 2,\n",
       " 'reality': 2,\n",
       " 'conflict': 2,\n",
       " 'home': 2,\n",
       " 'man': 2,\n",
       " 'let': 2,\n",
       " 'program': 2,\n",
       " 'weakness': 2,\n",
       " 'security': 2,\n",
       " 'prosperity': 2,\n",
       " 'america': 2,\n",
       " 'message': 2,\n",
       " 'victory': 2,\n",
       " 'speaker': 1,\n",
       " 'chung': 1,\n",
       " 'privilege': 1,\n",
       " 'speak': 1,\n",
       " 'chamber': 1,\n",
       " 'melania': 1,\n",
       " 'welcome': 1,\n",
       " 'night': 1,\n",
       " 'mrs': 1,\n",
       " 'moon': 1,\n",
       " 'hospitality': 1,\n",
       " 'reception': 1,\n",
       " 'blue': 1,\n",
       " 'cooperation': 1,\n",
       " 'relationship': 1,\n",
       " 'principle': 1,\n",
       " 'fairness': 1,\n",
       " 'reciprocity': 1,\n",
       " 'visit': 1,\n",
       " 'pleasure': 1,\n",
       " 'honor': 1,\n",
       " 'create': 1,\n",
       " 'friendship': 1,\n",
       " 'alliance': 1,\n",
       " 'inchon': 1,\n",
       " 'pork': 1,\n",
       " 'chop': 1,\n",
       " 'spring': 1,\n",
       " 'price': 1,\n",
       " 'congratulate': 1,\n",
       " 'lifetime': 1,\n",
       " 'south': 1,\n",
       " 'expectancy': 1,\n",
       " 'election': 1,\n",
       " 'stock': 1,\n",
       " 'market': 1,\n",
       " 'unemployment': 1,\n",
       " 'isis': 1,\n",
       " 'court': 1,\n",
       " 'vicinity': 1,\n",
       " 'aircraft': 1,\n",
       " 'fighter': 1,\n",
       " 'addition': 1,\n",
       " 'spending': 1,\n",
       " 'equipment': 1,\n",
       " 'end': 1,\n",
       " 'anybody': 1,\n",
       " 'inspiration': 1,\n",
       " 'transformation': 1,\n",
       " 'govern': 1,\n",
       " 'restore': 1,\n",
       " 'college': 1,\n",
       " 'fact': 1,\n",
       " 'trump': 1,\n",
       " 'golf': 1,\n",
       " 'club': 1,\n",
       " 'bedminster': 1,\n",
       " 'jersey': 1,\n",
       " 'golfer': 1,\n",
       " 'sung': 1,\n",
       " 'hyun': 1,\n",
       " 'park': 1,\n",
       " 'sixty': 1,\n",
       " 'building': 1,\n",
       " 'lotte': 1,\n",
       " 'tower': 1,\n",
       " 'beautiful': 1,\n",
       " 'grace': 1,\n",
       " 'sky': 1,\n",
       " 'job': 1,\n",
       " 'rd': 1,\n",
       " 'winter': 1,\n",
       " 'grueling': 1,\n",
       " 'population': 1,\n",
       " 'pay': 1,\n",
       " 'electricity': 1,\n",
       " 'continue': 1,\n",
       " 'die': 1,\n",
       " 'hunger': 1,\n",
       " 'age': 1,\n",
       " 'percent': 1,\n",
       " 'growth': 1,\n",
       " 'malnutrition': 1,\n",
       " 'spent': 1,\n",
       " 'living': 1,\n",
       " 'allegiance': 1,\n",
       " 'starve': 1,\n",
       " 'infraction': 1,\n",
       " 'citizen': 1,\n",
       " 'picture': 1,\n",
       " 'newspaper': 1,\n",
       " 'wreck': 1,\n",
       " 'credit': 1,\n",
       " 'rank': 1,\n",
       " 'toiling': 1,\n",
       " 'starvation': 1,\n",
       " 'rape': 1,\n",
       " 'murder': 1,\n",
       " 'basis': 1,\n",
       " 'instance': 1,\n",
       " 'boy': 1,\n",
       " 'treason': 1,\n",
       " 'student': 1,\n",
       " 'school': 1,\n",
       " 'detail': 1,\n",
       " 'jong': 1,\n",
       " 'un': 1,\n",
       " 'language': 1,\n",
       " 'part': 1,\n",
       " 'christianity': 1,\n",
       " 'book': 1,\n",
       " 'kind': 1,\n",
       " 'abort': 1,\n",
       " 'woman': 1,\n",
       " 'baby': 1,\n",
       " 'father': 1,\n",
       " 'bucket': 1,\n",
       " 'deserve': 1,\n",
       " 'impure': 1,\n",
       " 'obligation': 1,\n",
       " 'horror': 1,\n",
       " 'government': 1,\n",
       " 'attempt': 1,\n",
       " 'flee': 1,\n",
       " 'think': 1,\n",
       " 'human': 1,\n",
       " 'animal': 1,\n",
       " 'realize': 1,\n",
       " 'laboratory': 1,\n",
       " 'achievement': 1,\n",
       " 'fascism': 1,\n",
       " 'result': 1,\n",
       " 'experiment': 1,\n",
       " 'gdp': 1,\n",
       " 'capita': 1,\n",
       " 'misery': 1,\n",
       " 'surprise': 1,\n",
       " 'contrast': 1,\n",
       " 'speech': 1,\n",
       " 'knowledge': 1,\n",
       " 'music': 1,\n",
       " 'possession': 1,\n",
       " 'search': 1,\n",
       " 'action': 1,\n",
       " 'society': 1,\n",
       " 'propaganda': 1,\n",
       " 'hour': 1,\n",
       " 'center': 1,\n",
       " 'rule': 1,\n",
       " 'parent': 1,\n",
       " 'protector': 1,\n",
       " 'existence': 1,\n",
       " 'proud': 1,\n",
       " 'worship': 1,\n",
       " 'build': 1,\n",
       " 'grow': 1,\n",
       " 'dictator': 1,\n",
       " 'ownership': 1,\n",
       " 'hahn': 1,\n",
       " 'landscape': 1,\n",
       " 'success': 1,\n",
       " 'cause': 1,\n",
       " 'anxiety': 1,\n",
       " 'alarm': 1,\n",
       " 'failure': 1,\n",
       " 'suffer': 1,\n",
       " 'capture': 1,\n",
       " 'plane': 1,\n",
       " 'assassinate': 1,\n",
       " 'objective': 1,\n",
       " 'spell': 1,\n",
       " 'missile': 1,\n",
       " 'defiance': 1,\n",
       " 'assurance': 1,\n",
       " 'agreement': 1,\n",
       " 'commitment': 1,\n",
       " 'plutonium': 1,\n",
       " 'deal': 1,\n",
       " 'treaty': 1,\n",
       " 'non': 1,\n",
       " 'proliferation': 1,\n",
       " 'give': 1,\n",
       " 'chance': 1,\n",
       " 'hand': 1,\n",
       " 'engagement': 1,\n",
       " 'ship': 1,\n",
       " 'japan': 1,\n",
       " 'threaten': 1,\n",
       " 'restraint': 1,\n",
       " 'miscalculation': 1,\n",
       " 'liberty': 1,\n",
       " 'applause': 1,\n",
       " 'drawn': 1,\n",
       " 'decency': 1,\n",
       " 'depravity': 1,\n",
       " 'law': 1,\n",
       " 'despair': 1,\n",
       " 'choice': 1,\n",
       " 'cost': 1,\n",
       " 'defense': 1,\n",
       " 'nazism': 1,\n",
       " 'imperialism': 1,\n",
       " 'communism': 1,\n",
       " 'confrontation': 1,\n",
       " 'resolve': 1,\n",
       " 'anyone': 1,\n",
       " 'determination': 1,\n",
       " 'doubt': 1,\n",
       " 'longer': 1,\n",
       " 'permit': 1,\n",
       " 'destruction': 1,\n",
       " 'ground': 1,\n",
       " 'secure': 1,\n",
       " 'tolerate': 1,\n",
       " 'menace': 1,\n",
       " 'rogue': 1,\n",
       " 'support': 1,\n",
       " 'supply': 1,\n",
       " 'accept': 1,\n",
       " 'china': 1,\n",
       " 'russia': 1,\n",
       " 'council': 1,\n",
       " 'sever': 1,\n",
       " 'duty': 1,\n",
       " 'confront': 1,\n",
       " 'wait': 1,\n",
       " 'threat': 1,\n",
       " 'weight': 1,\n",
       " 'conscience': 1,\n",
       " 'deliver': 1,\n",
       " 'safer': 1,\n",
       " 'grave': 1,\n",
       " 'step': 1,\n",
       " 'face': 1,\n",
       " 'grandfather': 1,\n",
       " 'hell': 1,\n",
       " 'offer': 1,\n",
       " 'aggression': 1,\n",
       " 'development': 1,\n",
       " 'denuclearization': 1,\n",
       " 'view': 1,\n",
       " 'mass': 1,\n",
       " 'discuss': 1,\n",
       " 'brighter': 1,\n",
       " 'sinister': 1,\n",
       " 'thing': 1,\n",
       " 'enjoy': 1,\n",
       " 'courage': 1,\n",
       " 'land': 1,\n",
       " 'culture': 1,\n",
       " 'community': 1,\n",
       " 'treasure': 1,\n",
       " 'sovereignty': 1,\n",
       " 'affirm': 1,\n",
       " 'dignity': 1,\n",
       " 'potential': 1,\n",
       " 'soul': 1,\n",
       " 'ambition': 1,\n",
       " 'nightmare': 1,\n",
       " 'alert': 1,\n",
       " 'bless': 1}"
      ]
     },
     "execution_count": 101,
     "metadata": {},
     "output_type": "execute_result"
    }
   ],
   "source": [
    "# 트럼프 연설문을 워드클라우드로 시각화\n",
    "wc = dict(frqwords1.most_common())\n",
    "wc"
   ]
  },
  {
   "cell_type": "code",
   "execution_count": 103,
   "id": "7a69febb-f829-45c0-b3b1-576c5f8743d0",
   "metadata": {},
   "outputs": [
    {
     "data": {
      "text/plain": [
       "(-0.5, 639.5, 479.5, -0.5)"
      ]
     },
     "execution_count": 103,
     "metadata": {},
     "output_type": "execute_result"
    },
    {
     "data": {
      "image/png": "[encoded data removed]",
      "text/plain": [
       "<Figure size 432x288 with 1 Axes>"
      ]
     },
     "metadata": {
      "needs_background": "light"
     },
     "output_type": "display_data"
    }
   ],
   "source": [
    "# 이미지 파일의 픽셀들을 numpy 배열로 생성\n",
    "mask_path = 'h.jpg'\n",
    "mask = np.array(Image.open(mask_path))\n",
    "wcimg = WordCloud(background_color='white', width=640, height=480).generate_from_frequencies(wc)\n",
    "plt.imshow(wcimg, interpolation='bilinear')\n",
    "plt.axis('off')"
   ]
  }
 ],
 "metadata": {
  "kernelspec": {
   "display_name": "Python 3 (ipykernel)",
   "language": "python",
   "name": "python3"
  },
  "language_info": {
   "codemirror_mode": {
    "name": "ipython",
    "version": 3
   },
   "file_extension": ".py",
   "mimetype": "text/x-python",
   "name": "python",
   "nbconvert_exporter": "python",
   "pygments_lexer": "ipython3",
   "version": "3.8.11"
  }
 },
 "nbformat": 4,
 "nbformat_minor": 5
}
