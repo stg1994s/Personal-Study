{
 "cells": [
  {
   "cell_type": "markdown",
   "id": "43adf3ec",
   "metadata": {},
   "source": [
    "## 이미지 인식의 꽃, CNN 익히기"
   ]
  },
  {
   "cell_type": "markdown",
   "id": "0a0ac8a1",
   "metadata": {},
   "source": [
    "## Mnist 데이터셋은 미국 국립표준기술원(NIST)이 고등학생과 인구조사국 직원 등이 쓴 손글씨를 이용해 만든 데이터.\n",
    "## 이 데이터셋을 이용해 과연 이 손글씨 이미지를 몇 %나 정확히 예측할 수 있을지 실전을 경험해 보자."
   ]
  },
  {
   "cell_type": "markdown",
   "id": "5a0ac3fe",
   "metadata": {},
   "source": [
    "## Step 1. 데이터 전처리"
   ]
  },
  {
   "cell_type": "code",
   "execution_count": 74,
   "id": "e8f80741",
   "metadata": {},
   "outputs": [],
   "source": [
    "#Mnist 데이터는 케라스를 이용해 간단히 불러올 수 있다.\n",
    "\n",
    "from keras.datasets import mnist\n",
    "from keras.utils import np_utils"
   ]
  },
  {
   "cell_type": "markdown",
   "id": "3d7393fe",
   "metadata": {},
   "source": [
    "### 불러온 이미지 데이터를 X로, 이 이미지에 0~9까지 붙인 이름표를 Y_class로 구분하여 명명한다.\n",
    "### 또는 이 7만개의 이미지 중 train으로 테스트에 사용될 부분은 test로 불러오겠다."
   ]
  },
  {
   "cell_type": "code",
   "execution_count": 75,
   "id": "2b5aa1ff",
   "metadata": {},
   "outputs": [],
   "source": [
    "## 필요한 라이브러리 불러오기\n",
    "\n",
    "import numpy \n",
    "import sys\n",
    "import tensorflow as tf"
   ]
  },
  {
   "cell_type": "code",
   "execution_count": 76,
   "id": "b4ac9fa4",
   "metadata": {},
   "outputs": [],
   "source": [
    "# seed 값을 설정한다.\n",
    "\n",
    "seed = 0\n",
    "numpy.random.seed(seed)\n",
    "tf.random.set_seed(3)"
   ]
  },
  {
   "cell_type": "markdown",
   "id": "79fa8bbe",
   "metadata": {},
   "source": [
    "### Mnist 데이터셋 불러오기"
   ]
  },
  {
   "cell_type": "code",
   "execution_count": 77,
   "id": "96b6474a",
   "metadata": {},
   "outputs": [],
   "source": [
    "(X_train, Y_class_train), (X_test, Y_class_test) = mnist.load_data()"
   ]
  },
  {
   "cell_type": "code",
   "execution_count": 78,
   "id": "1998b283",
   "metadata": {},
   "outputs": [
    {
     "name": "stdout",
     "output_type": "stream",
     "text": [
      "학습셋 이미지 수 : 60000 개:\n",
      "테스트셋 이미지 수 : 10000 개\n"
     ]
    }
   ],
   "source": [
    "print(\"학습셋 이미지 수 : %d 개:\" % (X_train.shape[0]))\n",
    "print(\"테스트셋 이미지 수 : %d 개\" % (X_test.shape[0]))"
   ]
  },
  {
   "cell_type": "markdown",
   "id": "f349a383",
   "metadata": {},
   "source": [
    "## 학습셋과 이미지수, 테스트셋 이미지 수를 확인한다. ^^"
   ]
  },
  {
   "cell_type": "code",
   "execution_count": 79,
   "id": "47c72837",
   "metadata": {},
   "outputs": [
    {
     "data": {
      "image/png": "[encoded data removed]",
      "text/plain": [
       "<Figure size 432x288 with 1 Axes>"
      ]
     },
     "metadata": {
      "needs_background": "light"
     },
     "output_type": "display_data"
    }
   ],
   "source": [
    "# 이제 그래프로 확인\n",
    "\n",
    "import matplotlib.pyplot as plt\n",
    "plt.imshow(X_train[0], cmap='Greys')\n",
    "plt.show()"
   ]
  },
  {
   "cell_type": "markdown",
   "id": "89083eb0",
   "metadata": {},
   "source": [
    "### 이 이미지는 컴퓨터는 어떻게 인식할까?\n",
    "### 이미지는 가로 28 x 세로 28 = 총 784개의 픽셀로 이루어져 있습니다. 각 픽셀은 밝기 정도에 따라 0부터 255까지의\n",
    "### 등급을 매긴다. 흰색 배경이 0이라면, 글씨가 들어간 곳은 1~255까지의 숫자 중 하나로 채워져 긴 행렬로 이루어진 하나의 집합이 됨.\n",
    "\n",
    "### 다음 코드로 이를 확인하자."
   ]
  },
  {
   "cell_type": "code",
   "execution_count": 80,
   "id": "a0a38083",
   "metadata": {},
   "outputs": [
    {
     "name": "stdout",
     "output_type": "stream",
     "text": [
      "0\t0\t0\t0\t0\t0\t0\t0\t0\t0\t0\t0\t0\t0\t0\t0\t0\t0\t0\t0\t0\t0\t0\t0\t0\t0\t0\t0\t\n",
      "0\t0\t0\t0\t0\t0\t0\t0\t0\t0\t0\t0\t0\t0\t0\t0\t0\t0\t0\t0\t0\t0\t0\t0\t0\t0\t0\t0\t\n",
      "0\t0\t0\t0\t0\t0\t0\t0\t0\t0\t0\t0\t0\t0\t0\t0\t0\t0\t0\t0\t0\t0\t0\t0\t0\t0\t0\t0\t\n",
      "0\t0\t0\t0\t0\t0\t0\t0\t0\t0\t0\t0\t0\t0\t0\t0\t0\t0\t0\t0\t0\t0\t0\t0\t0\t0\t0\t0\t\n",
      "0\t0\t0\t0\t0\t0\t0\t0\t0\t0\t0\t0\t0\t0\t0\t0\t0\t0\t0\t0\t0\t0\t0\t0\t0\t0\t0\t0\t\n",
      "0\t0\t0\t0\t0\t0\t0\t0\t0\t0\t0\t0\t3\t18\t18\t18\t126\t136\t175\t26\t166\t255\t247\t127\t0\t0\t0\t0\t\n",
      "0\t0\t0\t0\t0\t0\t0\t0\t30\t36\t94\t154\t170\t253\t253\t253\t253\t253\t225\t172\t253\t242\t195\t64\t0\t0\t0\t0\t\n",
      "0\t0\t0\t0\t0\t0\t0\t49\t238\t253\t253\t253\t253\t253\t253\t253\t253\t251\t93\t82\t82\t56\t39\t0\t0\t0\t0\t0\t\n",
      "0\t0\t0\t0\t0\t0\t0\t18\t219\t253\t253\t253\t253\t253\t198\t182\t247\t241\t0\t0\t0\t0\t0\t0\t0\t0\t0\t0\t\n",
      "0\t0\t0\t0\t0\t0\t0\t0\t80\t156\t107\t253\t253\t205\t11\t0\t43\t154\t0\t0\t0\t0\t0\t0\t0\t0\t0\t0\t\n",
      "0\t0\t0\t0\t0\t0\t0\t0\t0\t14\t1\t154\t253\t90\t0\t0\t0\t0\t0\t0\t0\t0\t0\t0\t0\t0\t0\t0\t\n",
      "0\t0\t0\t0\t0\t0\t0\t0\t0\t0\t0\t139\t253\t190\t2\t0\t0\t0\t0\t0\t0\t0\t0\t0\t0\t0\t0\t0\t\n",
      "0\t0\t0\t0\t0\t0\t0\t0\t0\t0\t0\t11\t190\t253\t70\t0\t0\t0\t0\t0\t0\t0\t0\t0\t0\t0\t0\t0\t\n",
      "0\t0\t0\t0\t0\t0\t0\t0\t0\t0\t0\t0\t35\t241\t225\t160\t108\t1\t0\t0\t0\t0\t0\t0\t0\t0\t0\t0\t\n",
      "0\t0\t0\t0\t0\t0\t0\t0\t0\t0\t0\t0\t0\t81\t240\t253\t253\t119\t25\t0\t0\t0\t0\t0\t0\t0\t0\t0\t\n",
      "0\t0\t0\t0\t0\t0\t0\t0\t0\t0\t0\t0\t0\t0\t45\t186\t253\t253\t150\t27\t0\t0\t0\t0\t0\t0\t0\t0\t\n",
      "0\t0\t0\t0\t0\t0\t0\t0\t0\t0\t0\t0\t0\t0\t0\t16\t93\t252\t253\t187\t0\t0\t0\t0\t0\t0\t0\t0\t\n",
      "0\t0\t0\t0\t0\t0\t0\t0\t0\t0\t0\t0\t0\t0\t0\t0\t0\t249\t253\t249\t64\t0\t0\t0\t0\t0\t0\t0\t\n",
      "0\t0\t0\t0\t0\t0\t0\t0\t0\t0\t0\t0\t0\t0\t46\t130\t183\t253\t253\t207\t2\t0\t0\t0\t0\t0\t0\t0\t\n",
      "0\t0\t0\t0\t0\t0\t0\t0\t0\t0\t0\t0\t39\t148\t229\t253\t253\t253\t250\t182\t0\t0\t0\t0\t0\t0\t0\t0\t\n",
      "0\t0\t0\t0\t0\t0\t0\t0\t0\t0\t24\t114\t221\t253\t253\t253\t253\t201\t78\t0\t0\t0\t0\t0\t0\t0\t0\t0\t\n",
      "0\t0\t0\t0\t0\t0\t0\t0\t23\t66\t213\t253\t253\t253\t253\t198\t81\t2\t0\t0\t0\t0\t0\t0\t0\t0\t0\t0\t\n",
      "0\t0\t0\t0\t0\t0\t18\t171\t219\t253\t253\t253\t253\t195\t80\t9\t0\t0\t0\t0\t0\t0\t0\t0\t0\t0\t0\t0\t\n",
      "0\t0\t0\t0\t55\t172\t226\t253\t253\t253\t253\t244\t133\t11\t0\t0\t0\t0\t0\t0\t0\t0\t0\t0\t0\t0\t0\t0\t\n",
      "0\t0\t0\t0\t136\t253\t253\t253\t212\t135\t132\t16\t0\t0\t0\t0\t0\t0\t0\t0\t0\t0\t0\t0\t0\t0\t0\t0\t\n",
      "0\t0\t0\t0\t0\t0\t0\t0\t0\t0\t0\t0\t0\t0\t0\t0\t0\t0\t0\t0\t0\t0\t0\t0\t0\t0\t0\t0\t\n",
      "0\t0\t0\t0\t0\t0\t0\t0\t0\t0\t0\t0\t0\t0\t0\t0\t0\t0\t0\t0\t0\t0\t0\t0\t0\t0\t0\t0\t\n",
      "0\t0\t0\t0\t0\t0\t0\t0\t0\t0\t0\t0\t0\t0\t0\t0\t0\t0\t0\t0\t0\t0\t0\t0\t0\t0\t0\t0\t\n"
     ]
    }
   ],
   "source": [
    "for x in X_train[0]:\n",
    "    for i in x:\n",
    "        sys.stdout.write('%d\\t' % i)\n",
    "    sys.stdout.write('\\n')"
   ]
  },
  {
   "cell_type": "markdown",
   "id": "c74f502b",
   "metadata": {},
   "source": [
    "### 바로 이렇게 이미지는 다시 숫자의 집합으로 바뀌어 학습셋으로 사용된다.\n",
    "### 우리가 앞서 배운 여러 예제와 마찬가지로, 속성을 담은 데이털르 딥러닝에 집어놓고 클래스를 예측한는 문제를 전환시키는 것.\n",
    "### 28 x 28 = 784개의 속성을 이용해 0~9까지 10개 클래스 중 하나를 맞히는 문제가 된다.\n",
    "\n",
    "### 이제 주어진 가로 28 세로 28개의 2차원 배열을 1차원 배열로 바꾸어 주어야 한다.\n",
    "### 이를 위해 reshape() 함수를 사용합니다."
   ]
  },
  {
   "cell_type": "code",
   "execution_count": 81,
   "id": "3123ad49",
   "metadata": {},
   "outputs": [],
   "source": [
    "X_train = X_train.reshape(X_train.shape[0], 784)"
   ]
  },
  {
   "cell_type": "markdown",
   "id": "930f8a4f",
   "metadata": {},
   "source": [
    "### 케라스는 데이터를 0에서 1 사이의 값으로 변환한 다음 구동할때 최적의 성능을 보인다.\n",
    "### 따라서 현재 0 ~ 255 사이의 값으로 이루어진 값을 0~1 사이의 값으로 바꿔야 합니다. 바꾸는 방법은 각 값을 255로 나누는 것이다.\n",
    "### 이 상황에서 데이터의 폭이 클 때 적절한 값으로 분산의 정도를 바꾸는 과정을 데이터 정규화(normalization)라고 한다."
   ]
  },
  {
   "cell_type": "markdown",
   "id": "257aad98",
   "metadata": {},
   "source": [
    "### 현재 주어진 데이터의 값은 0부터 255까지의 정수로, 정규화를 위해 255로 나누어 주려면 먼저 이 값을 실수형으로 바꿔야 한다.\n",
    "### 따라서 다음과 같이 astype() 함수를 이용해 실수형으로 바꾼 뒤 255로 나눕니다."
   ]
  },
  {
   "cell_type": "code",
   "execution_count": 82,
   "id": "1eaccdbb",
   "metadata": {},
   "outputs": [],
   "source": [
    "X_train = X_train.astype('float64')\n",
    "X_train = X_train / 255"
   ]
  },
  {
   "cell_type": "markdown",
   "id": "6ce78565",
   "metadata": {},
   "source": [
    "### X_test에도 마찬가지로 이 작업을 적용한다. 다음과 같이 한번에 적용시키자."
   ]
  },
  {
   "cell_type": "code",
   "execution_count": 83,
   "id": "7e750320",
   "metadata": {},
   "outputs": [],
   "source": [
    "X_test = X_test.reshape(X_test.shape[0], 784).astype('float64') / 255"
   ]
  },
  {
   "cell_type": "markdown",
   "id": "32404a39",
   "metadata": {},
   "source": [
    "### 자, 이제 숫자 이미지에 매겨진 이름을 확인해 볼 차례. 이제 우리는 앞서 불러온 숫자의 이미지가 5라는 것을 짐작이 가능.\n",
    "### 실제로 이 숫자의 레이블이 어떤지를 불러오고자 Y_class_train[0]을 다음과 같이 출력 해본다."
   ]
  },
  {
   "cell_type": "code",
   "execution_count": 84,
   "id": "5ae8bcd0",
   "metadata": {},
   "outputs": [
    {
     "name": "stdout",
     "output_type": "stream",
     "text": [
      "class : 5 \n"
     ]
    }
   ],
   "source": [
    "print(\"class : %d \" % (Y_class_train[0]))"
   ]
  },
  {
   "cell_type": "markdown",
   "id": "f5e4830c",
   "metadata": {},
   "source": [
    "### 그러면 이 숫자의 레이블 값인 5가 출력되는 것을 볼 수 있습니다."
   ]
  },
  {
   "cell_type": "markdown",
   "id": "b1acdf23",
   "metadata": {},
   "source": [
    "## 근데 그 전에 아이리스 품종을 예측할 때 딥러닝의 분류 문제를 해결하려면 원-핫 인코딩 방식을 적용해야 한다고 배웠다.\n",
    "### 즉, 0~9까지의 정수형 값을 갖는 현재 형태에서 0 또는 1로만 이루어진 벡터로 값을 수정해야 한다.\n",
    "### 지금까지 우리가 열어본 이미지의 class는 [5]였습니다. 이제 이를 [0,0,0,0,0,1,0,0,0,0] 으로 바꿔야한다.\n",
    "### 이를 가능케 해주는 함수가 바로 np_utils.to_categorical() 함수이다. to_categorical(클래스, 클래스 개수)의 형식으로 지정한다."
   ]
  },
  {
   "cell_type": "code",
   "execution_count": 85,
   "id": "38e052a3",
   "metadata": {},
   "outputs": [],
   "source": [
    "# 바이러니화 과정\n",
    "\n",
    "Y_train = np_utils.to_categorical(Y_class_train,10)\n",
    "Y_test = np_utils.to_categorical(Y_class_test,10)"
   ]
  },
  {
   "cell_type": "code",
   "execution_count": 86,
   "id": "b0cb42f3",
   "metadata": {},
   "outputs": [
    {
     "name": "stdout",
     "output_type": "stream",
     "text": [
      "[0. 0. 0. 0. 0. 1. 0. 0. 0. 0.]\n"
     ]
    }
   ],
   "source": [
    "print(Y_train[0])"
   ]
  },
  {
   "cell_type": "markdown",
   "id": "f3594c91",
   "metadata": {},
   "source": [
    "### 아래와 같이 원-핫 인코딩이 적용된 것을 확인 가능하다. 이것이 바로 딥러닝을 실행하기 전, 이미지 전처리 과제이다."
   ]
  },
  {
   "cell_type": "code",
   "execution_count": null,
   "id": "927d716c",
   "metadata": {},
   "outputs": [],
   "source": []
  }
 ],
 "metadata": {
  "kernelspec": {
   "display_name": "Python 3",
   "language": "python",
   "name": "python3"
  },
  "language_info": {
   "codemirror_mode": {
    "name": "ipython",
    "version": 3
   },
   "file_extension": ".py",
   "mimetype": "text/x-python",
   "name": "python",
   "nbconvert_exporter": "python",
   "pygments_lexer": "ipython3",
   "version": "3.8.8"
  }
 },
 "nbformat": 4,
 "nbformat_minor": 5
}
