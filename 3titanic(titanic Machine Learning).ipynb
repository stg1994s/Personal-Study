{
 "cells": [
  {
   "cell_type": "markdown",
   "id": "47405121-105e-4960-91ad-cff0ee27432f",
   "metadata": {},
   "source": [
    "## 타이타닉 데이터 분석"
   ]
  },
  {
   "cell_type": "code",
   "execution_count": 1,
   "id": "bf35111b-04d6-47bb-b564-484349d12103",
   "metadata": {},
   "outputs": [],
   "source": [
    "import numpy as np\n",
    "import pandas as pd\n",
    "import matplotlib.pyplot as plt\n",
    "import sklearn"
   ]
  },
  {
   "cell_type": "code",
   "execution_count": 2,
   "id": "f16487f2-cb6f-4c4e-a83b-9fe299521ec1",
   "metadata": {},
   "outputs": [],
   "source": [
    "titanic = pd.read_csv('titanic.csv')"
   ]
  },
  {
   "cell_type": "code",
   "execution_count": 6,
   "id": "385c1a85-32d6-43fd-9157-ad590d7685a9",
   "metadata": {},
   "outputs": [
    {
     "data": {
      "text/html": [
       "<div>\n",
       "<style scoped>\n",
       "    .dataframe tbody tr th:only-of-type {\n",
       "        vertical-align: middle;\n",
       "    }\n",
       "\n",
       "    .dataframe tbody tr th {\n",
       "        vertical-align: top;\n",
       "    }\n",
       "\n",
       "    .dataframe thead th {\n",
       "        text-align: right;\n",
       "    }\n",
       "</style>\n",
       "<table border=\"1\" class=\"dataframe\">\n",
       "  <thead>\n",
       "    <tr style=\"text-align: right;\">\n",
       "      <th></th>\n",
       "      <th>pclass</th>\n",
       "      <th>survived</th>\n",
       "      <th>name</th>\n",
       "      <th>sex</th>\n",
       "      <th>age</th>\n",
       "      <th>sibsp</th>\n",
       "      <th>parch</th>\n",
       "      <th>ticket</th>\n",
       "      <th>fare</th>\n",
       "      <th>embarked</th>\n",
       "      <th>life</th>\n",
       "      <th>seat</th>\n",
       "      <th>port</th>\n",
       "    </tr>\n",
       "  </thead>\n",
       "  <tbody>\n",
       "    <tr>\n",
       "      <th>0</th>\n",
       "      <td>1</td>\n",
       "      <td>1</td>\n",
       "      <td>Allen, Miss. Elisabeth Walton</td>\n",
       "      <td>female</td>\n",
       "      <td>29.0000</td>\n",
       "      <td>0</td>\n",
       "      <td>0</td>\n",
       "      <td>24160</td>\n",
       "      <td>211.3375</td>\n",
       "      <td>S</td>\n",
       "      <td>live</td>\n",
       "      <td>1st</td>\n",
       "      <td>southampthon</td>\n",
       "    </tr>\n",
       "    <tr>\n",
       "      <th>1</th>\n",
       "      <td>1</td>\n",
       "      <td>1</td>\n",
       "      <td>Allison, Master. Hudson Trevor</td>\n",
       "      <td>male</td>\n",
       "      <td>0.9167</td>\n",
       "      <td>1</td>\n",
       "      <td>2</td>\n",
       "      <td>113781</td>\n",
       "      <td>151.5500</td>\n",
       "      <td>S</td>\n",
       "      <td>live</td>\n",
       "      <td>1st</td>\n",
       "      <td>southampthon</td>\n",
       "    </tr>\n",
       "    <tr>\n",
       "      <th>2</th>\n",
       "      <td>1</td>\n",
       "      <td>0</td>\n",
       "      <td>Allison, Miss. Helen Loraine</td>\n",
       "      <td>female</td>\n",
       "      <td>2.0000</td>\n",
       "      <td>1</td>\n",
       "      <td>2</td>\n",
       "      <td>113781</td>\n",
       "      <td>151.5500</td>\n",
       "      <td>S</td>\n",
       "      <td>dead</td>\n",
       "      <td>1st</td>\n",
       "      <td>southampthon</td>\n",
       "    </tr>\n",
       "    <tr>\n",
       "      <th>3</th>\n",
       "      <td>1</td>\n",
       "      <td>0</td>\n",
       "      <td>Allison, Mr. Hudson Joshua Creighton</td>\n",
       "      <td>male</td>\n",
       "      <td>30.0000</td>\n",
       "      <td>1</td>\n",
       "      <td>2</td>\n",
       "      <td>113781</td>\n",
       "      <td>151.5500</td>\n",
       "      <td>S</td>\n",
       "      <td>dead</td>\n",
       "      <td>1st</td>\n",
       "      <td>southampthon</td>\n",
       "    </tr>\n",
       "    <tr>\n",
       "      <th>4</th>\n",
       "      <td>1</td>\n",
       "      <td>0</td>\n",
       "      <td>Allison, Mrs. Hudson J C (Bessie Waldo Daniels)</td>\n",
       "      <td>female</td>\n",
       "      <td>25.0000</td>\n",
       "      <td>1</td>\n",
       "      <td>2</td>\n",
       "      <td>113781</td>\n",
       "      <td>151.5500</td>\n",
       "      <td>S</td>\n",
       "      <td>dead</td>\n",
       "      <td>1st</td>\n",
       "      <td>southampthon</td>\n",
       "    </tr>\n",
       "    <tr>\n",
       "      <th>5</th>\n",
       "      <td>1</td>\n",
       "      <td>1</td>\n",
       "      <td>Anderson, Mr. Harry</td>\n",
       "      <td>male</td>\n",
       "      <td>48.0000</td>\n",
       "      <td>0</td>\n",
       "      <td>0</td>\n",
       "      <td>19952</td>\n",
       "      <td>26.5500</td>\n",
       "      <td>S</td>\n",
       "      <td>live</td>\n",
       "      <td>1st</td>\n",
       "      <td>southampthon</td>\n",
       "    </tr>\n",
       "    <tr>\n",
       "      <th>6</th>\n",
       "      <td>1</td>\n",
       "      <td>1</td>\n",
       "      <td>Andrews, Miss. Kornelia Theodosia</td>\n",
       "      <td>female</td>\n",
       "      <td>63.0000</td>\n",
       "      <td>1</td>\n",
       "      <td>0</td>\n",
       "      <td>13502</td>\n",
       "      <td>77.9583</td>\n",
       "      <td>S</td>\n",
       "      <td>live</td>\n",
       "      <td>1st</td>\n",
       "      <td>southampthon</td>\n",
       "    </tr>\n",
       "    <tr>\n",
       "      <th>7</th>\n",
       "      <td>1</td>\n",
       "      <td>0</td>\n",
       "      <td>Andrews, Mr. Thomas Jr</td>\n",
       "      <td>male</td>\n",
       "      <td>39.0000</td>\n",
       "      <td>0</td>\n",
       "      <td>0</td>\n",
       "      <td>112050</td>\n",
       "      <td>0.0000</td>\n",
       "      <td>S</td>\n",
       "      <td>dead</td>\n",
       "      <td>1st</td>\n",
       "      <td>southampthon</td>\n",
       "    </tr>\n",
       "    <tr>\n",
       "      <th>8</th>\n",
       "      <td>1</td>\n",
       "      <td>1</td>\n",
       "      <td>Appleton, Mrs. Edward Dale (Charlotte Lamson)</td>\n",
       "      <td>female</td>\n",
       "      <td>53.0000</td>\n",
       "      <td>2</td>\n",
       "      <td>0</td>\n",
       "      <td>11769</td>\n",
       "      <td>51.4792</td>\n",
       "      <td>S</td>\n",
       "      <td>live</td>\n",
       "      <td>1st</td>\n",
       "      <td>southampthon</td>\n",
       "    </tr>\n",
       "    <tr>\n",
       "      <th>9</th>\n",
       "      <td>1</td>\n",
       "      <td>0</td>\n",
       "      <td>Artagaveytia, Mr. Ramon</td>\n",
       "      <td>male</td>\n",
       "      <td>71.0000</td>\n",
       "      <td>0</td>\n",
       "      <td>0</td>\n",
       "      <td>PC 17609</td>\n",
       "      <td>49.5042</td>\n",
       "      <td>C</td>\n",
       "      <td>dead</td>\n",
       "      <td>1st</td>\n",
       "      <td>cherbourg</td>\n",
       "    </tr>\n",
       "  </tbody>\n",
       "</table>\n",
       "</div>"
      ],
      "text/plain": [
       "   pclass  survived                                             name     sex  \\\n",
       "0       1         1                    Allen, Miss. Elisabeth Walton  female   \n",
       "1       1         1                   Allison, Master. Hudson Trevor    male   \n",
       "2       1         0                     Allison, Miss. Helen Loraine  female   \n",
       "3       1         0             Allison, Mr. Hudson Joshua Creighton    male   \n",
       "4       1         0  Allison, Mrs. Hudson J C (Bessie Waldo Daniels)  female   \n",
       "5       1         1                              Anderson, Mr. Harry    male   \n",
       "6       1         1                Andrews, Miss. Kornelia Theodosia  female   \n",
       "7       1         0                           Andrews, Mr. Thomas Jr    male   \n",
       "8       1         1    Appleton, Mrs. Edward Dale (Charlotte Lamson)  female   \n",
       "9       1         0                          Artagaveytia, Mr. Ramon    male   \n",
       "\n",
       "       age  sibsp  parch    ticket      fare embarked  life seat          port  \n",
       "0  29.0000      0      0     24160  211.3375        S  live  1st  southampthon  \n",
       "1   0.9167      1      2    113781  151.5500        S  live  1st  southampthon  \n",
       "2   2.0000      1      2    113781  151.5500        S  dead  1st  southampthon  \n",
       "3  30.0000      1      2    113781  151.5500        S  dead  1st  southampthon  \n",
       "4  25.0000      1      2    113781  151.5500        S  dead  1st  southampthon  \n",
       "5  48.0000      0      0     19952   26.5500        S  live  1st  southampthon  \n",
       "6  63.0000      1      0     13502   77.9583        S  live  1st  southampthon  \n",
       "7  39.0000      0      0    112050    0.0000        S  dead  1st  southampthon  \n",
       "8  53.0000      2      0     11769   51.4792        S  live  1st  southampthon  \n",
       "9  71.0000      0      0  PC 17609   49.5042        C  dead  1st     cherbourg  "
      ]
     },
     "execution_count": 6,
     "metadata": {},
     "output_type": "execute_result"
    }
   ],
   "source": [
    "titanic.head(10) # 일단 대략적 정보 띄우기. "
   ]
  },
  {
   "cell_type": "markdown",
   "id": "da300958-5135-4ce2-8666-196844488d62",
   "metadata": {},
   "source": [
    "## 저번에 전처리를 한번 했었기 때문에  이번엔 머신러닝 위주로 \n",
    "## 결측치 확인"
   ]
  },
  {
   "cell_type": "code",
   "execution_count": 9,
   "id": "ebd6538e-3e1d-4a25-b816-3f97a3299c0d",
   "metadata": {},
   "outputs": [
    {
     "data": {
      "text/plain": [
       "dead    808\n",
       "live    498\n",
       "Name: life, dtype: int64"
      ]
     },
     "execution_count": 9,
     "metadata": {},
     "output_type": "execute_result"
    }
   ],
   "source": [
    "# 레이블 분포 확인\n",
    "titanic.life.value_counts()"
   ]
  },
  {
   "cell_type": "code",
   "execution_count": 10,
   "id": "db017162-5666-416f-b1ce-2055b3a1c8dd",
   "metadata": {},
   "outputs": [
    {
     "data": {
      "text/plain": [
       "male      842\n",
       "female    464\n",
       "Name: sex, dtype: int64"
      ]
     },
     "execution_count": 10,
     "metadata": {},
     "output_type": "execute_result"
    }
   ],
   "source": [
    "# 여러 특징 중 성별 분류 확인\n",
    "titanic.sex.value_counts()"
   ]
  },
  {
   "cell_type": "code",
   "execution_count": 12,
   "id": "9aeffd83-498c-4b34-bef7-1afcfd803479",
   "metadata": {},
   "outputs": [
    {
     "data": {
      "text/plain": [
       "southampthon    913\n",
       "cherbourg       270\n",
       "qeenstown       123\n",
       "Name: port, dtype: int64"
      ]
     },
     "execution_count": 12,
     "metadata": {},
     "output_type": "execute_result"
    }
   ],
   "source": [
    "# 여러 특성들 중 승선위치 분포 확인\n",
    "titanic.port.value_counts()"
   ]
  },
  {
   "cell_type": "markdown",
   "id": "786d5a2a-c715-425f-93ab-7817e51792ce",
   "metadata": {},
   "source": [
    "# 데이터 분석시 문자형 값보다는 숮자형 값을 더 잘 인식함\n",
    "# 문자형 값 -> 숫자형값으로 변환하는 과정 필요"
   ]
  },
  {
   "cell_type": "code",
   "execution_count": 20,
   "id": "277e46ed-6445-49e2-8f08-92d232f8e180",
   "metadata": {},
   "outputs": [
    {
     "data": {
      "text/html": [
       "<div>\n",
       "<style scoped>\n",
       "    .dataframe tbody tr th:only-of-type {\n",
       "        vertical-align: middle;\n",
       "    }\n",
       "\n",
       "    .dataframe tbody tr th {\n",
       "        vertical-align: top;\n",
       "    }\n",
       "\n",
       "    .dataframe thead th {\n",
       "        text-align: right;\n",
       "    }\n",
       "</style>\n",
       "<table border=\"1\" class=\"dataframe\">\n",
       "  <thead>\n",
       "    <tr style=\"text-align: right;\">\n",
       "      <th></th>\n",
       "      <th>sex</th>\n",
       "      <th>gender</th>\n",
       "    </tr>\n",
       "  </thead>\n",
       "  <tbody>\n",
       "    <tr>\n",
       "      <th>0</th>\n",
       "      <td>female</td>\n",
       "      <td>0</td>\n",
       "    </tr>\n",
       "    <tr>\n",
       "      <th>1</th>\n",
       "      <td>male</td>\n",
       "      <td>1</td>\n",
       "    </tr>\n",
       "    <tr>\n",
       "      <th>2</th>\n",
       "      <td>female</td>\n",
       "      <td>0</td>\n",
       "    </tr>\n",
       "    <tr>\n",
       "      <th>3</th>\n",
       "      <td>male</td>\n",
       "      <td>1</td>\n",
       "    </tr>\n",
       "    <tr>\n",
       "      <th>4</th>\n",
       "      <td>female</td>\n",
       "      <td>0</td>\n",
       "    </tr>\n",
       "  </tbody>\n",
       "</table>\n",
       "</div>"
      ],
      "text/plain": [
       "      sex  gender\n",
       "0  female       0\n",
       "1    male       1\n",
       "2  female       0\n",
       "3    male       1\n",
       "4  female       0"
      ]
     },
     "execution_count": 20,
     "metadata": {},
     "output_type": "execute_result"
    }
   ],
   "source": [
    "# 성별을 레이블인코딩으로 숫자형으로 변환 -> 파생변수\n",
    "titanic['gender'] = titanic['sex'].apply(lambda x: 0 if x =='female' else 1)\n",
    "titanic.iloc[:, [3, 13]].head(5)"
   ]
  },
  {
   "cell_type": "code",
   "execution_count": 23,
   "id": "cab012a7-ccf3-494e-9382-9da4b2787b42",
   "metadata": {},
   "outputs": [],
   "source": [
    "# 승선위치를 레이블인코딩으로 숫자형으로 변환 -> 파생변수\n",
    "titanic['harbor'] = titanic['embarked'].apply(lambda x: 0 if x == 'C' else (1 if x == 'S' else 2) )"
   ]
  },
  {
   "cell_type": "markdown",
   "id": "70e1aa1e-9ea9-43c1-95e2-3bf9b54b46c9",
   "metadata": {},
   "source": [
    "## 이렇게 쓰면 가독성이 떨어지죠? 성적 프로그램을 인라인으로 쓰면 어떻게되요? 가독성이 떨어짐. 따라서"
   ]
  },
  {
   "cell_type": "markdown",
   "id": "b048e670-8c99-43a3-972e-f4b93ccda511",
   "metadata": {},
   "source": [
    "### 분석에 필요한 컬럼을 뽑아 특성/ 레이블을 만듦."
   ]
  },
  {
   "cell_type": "code",
   "execution_count": 28,
   "id": "43185d9a-b1f5-4c3b-a99d-9eab91563da5",
   "metadata": {},
   "outputs": [],
   "source": [
    "data = titanic.iloc[:, [0,4,4,5,6,8,13,14]]\n",
    "target = titanic.survived"
   ]
  },
  {
   "cell_type": "code",
   "execution_count": null,
   "id": "94d2e459-6b10-4e6f-96ab-df8853b8e311",
   "metadata": {},
   "outputs": [],
   "source": [
    "from sklearn.tree import Decision"
   ]
  },
  {
   "cell_type": "markdown",
   "id": "5435dde1-1300-45ee-b201-2c5505f6ce09",
   "metadata": {},
   "source": [
    "# 훈련 / 평가 데이터 분할"
   ]
  },
  {
   "cell_type": "code",
   "execution_count": 32,
   "id": "310b2448-335b-4635-97a2-10cf13f6c287",
   "metadata": {},
   "outputs": [],
   "source": [
    "from sklearn.model_selection import train_test_split\n",
    "from sklearn.model_selection import cross_val_score\n",
    "from sklearn.model_selection import KFold\n",
    "from sklearn.tree import DecisionTreeClassifier\n",
    "from sklearn.ensemble import RandomForestClassifier\n",
    "from sklearn.linear_model import LogisticRegression\n",
    "from sklearn.neighbors import KNeighborsClassifier\n",
    "from sklearn.metrics import accuracy_score"
   ]
  },
  {
   "cell_type": "code",
   "execution_count": 33,
   "id": "8e6664de-2f39-45fd-b579-0ccb3d488bd6",
   "metadata": {},
   "outputs": [],
   "source": [
    "Xtrain, Xtest, ytrain, ytest = train_test_split(data, target, train_size=0.7, random_state=2111041110)"
   ]
  },
  {
   "cell_type": "code",
   "execution_count": 35,
   "id": "67bf32e5-1bc6-49b9-b386-51de4bcab043",
   "metadata": {},
   "outputs": [
    {
     "data": {
      "text/plain": [
       "0.7755102040816326"
      ]
     },
     "execution_count": 35,
     "metadata": {},
     "output_type": "execute_result"
    }
   ],
   "source": [
    "# 의사결정나무\n",
    "\n",
    "dtclf = DecisionTreeClassifier()\n",
    "dtclf.fit(Xtrain, ytrain)\n",
    "pred = dtclf.predict(Xtest)\n",
    "accuracy_score(ytest, pred)"
   ]
  },
  {
   "cell_type": "code",
   "execution_count": 37,
   "id": "f08e8ff7-0004-40dd-8cbf-f4b774d25814",
   "metadata": {},
   "outputs": [
    {
     "name": "stderr",
     "output_type": "stream",
     "text": [
      "C:\\Users\\TJ\\anaconda3\\envs\\HJK\\lib\\site-packages\\sklearn\\linear_model\\_logistic.py:814: ConvergenceWarning: lbfgs failed to converge (status=1):\n",
      "STOP: TOTAL NO. of ITERATIONS REACHED LIMIT.\n",
      "\n",
      "Increase the number of iterations (max_iter) or scale the data as shown in:\n",
      "    https://scikit-learn.org/stable/modules/preprocessing.html\n",
      "Please also refer to the documentation for alternative solver options:\n",
      "    https://scikit-learn.org/stable/modules/linear_model.html#logistic-regression\n",
      "  n_iter_i = _check_optimize_result(\n"
     ]
    },
    {
     "data": {
      "text/plain": [
       "0.8010204081632653"
      ]
     },
     "execution_count": 37,
     "metadata": {},
     "output_type": "execute_result"
    }
   ],
   "source": [
    "# 로지스틱 회귀\n",
    "\n",
    "lrclf = LogisticRegression()\n",
    "lrclf.fit(Xtrain, ytrain)\n",
    "pred = lrclf.predict(Xtest)\n",
    "accuracy_score(ytest, pred)"
   ]
  },
  {
   "cell_type": "code",
   "execution_count": 38,
   "id": "f480f11f-67f9-46d7-844d-624e21701d07",
   "metadata": {},
   "outputs": [
    {
     "data": {
      "text/plain": [
       "0.8035714285714286"
      ]
     },
     "execution_count": 38,
     "metadata": {},
     "output_type": "execute_result"
    }
   ],
   "source": [
    "# 랜덤포레스트\n",
    "\n",
    "rfclf = RandomForestClassifier()\n",
    "rfclf.fit(Xtrain, ytrain)\n",
    "pred = rfclf.predict(Xtest)\n",
    "accuracy_score(ytest, pred)"
   ]
  },
  {
   "cell_type": "code",
   "execution_count": 39,
   "id": "dd5416c7-4d6a-4980-a2e5-d305d5a0e605",
   "metadata": {},
   "outputs": [
    {
     "data": {
      "text/plain": [
       "0.7487081620669407"
      ]
     },
     "execution_count": 39,
     "metadata": {},
     "output_type": "execute_result"
    }
   ],
   "source": [
    "# 교차검증 1\n",
    "dtclf = DecisionTreeClassifier(max_depth=3)\n",
    "scores = cross_val_score(dtclf, data, target, cv=10, scoring = 'accuracy')\n",
    "np.mean(scores)"
   ]
  },
  {
   "cell_type": "code",
   "execution_count": 42,
   "id": "40317012-9854-44a1-a9a2-bb662a82bbe8",
   "metadata": {},
   "outputs": [
    {
     "data": {
      "text/plain": [
       "0.7501820317087493"
      ]
     },
     "execution_count": 42,
     "metadata": {},
     "output_type": "execute_result"
    }
   ],
   "source": [
    "lrclf = LogisticRegression(max_iter=300)\n",
    "scores = cross_val_score(lrclf, data, target, cv=10, scoring = 'accuracy')\n",
    "np.mean(scores) # 0.75"
   ]
  },
  {
   "cell_type": "markdown",
   "id": "3204567f-3a1a-4d39-be50-a9702f2f0038",
   "metadata": {},
   "source": [
    "### 머신러닝 모델 평가"
   ]
  },
  {
   "cell_type": "markdown",
   "id": "dd3218c3-9bc5-472c-983a-e046cd87c7a2",
   "metadata": {},
   "source": [
    "## 정확도만으로 모델의 성능을 평가 하는 것이 과연 옳은것인가? \n",
    "## 그것만으로는 모델의 성능을 평가하는 것이 무조건 옳지 않다. 타이타닉 데이터처럼 종속변류의 분류값이 편중이 되있다면 모델의 정확도를 정확하게 판단할 수 없다는 얘깁니다."
   ]
  },
  {
   "cell_type": "code",
   "execution_count": 43,
   "id": "c5dfb266-acb8-46ff-a969-8f98854d55fa",
   "metadata": {},
   "outputs": [
    {
     "data": {
      "text/plain": [
       "dead    808\n",
       "live    498\n",
       "Name: life, dtype: int64"
      ]
     },
     "execution_count": 43,
     "metadata": {},
     "output_type": "execute_result"
    }
   ],
   "source": [
    "titanic.life.value_counts()"
   ]
  },
  {
   "cell_type": "code",
   "execution_count": 44,
   "id": "22e817f5-4fa4-4e8d-8988-cad2136634c6",
   "metadata": {},
   "outputs": [
    {
     "data": {
      "text/plain": [
       "gender  life\n",
       "0       dead    127\n",
       "        live    337\n",
       "1       dead    681\n",
       "        live    161\n",
       "Name: life, dtype: int64"
      ]
     },
     "execution_count": 44,
     "metadata": {},
     "output_type": "execute_result"
    }
   ],
   "source": [
    "# 성별에 따른 생존여부\n",
    "titanic.groupby(['gender','life'])['life'].count()"
   ]
  },
  {
   "cell_type": "markdown",
   "id": "f4495128-8f16-49ce-be4b-c7973f80e9df",
   "metadata": {},
   "source": [
    "## ==> 여성의 생존율이 남성의 생존률보다 높기 때문에 간단한 조건문만으로 모델을 만들 수도 있음."
   ]
  },
  {
   "cell_type": "code",
   "execution_count": null,
   "id": "938bbbde-4000-4706-ba90-3e112e96616f",
   "metadata": {},
   "outputs": [],
   "source": []
  }
 ],
 "metadata": {
  "kernelspec": {
   "display_name": "Python 3 (ipykernel)",
   "language": "python",
   "name": "python3"
  },
  "language_info": {
   "codemirror_mode": {
    "name": "ipython",
    "version": 3
   },
   "file_extension": ".py",
   "mimetype": "text/x-python",
   "name": "python",
   "nbconvert_exporter": "python",
   "pygments_lexer": "ipython3",
   "version": "3.8.11"
  }
 },
 "nbformat": 4,
 "nbformat_minor": 5
}
